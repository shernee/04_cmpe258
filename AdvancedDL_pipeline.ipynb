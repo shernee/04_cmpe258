{
  "nbformat": 4,
  "nbformat_minor": 0,
  "metadata": {
    "colab": {
      "provenance": [],
      "authorship_tag": "ABX9TyMGBS30LcFix7Fz452wH7j9",
      "include_colab_link": true
    },
    "kernelspec": {
      "name": "python3",
      "display_name": "Python 3"
    },
    "language_info": {
      "name": "python"
    }
  },
  "cells": [
    {
      "cell_type": "markdown",
      "metadata": {
        "id": "view-in-github",
        "colab_type": "text"
      },
      "source": [
        "<a href=\"https://colab.research.google.com/github/shernee/04_cmpe258/blob/master/AdvancedDL_pipeline.ipynb\" target=\"_parent\"><img src=\"https://colab.research.google.com/assets/colab-badge.svg\" alt=\"Open In Colab\"/></a>"
      ]
    },
    {
      "cell_type": "code",
      "source": [
        "import tensorflow as tf\n",
        "import numpy as np\n",
        "\n",
        "from sklearn.datasets import fetch_california_housing\n",
        "from sklearn.model_selection import train_test_split\n",
        "from sklearn.preprocessing import StandardScaler"
      ],
      "metadata": {
        "id": "CCF-f3twJ-pR"
      },
      "execution_count": 1,
      "outputs": []
    },
    {
      "cell_type": "code",
      "source": [
        "(X_train_full, y_train_full), (X_test_full, y_test_full) = tf.keras.datasets.mnist.load_data(\n",
        "    path='mnist.npz'\n",
        ")"
      ],
      "metadata": {
        "colab": {
          "base_uri": "https://localhost:8080/"
        },
        "id": "yM4iLjGmvkV0",
        "outputId": "efb8a762-166b-416e-b35c-c213a9083c89"
      },
      "execution_count": 2,
      "outputs": [
        {
          "output_type": "stream",
          "name": "stdout",
          "text": [
            "Downloading data from https://storage.googleapis.com/tensorflow/tf-keras-datasets/mnist.npz\n",
            "11490434/11490434 [==============================] - 0s 0us/step\n"
          ]
        }
      ]
    },
    {
      "cell_type": "code",
      "execution_count": 27,
      "metadata": {
        "id": "C6QgX-RAIxQM"
      },
      "outputs": [],
      "source": [
        "X_train = X_train_full[:400]\n",
        "y_train = tf.cast(y_train_full[:400], dtype=np.float32)\n",
        "X_test = X_test_full[:100]\n",
        "y_test = tf.cast(y_test_full[:100], dtype=np.float32)\n",
        "X_train = X_train.astype(np.float32) / 255.\n",
        "X_test = X_test.astype(np.float32) / 255."
      ]
    },
    {
      "cell_type": "markdown",
      "source": [
        "#### Some custom objects"
      ],
      "metadata": {
        "id": "ZrIwJCDFFFRy"
      }
    },
    {
      "cell_type": "code",
      "source": [
        "# custom loss\n",
        "\n",
        "class CustomCELoss(tf.keras.losses.Loss):\n",
        "    def __init__(self):\n",
        "        super().__init__()\n",
        "\n",
        "    def call(self, y_true, y_pred):        \n",
        "        log_y_pred = tf.math.log(y_pred)\n",
        "        elements = -tf.math.multiply_no_nan(x=log_y_pred, y=y_true)\n",
        "        return tf.reduce_mean(tf.reduce_sum(elements,axis=1))\n",
        "\n",
        "    def get_config(self):\n",
        "        base_config = super().get_config()\n",
        "        return {**base_config}"
      ],
      "metadata": {
        "id": "Rc3bCGzGNJ3u"
      },
      "execution_count": 4,
      "outputs": []
    },
    {
      "cell_type": "code",
      "source": [
        "# custom regularizer\n",
        "\n",
        "def custom_l2_regularizer(weights):\n",
        "    return tf.reduce_sum(0.02 * tf.square(weights))"
      ],
      "metadata": {
        "id": "s-hRs5D_BkKg"
      },
      "execution_count": 5,
      "outputs": []
    },
    {
      "cell_type": "code",
      "source": [
        "# custom activation\n",
        "\n",
        "def custom_relu(x):\n",
        "    return tf.keras.backend.maximum(-0.1, x)\n"
      ],
      "metadata": {
        "id": "SmoAnDNORZPC"
      },
      "execution_count": 6,
      "outputs": []
    },
    {
      "cell_type": "code",
      "source": [
        "# custom initializer\n",
        "\n",
        "def custom_glorot_initializer(shape, dtype=tf.float32):\n",
        "    stddev = tf.sqrt(2. / (shape[0] + shape[1]))\n",
        "    return tf.random.normal(shape, stddev=stddev, dtype=dtype)"
      ],
      "metadata": {
        "id": "EboZCKq4S4mZ"
      },
      "execution_count": 7,
      "outputs": []
    },
    {
      "cell_type": "code",
      "source": [
        "# custom kernel constraint\n",
        "\n",
        "class CustomKernelConstraint(tf.keras.constraints.Constraint):\n",
        "  def __init__(self):\n",
        "    super().__init__()\n",
        "  \n",
        "  def call(self, weights):\n",
        "    return tf.where(weights < 0., tf.zeros_like(weights), weights)\n",
        "\n",
        "  def get_config(self):\n",
        "        base_config = super().get_config()\n",
        "        return {**base_config}\n",
        "\n",
        "custom_constraint = CustomKernelConstraint()"
      ],
      "metadata": {
        "id": "Fo4XlOcjVdKV"
      },
      "execution_count": 8,
      "outputs": []
    },
    {
      "cell_type": "code",
      "source": [
        "# custom seed generator\n",
        "\n",
        "def custom_seed_generator(seed: int):\n",
        "  tf.random.set_seed(seed)\n",
        "  np.random.seed(seed)"
      ],
      "metadata": {
        "id": "SIRsy_KpdX-v"
      },
      "execution_count": 9,
      "outputs": []
    },
    {
      "cell_type": "code",
      "source": [
        "# custom metric\n",
        "\n",
        "class CustomCEMetric(tf.keras.metrics.Mean):\n",
        "    def __init__(self, name='CEMetric', dtype=None):\n",
        "        self.ce_func = CustomCELoss()\n",
        "        super().__init__(name=name, dtype=dtype)\n",
        "\n",
        "    def update_state(self, y_true, y_pred, sample_weight=None):\n",
        "        metric = self.ce_func(y_true, y_pred)\n",
        "        super(CustomCEMetric, self).update_state(metric, sample_weight)\n",
        "\n",
        "    def get_config(self):\n",
        "        base_config = super().get_config()\n",
        "        return {**base_config}\n"
      ],
      "metadata": {
        "id": "bElywZuhj4tR"
      },
      "execution_count": 10,
      "outputs": []
    },
    {
      "cell_type": "code",
      "source": [
        "# custom callback - early stopping\n",
        "\n",
        "class CustomEarlyStopping(tf.keras.callbacks.Callback):\n",
        "\n",
        "    def __init__(self, patience=0):\n",
        "        super().__init__()\n",
        "        self.patience = patience \n",
        "        self.best_weights = None\n",
        "\n",
        "    def on_train_begin(self, logs=None):\n",
        "        # The number of epoch it has waited when loss is no longer minimum.\n",
        "        self.wait = 0\n",
        "        # The epoch the training stops at.\n",
        "        self.stopped_epoch = 0\n",
        "        # Initialize the best as infinity.\n",
        "        self.best = np.Inf\n",
        "\n",
        "    def on_epoch_end(self, epoch, logs=None):\n",
        "        current = logs.get(\"loss\")\n",
        "        if np.less(current, self.best):\n",
        "            self.best = current\n",
        "            self.wait = 0\n",
        "            self.best_weights = self.model.get_weights()\n",
        "        else:\n",
        "            self.wait += 1\n",
        "            if self.wait >= self.patience:\n",
        "                self.stopped_epoch = epoch\n",
        "                self.model.stop_training = True\n",
        "                print(\"Restoring model weights from the end of the best epoch.\")\n",
        "                self.model.set_weights(self.best_weights)\n",
        "\n",
        "    def on_train_end(self, logs=None):\n",
        "        if self.stopped_epoch > 0:\n",
        "            print(\"Epoch %05d: early stopping\" % (self.stopped_epoch + 1))\n"
      ],
      "metadata": {
        "id": "pEZ0Jor8v62X"
      },
      "execution_count": 11,
      "outputs": []
    },
    {
      "cell_type": "code",
      "source": [
        "# custom optimizer\n",
        "\n",
        "class CustomOptimizer(tf.keras.optimizers.Adam):\n",
        "  def __init__(self, dropout_rate):\n",
        "    super().__init__()\n",
        "    self.dropout_rate = dropout_rate\n",
        "  \n",
        "  def _resource_apply_dense(self, grad, var):\n",
        "    dropout_mask = tf.keras.backend.random_binomial(tf.shape(var), p=1-self.dropout_rate)\n",
        "    grad = grad * dropout_mask\n",
        "    return super()._resource_apply_dense(grad, var)"
      ],
      "metadata": {
        "id": "fZDPYxqpMsSl"
      },
      "execution_count": 12,
      "outputs": []
    },
    {
      "cell_type": "code",
      "source": [
        "# custom lr scheduler\n",
        "\n",
        "def exponential_decay(lr0, s):\n",
        "    def exponential_decay_fn(epoch):\n",
        "        return lr0 * 0.1 ** (epoch / s)\n",
        "    return exponential_decay_fn\n",
        "\n",
        "exponential_decay_fn = exponential_decay(lr0=0.01, s=20)\n",
        "lr_scheduler = tf.keras.callbacks.LearningRateScheduler(exponential_decay_fn)"
      ],
      "metadata": {
        "id": "uUOuHNRzTcsT"
      },
      "execution_count": 13,
      "outputs": []
    },
    {
      "cell_type": "code",
      "source": [
        "# custom dropout\n",
        "\n",
        "class CustomDropout(tf.keras.layers.Layer):\n",
        "    def __init__(self, rate=0.5, **kwargs):\n",
        "        super().__init__(**kwargs)\n",
        "        self.rate = rate\n",
        "\n",
        "    def build(self, input_shape):\n",
        "        super().build(input_shape)\n",
        "\n",
        "    def call(self, inputs, training=None):\n",
        "        def dropout():\n",
        "            # Generate a random tensor with the same shape as inputs\n",
        "            mask = tf.keras.backend.random_binomial(tf.shape(inputs), p=1-self.rate)\n",
        "            # Scale the masked values to preserve the mean\n",
        "            outputs = inputs * mask / (1 - self.rate)\n",
        "            return outputs\n",
        "\n",
        "        return tf.keras.backend.in_train_phase(dropout(), inputs, training=training)\n",
        "\n",
        "    def get_config(self):\n",
        "        config = super().get_config()\n",
        "        config['rate'] = self.rate\n",
        "        return config"
      ],
      "metadata": {
        "id": "2TPQk7z7Ug9m"
      },
      "execution_count": 14,
      "outputs": []
    },
    {
      "cell_type": "code",
      "source": [
        "# custom layer\n",
        "\n",
        "class CustomDense(tf.keras.layers.Layer):\n",
        "    def __init__(self, units, activation='relu'):\n",
        "      super().__init__()\n",
        "      self.units = units\n",
        "      self.activation = tf.keras.activations.get(activation)\n",
        "\n",
        "    def build(self, input_shape):\n",
        "      self.kernel = self.add_weight(shape=(input_shape[1], self.units), initializer='normal', trainable=True)\n",
        "      self.biases = self.add_weight(shape=(self.units,), initializer='zeros', trainable=True)\n",
        "      super().build(input_shape)\n",
        "\n",
        "    def call(self, X):\n",
        "      return self.activation(X @ self.kernel + self.biases)"
      ],
      "metadata": {
        "id": "dTFZLCp8yYuN"
      },
      "execution_count": 15,
      "outputs": []
    },
    {
      "cell_type": "markdown",
      "source": [
        "#### Using a model with multiple custom objects defined above"
      ],
      "metadata": {
        "id": "CS2TKxT9E9fd"
      }
    },
    {
      "cell_type": "code",
      "source": [
        "custom_seed_generator(21)\n"
      ],
      "metadata": {
        "id": "P-ZCgelKYfkM"
      },
      "execution_count": 22,
      "outputs": []
    },
    {
      "cell_type": "code",
      "source": [
        "n_epochs = 2\n",
        "batch_size = 16\n",
        "n_steps = len(X_train) // batch_size\n",
        "custom_ce_metric = CustomCEMetric()\n",
        "custom_loss = CustomCELoss()\n",
        "\n",
        "model = tf.keras.Sequential([\n",
        "    tf.keras.layers.Flatten(input_shape=[28, 28]),\n",
        "    tf.keras.layers.Dense(60, activation=custom_relu,\n",
        "                          kernel_initializer=custom_glorot_initializer,\n",
        "                          kernel_regularizer=custom_l2_regularizer,\n",
        "                          kernel_constraint=custom_constraint),\n",
        "    CustomDropout(rate=0.2),\n",
        "    CustomDense(30),\n",
        "    tf.keras.layers.Dense(1, activation=\"softmax\"),\n",
        "])\n",
        "\n",
        "\n",
        "model.compile(loss=custom_loss, optimizer=CustomOptimizer(dropout_rate=0.1), metrics=[custom_ce_metric])\n",
        "\n",
        "model.fit(x=X_train, y=y_train, epochs=n_epochs, batch_size=batch_size, validation_data=(X_test, y_test), callbacks=[CustomEarlyStopping(), lr_scheduler])"
      ],
      "metadata": {
        "colab": {
          "base_uri": "https://localhost:8080/"
        },
        "id": "0kTPzOlFY2DD",
        "outputId": "c351b62d-2c2c-4443-d700-c122073d2413"
      },
      "execution_count": 50,
      "outputs": [
        {
          "output_type": "stream",
          "name": "stderr",
          "text": [
            "/usr/local/lib/python3.10/dist-packages/tensorflow/python/util/dispatch.py:1176: UserWarning: `tf.keras.backend.random_binomial` is deprecated, and will be removed in a future version.Please use `tf.keras.backend.random_bernoulli` instead.\n",
            "  return dispatch_target(*args, **kwargs)\n"
          ]
        },
        {
          "output_type": "stream",
          "name": "stdout",
          "text": [
            "25/25 [==============================] - 1s 13ms/step - loss: 0.3627 - CEMetric: 2.5794e-07 - val_loss: 0.0502 - val_CEMetric: 0.0000e+00 - lr: 0.0100\n"
          ]
        },
        {
          "output_type": "execute_result",
          "data": {
            "text/plain": [
              "<keras.callbacks.History at 0x7f030845a920>"
            ]
          },
          "metadata": {},
          "execution_count": 50
        }
      ]
    },
    {
      "cell_type": "markdown",
      "source": [
        "#### Saving and loading a model with custom objects"
      ],
      "metadata": {
        "id": "nVbSijaDE3YA"
      }
    },
    {
      "cell_type": "code",
      "source": [
        "optimizer = tf.keras.optimizers.Adam(learning_rate=0.01)\n",
        "loss_fn = tf.keras.losses.categorical_crossentropy\n",
        "metrics = [tf.keras.metrics.categorical_crossentropy]\n",
        "\n",
        "model = tf.keras.Sequential([\n",
        "    tf.keras.layers.Flatten(input_shape=[28, 28]),\n",
        "    tf.keras.layers.Dense(60, activation=custom_relu),\n",
        "    tf.keras.layers.Dropout(rate=0.2),\n",
        "     tf.keras.layers.Dense(30, activation=\"relu\"),\n",
        "    tf.keras.layers.Dense(1, activation=\"softmax\"),\n",
        "])\n",
        "\n",
        "model.compile(loss=loss_fn, optimizer=optimizer, metrics=metrics)\n",
        "model.fit(x=X_train, y=y_train, epochs=n_epochs, batch_size=batch_size)"
      ],
      "metadata": {
        "colab": {
          "base_uri": "https://localhost:8080/"
        },
        "id": "20UQjWjZ_g4Y",
        "outputId": "0527871d-87db-40c5-c511-901dfbd5b9e3"
      },
      "execution_count": 53,
      "outputs": [
        {
          "output_type": "stream",
          "name": "stderr",
          "text": [
            "/usr/local/lib/python3.10/dist-packages/tensorflow/python/util/dispatch.py:1176: SyntaxWarning: In loss categorical_crossentropy, expected y_pred.shape to be (batch_size, num_classes) with num_classes > 1. Received: y_pred.shape=(16, 1). Consider using 'binary_crossentropy' if you only have 2 classes.\n",
            "  return dispatch_target(*args, **kwargs)\n"
          ]
        },
        {
          "output_type": "stream",
          "name": "stdout",
          "text": [
            "25/25 [==============================] - 2s 3ms/step - loss: 0.0000e+00 - categorical_crossentropy: 0.0000e+00\n"
          ]
        },
        {
          "output_type": "execute_result",
          "data": {
            "text/plain": [
              "<keras.callbacks.History at 0x7f0308127430>"
            ]
          },
          "metadata": {},
          "execution_count": 53
        }
      ]
    },
    {
      "cell_type": "code",
      "source": [
        "model.save('model_with_custom_activation')"
      ],
      "metadata": {
        "colab": {
          "base_uri": "https://localhost:8080/"
        },
        "id": "No8poYOrEEHJ",
        "outputId": "237c1a98-b230-4634-9c11-77cda0c01afe"
      },
      "execution_count": 55,
      "outputs": [
        {
          "output_type": "stream",
          "name": "stderr",
          "text": [
            "WARNING:absl:Found untraced functions such as _update_step_xla while saving (showing 1 of 1). These functions will not be directly callable after loading.\n"
          ]
        }
      ]
    },
    {
      "cell_type": "code",
      "source": [
        "# Load saved model and run again\n",
        "\n",
        "model = tf.keras.models.load_model('model_with_custom_activation', \n",
        "                                   custom_objects={\n",
        "                                       'custom_relu':custom_relu, \n",
        "                                  })\n",
        "model.fit(x=X_train, y=y_train, epochs=1, batch_size=16)"
      ],
      "metadata": {
        "colab": {
          "base_uri": "https://localhost:8080/"
        },
        "id": "JuudGLOf_mkY",
        "outputId": "6a0fe4e8-9166-4e31-cdba-705d11f84bf3"
      },
      "execution_count": 56,
      "outputs": [
        {
          "output_type": "stream",
          "name": "stderr",
          "text": [
            "/usr/local/lib/python3.10/dist-packages/tensorflow/python/util/dispatch.py:1176: SyntaxWarning: In loss categorical_crossentropy, expected y_pred.shape to be (batch_size, num_classes) with num_classes > 1. Received: y_pred.shape=(16, 1). Consider using 'binary_crossentropy' if you only have 2 classes.\n",
            "  return dispatch_target(*args, **kwargs)\n"
          ]
        },
        {
          "output_type": "stream",
          "name": "stdout",
          "text": [
            "25/25 [==============================] - 1s 3ms/step - loss: 0.0000e+00 - categorical_crossentropy: 0.0000e+00\n"
          ]
        },
        {
          "output_type": "execute_result",
          "data": {
            "text/plain": [
              "<keras.callbacks.History at 0x7f02f9f9c490>"
            ]
          },
          "metadata": {},
          "execution_count": 56
        }
      ]
    },
    {
      "cell_type": "markdown",
      "source": [
        "#### Custom model"
      ],
      "metadata": {
        "id": "8KxgSvO249qq"
      }
    },
    {
      "cell_type": "code",
      "source": [
        "df = fetch_california_housing()\n",
        "\n",
        "X_train_1, X_test_1, y_train_1, y_test_1 = train_test_split(df.data, df.target.reshape(-1, 1), random_state=42)\n",
        "\n",
        "sc = StandardScaler()\n",
        "X_train_scaled = sc.fit_transform(X_train_1)\n",
        "X_test_scaled = sc.transform(X_test_1)"
      ],
      "metadata": {
        "id": "LGXWL3_UFZrW"
      },
      "execution_count": 26,
      "outputs": []
    },
    {
      "cell_type": "code",
      "source": [
        "class CustomModel(tf.keras.Model):\n",
        "    def __init__(self, **kwargs):\n",
        "      super().__init__(**kwargs)\n",
        "      self.hidden1 = CustomDense(100)\n",
        "      self.hidden2 = CustomDense(50)\n",
        "      self.hidden3 = CustomDense(10)\n",
        "      self.output_ = CustomDense(1)\n",
        "\n",
        "    def call(self, input):\n",
        "      hidden1 = self.hidden1(input)\n",
        "      hidden2 = self.hidden2(hidden1)\n",
        "      hidden3 = self.hidden3(hidden2)\n",
        "      concat = tf.keras.layers.concatenate([input, hidden3])\n",
        "      output = self.output_(concat)\n",
        "      return output\n",
        "\n",
        "model = CustomModel()\n",
        "\n",
        "model.compile(loss=\"mse\", optimizer=\"nadam\")\n",
        "history = model.fit(X_train_scaled, y_train, epochs=2)\n",
        "score = model.evaluate(X_test_scaled, y_test)\n",
        "model.predict(X_test_scaled[:3])"
      ],
      "metadata": {
        "colab": {
          "base_uri": "https://localhost:8080/"
        },
        "id": "TaLMa8Lv3hnX",
        "outputId": "0d9ae4a5-5341-4e88-a575-7eec3bba4ec0"
      },
      "execution_count": 25,
      "outputs": [
        {
          "output_type": "stream",
          "name": "stdout",
          "text": [
            "Epoch 1/2\n",
            "484/484 [==============================] - 6s 4ms/step - loss: 1.0179\n",
            "Epoch 2/2\n",
            "484/484 [==============================] - 2s 4ms/step - loss: 0.4315\n",
            "162/162 [==============================] - 1s 2ms/step - loss: 0.4243\n",
            "1/1 [==============================] - 0s 103ms/step\n"
          ]
        },
        {
          "output_type": "execute_result",
          "data": {
            "text/plain": [
              "array([[0.4658325],\n",
              "       [1.6273526],\n",
              "       [3.342863 ]], dtype=float32)"
            ]
          },
          "metadata": {},
          "execution_count": 25
        }
      ]
    },
    {
      "cell_type": "markdown",
      "source": [
        "#### Custom training loop"
      ],
      "metadata": {
        "id": "KuethvK3M0Uq"
      }
    },
    {
      "cell_type": "code",
      "source": [
        "n_epochs = 2\n",
        "batch_size = 32\n",
        "n_steps = len(X_train) // batch_size\n",
        "optimizer = tf.keras.optimizers.Adam(learning_rate=0.01)\n",
        "loss_fn = tf.keras.losses.mse\n",
        "metrics = [tf.keras.metrics.Accuracy()]\n",
        "\n",
        "model = tf.keras.models.Sequential([\n",
        "    tf.keras.layers.Dense(30, activation=custom_relu, kernel_initializer=custom_glorot_initializer),\n",
        "    tf.keras.layers.Dense(1, kernel_regularizer=custom_l2_regularizer)\n",
        "])\n",
        "\n",
        "def random_batch(X, y, batch_size=32):\n",
        "    idx = np.random.randint(len(X), size=batch_size)\n",
        "    return X[idx], y[idx]\n",
        "\n",
        "for epoch in range(n_epochs):\n",
        "  print('epoch =', epoch)\n",
        "  for step in range(1, n_steps + 1):\n",
        "        X_batch, y_batch = X_train[step], y_train[step]\n",
        "        with tf.GradientTape() as tape:\n",
        "            y_pred = model(X_batch, training=True)\n",
        "            main_loss = tf.reduce_mean(loss_fn(y_batch, y_pred))\n",
        "            loss = tf.add_n([main_loss] + model.losses)\n",
        "\n",
        "        gradients = tape.gradient(loss, model.trainable_variables)\n",
        "        optimizer.apply_gradients(zip(gradients, model.trainable_variables))\n",
        "\n",
        "        for metric in metrics:\n",
        "          metric(y_batch, y_pred[step])"
      ],
      "metadata": {
        "colab": {
          "base_uri": "https://localhost:8080/"
        },
        "id": "g-ioRW835OL2",
        "outputId": "661c3dad-c61f-4c30-d033-3938f41d5a93"
      },
      "execution_count": 36,
      "outputs": [
        {
          "output_type": "stream",
          "name": "stdout",
          "text": [
            "epoch = 0\n",
            "epoch = 1\n"
          ]
        }
      ]
    }
  ]
}