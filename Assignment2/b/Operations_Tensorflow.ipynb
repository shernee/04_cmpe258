{
  "nbformat": 4,
  "nbformat_minor": 0,
  "metadata": {
    "colab": {
      "provenance": [],
      "include_colab_link": true
    },
    "kernelspec": {
      "name": "python3",
      "display_name": "Python 3"
    },
    "language_info": {
      "name": "python"
    }
  },
  "cells": [
    {
      "cell_type": "markdown",
      "metadata": {
        "id": "view-in-github",
        "colab_type": "text"
      },
      "source": [
        "<a href=\"https://colab.research.google.com/github/shernee/04_cmpe258/blob/main/Operations_Tensorflow.ipynb\" target=\"_parent\"><img src=\"https://colab.research.google.com/assets/colab-badge.svg\" alt=\"Open In Colab\"/></a>"
      ]
    },
    {
      "cell_type": "code",
      "execution_count": null,
      "metadata": {
        "id": "dQjnqkIqqB9L"
      },
      "outputs": [],
      "source": [
        "import tensorflow as tf\n",
        "#import torch.nn.functional as F"
      ]
    },
    {
      "cell_type": "code",
      "source": [
        "# Scalar vector multiplication\n",
        "\n",
        "a = tf.random.normal([1])\n",
        "b = tf.random.normal([2, 3])\n",
        "mult = tf.einsum('k, ij -> ij', a, b)\n",
        "print(a)\n",
        "print(b)\n",
        "print(mult)"
      ],
      "metadata": {
        "colab": {
          "base_uri": "https://localhost:8080/"
        },
        "id": "xtFaCWo7sxjW",
        "outputId": "02e454bd-1823-4b29-d538-23d13ac11c36"
      },
      "execution_count": null,
      "outputs": [
        {
          "output_type": "stream",
          "name": "stdout",
          "text": [
            "tf.Tensor([0.19171943], shape=(1,), dtype=float32)\n",
            "tf.Tensor(\n",
            "[[-0.6751951 -1.8173677 -0.5352537]\n",
            " [ 1.6614612  1.4489069  0.0434817]], shape=(2, 3), dtype=float32)\n",
            "tf.Tensor(\n",
            "[[-0.12944801 -0.3484247  -0.10261853]\n",
            " [ 0.3185344   0.2777836   0.00833629]], shape=(2, 3), dtype=float32)\n"
          ]
        }
      ]
    },
    {
      "cell_type": "code",
      "source": [
        "# Vector vector multiplication\n",
        "\n",
        "a = tf.random.normal([3, 4])\n",
        "b = tf.random.normal([4, 2])\n",
        "mult = tf.einsum('ij, jk -> ik', a, b)\n",
        "print(a)\n",
        "print(b)\n",
        "print(mult)"
      ],
      "metadata": {
        "colab": {
          "base_uri": "https://localhost:8080/"
        },
        "id": "KR0oA9l5tO0a",
        "outputId": "8e9ea8a8-3c7e-4ff9-b1e8-092630dad272"
      },
      "execution_count": null,
      "outputs": [
        {
          "output_type": "stream",
          "name": "stdout",
          "text": [
            "tf.Tensor(\n",
            "[[ 1.2622807  -0.63826555  2.2889252  -0.49091038]\n",
            " [-1.2988809   1.2458606  -1.324583   -0.05150975]\n",
            " [-0.8819322  -1.4783493  -1.7474608   0.8468661 ]], shape=(3, 4), dtype=float32)\n",
            "tf.Tensor(\n",
            "[[-0.22292201 -0.7709857 ]\n",
            " [ 0.33337048  0.35876635]\n",
            " [-0.15169476 -0.07374223]\n",
            " [-0.12199151  0.53240466]], shape=(4, 2), dtype=float32)\n",
            "tf.Tensor(\n",
            "[[-0.7815001  -1.632342  ]\n",
            " [ 0.9120983   1.5186453 ]\n",
            " [-0.13446572  0.7293123 ]], shape=(3, 2), dtype=float32)\n"
          ]
        }
      ]
    },
    {
      "cell_type": "code",
      "source": [
        "# Outer product\n",
        "\n",
        "a = tf.range(5)\n",
        "b = tf.range(4, 7)  \n",
        "prod = tf.einsum('i,j -> ij', a, b)\n",
        "print(a)\n",
        "print(b)\n",
        "print(prod)"
      ],
      "metadata": {
        "colab": {
          "base_uri": "https://localhost:8080/"
        },
        "id": "RXP4fcRjuNi7",
        "outputId": "a0aa1691-4daf-499d-80e5-907285877da6"
      },
      "execution_count": null,
      "outputs": [
        {
          "output_type": "stream",
          "name": "stdout",
          "text": [
            "tf.Tensor([0 1 2 3 4], shape=(5,), dtype=int32)\n",
            "tf.Tensor([4 5 6], shape=(3,), dtype=int32)\n",
            "tf.Tensor(\n",
            "[[ 0  0  0]\n",
            " [ 4  5  6]\n",
            " [ 8 10 12]\n",
            " [12 15 18]\n",
            " [16 20 24]], shape=(5, 3), dtype=int32)\n"
          ]
        }
      ]
    },
    {
      "cell_type": "code",
      "source": [
        "# Scalar dot product\n",
        "\n",
        "a = tf.range(12)\n",
        "a = tf.reshape(a, [4, 3])\n",
        "\n",
        "b = tf.range(6)\n",
        "b = tf.reshape(b, [3, 2])\n",
        "\n",
        "prod = tf.einsum('ij, jk ->', a, b)\n",
        "print(a)\n",
        "print(b)\n",
        "print(prod)"
      ],
      "metadata": {
        "colab": {
          "base_uri": "https://localhost:8080/"
        },
        "id": "jkCFAJy1ulxb",
        "outputId": "57344d8c-0ab4-4491-d8df-481d87868f19"
      },
      "execution_count": null,
      "outputs": [
        {
          "output_type": "stream",
          "name": "stdout",
          "text": [
            "tf.Tensor(\n",
            "[[ 0  1  2]\n",
            " [ 3  4  5]\n",
            " [ 6  7  8]\n",
            " [ 9 10 11]], shape=(4, 3), dtype=int32)\n",
            "tf.Tensor(\n",
            "[[0 1]\n",
            " [2 3]\n",
            " [4 5]], shape=(3, 2), dtype=int32)\n",
            "tf.Tensor(362, shape=(), dtype=int32)\n"
          ]
        }
      ]
    },
    {
      "cell_type": "code",
      "source": [
        "# Hadamard product\n",
        "\n",
        "a = tf.range(8)\n",
        "a = tf.reshape(a, [2, 4])\n",
        "\n",
        "b = tf.range(4, 12)\n",
        "b = tf.reshape(b, [2, 4])\n",
        "\n",
        "prod = tf.einsum('ij, ij -> ij', a, b)\n",
        "print(a)\n",
        "print(b)\n",
        "print(prod)"
      ],
      "metadata": {
        "colab": {
          "base_uri": "https://localhost:8080/"
        },
        "id": "psiMGjQOvCQ-",
        "outputId": "008fd087-ab53-48f1-9058-f1445bc1fad2"
      },
      "execution_count": null,
      "outputs": [
        {
          "output_type": "stream",
          "name": "stdout",
          "text": [
            "tf.Tensor(\n",
            "[[0 1 2 3]\n",
            " [4 5 6 7]], shape=(2, 4), dtype=int32)\n",
            "tf.Tensor(\n",
            "[[ 4  5  6  7]\n",
            " [ 8  9 10 11]], shape=(2, 4), dtype=int32)\n",
            "tf.Tensor(\n",
            "[[ 0  5 12 21]\n",
            " [32 45 60 77]], shape=(2, 4), dtype=int32)\n"
          ]
        }
      ]
    },
    {
      "cell_type": "code",
      "source": [
        "# Batch matrix multiplication\n",
        "\n",
        "a = tf.random.normal([5, 3, 2])\n",
        "b = tf.random.normal([5, 2, 4])\n",
        "batch_mult = tf.einsum('bij, bjk -> bik', a, b)\n",
        "print(a)\n",
        "print(b)\n",
        "print(batch_mult)"
      ],
      "metadata": {
        "colab": {
          "base_uri": "https://localhost:8080/"
        },
        "id": "Mpt4m9eHvuJv",
        "outputId": "41257efd-0d75-4240-cfbf-a12b69db2249"
      },
      "execution_count": null,
      "outputs": [
        {
          "output_type": "stream",
          "name": "stdout",
          "text": [
            "tf.Tensor(\n",
            "[[[-2.8027813   0.05627567]\n",
            "  [-0.4969179  -0.35014513]\n",
            "  [ 0.6666803   1.6293976 ]]\n",
            "\n",
            " [[-0.8813847  -0.15695372]\n",
            "  [-0.3237835   0.5977659 ]\n",
            "  [-1.7892      0.7839804 ]]\n",
            "\n",
            " [[ 0.7625496   0.926387  ]\n",
            "  [-2.538035   -0.65173554]\n",
            "  [ 0.7334915  -1.0678233 ]]\n",
            "\n",
            " [[ 0.18024161 -1.1939605 ]\n",
            "  [-0.03087219 -0.96784246]\n",
            "  [ 1.346309    0.9016271 ]]\n",
            "\n",
            " [[ 2.0276449  -1.3751156 ]\n",
            "  [ 0.06358938 -0.6973285 ]\n",
            "  [ 1.1284546  -2.048345  ]]], shape=(5, 3, 2), dtype=float32)\n",
            "tf.Tensor(\n",
            "[[[ 0.6934396   0.9255606   0.85550207 -0.65360856]\n",
            "  [ 1.0813301   0.2515487   0.30121288  1.0044328 ]]\n",
            "\n",
            " [[-0.07993804 -0.24022879 -0.19062996  1.7045192 ]\n",
            "  [-0.6170468  -0.616183    0.41338527 -0.5702826 ]]\n",
            "\n",
            " [[ 0.10178208  0.3510667  -1.4833367   0.03449396]\n",
            "  [-0.36437795  1.2565476   0.30796584 -0.17922501]]\n",
            "\n",
            " [[ 1.2045647  -1.316001    0.839442   -0.63842297]\n",
            "  [ 0.94192314 -1.3906146   0.52955145  0.9664694 ]]\n",
            "\n",
            " [[-0.5653841  -1.2534456  -0.28217784  0.7999384 ]\n",
            "  [ 0.3267898  -0.9139939  -0.7527964   2.5244534 ]]], shape=(5, 2, 4), dtype=float32)\n",
            "tf.Tensor(\n",
            "[[[-1.882707   -2.5799878  -2.3808343   1.888447  ]\n",
            "  [-0.723205   -0.5480062  -0.53058255 -0.02690747]\n",
            "  [ 2.224219    1.0269258   1.061142    1.2008724 ]]\n",
            "\n",
            " [[ 0.16730395  0.30844617  0.10313597 -1.4128292 ]\n",
            "  [-0.3429669  -0.29055107  0.30883047 -0.8927907 ]\n",
            "  [-0.34072748 -0.05325809  0.6651611  -3.496816  ]]\n",
            "\n",
            " [[-0.2599411   1.4317552  -0.8458223  -0.13972837]\n",
            "  [-0.02084841 -1.7099563   3.564048    0.02926043]\n",
            "  [ 0.46374753 -1.0842663  -1.416868    0.21668167]]\n",
            "\n",
            " [[-0.90750647  1.4231409  -0.48096114 -1.2689967 ]\n",
            "  [-0.94882077  1.3865237  -0.53843784 -0.9156806 ]\n",
            "  [ 2.4709797  -3.02556     1.6076062   0.01188052]]\n",
            "\n",
            " [[-1.5957719  -1.2846953   0.4630257  -1.8494244 ]\n",
            "  [-0.26383227  0.5576482   0.5070029  -1.7095058 ]\n",
            "  [-1.3073885   0.45771837  1.223562   -4.2682576 ]]], shape=(5, 3, 4), dtype=float32)\n"
          ]
        }
      ]
    },
    {
      "cell_type": "code",
      "source": [
        "# Tensor reduction\n",
        "\n",
        "a = tf.random.normal([3, 3, 5, 4])\n",
        "b = tf.random.normal([5, 1, 3, 11, 5])\n",
        "reduction = tf.einsum('pqrs, tuqvr -> pstuv', a, b)\n",
        "print(a.shape, b.shape, reduction.shape)"
      ],
      "metadata": {
        "colab": {
          "base_uri": "https://localhost:8080/"
        },
        "id": "7ryk_vs9wXDr",
        "outputId": "c9d61719-2d30-4bac-f792-898556e91b4b"
      },
      "execution_count": null,
      "outputs": [
        {
          "output_type": "stream",
          "name": "stdout",
          "text": [
            "(3, 3, 5, 4) (5, 1, 3, 11, 5) (3, 4, 5, 1, 11)\n"
          ]
        }
      ]
    },
    {
      "cell_type": "code",
      "source": [
        "# Transpose\n",
        "\n",
        "a = tf.range(10)\n",
        "a = tf.reshape(a, [5, 2])\n",
        "transpose = tf.einsum('ij -> ji', a)\n",
        "print(a)\n",
        "print(transpose)"
      ],
      "metadata": {
        "colab": {
          "base_uri": "https://localhost:8080/"
        },
        "id": "kefVaa4ZwiwM",
        "outputId": "a4489758-dac7-479d-f2fb-40f632097831"
      },
      "execution_count": null,
      "outputs": [
        {
          "output_type": "stream",
          "name": "stdout",
          "text": [
            "tf.Tensor(\n",
            "[[0 1]\n",
            " [2 3]\n",
            " [4 5]\n",
            " [6 7]\n",
            " [8 9]], shape=(5, 2), dtype=int32)\n",
            "tf.Tensor(\n",
            "[[0 2 4 6 8]\n",
            " [1 3 5 7 9]], shape=(2, 5), dtype=int32)\n"
          ]
        }
      ]
    },
    {
      "cell_type": "code",
      "source": [
        "# Bilinear transformation\n",
        "\n",
        "a = tf.random.normal([2, 4])\n",
        "b = tf.random.normal([3, 4, 4])\n",
        "c = tf.random.normal([2, 4])\n",
        "bilinear = tf.einsum('ik, jkl, il -> ij', a, b, c)\n",
        "print(a)\n",
        "print(b)\n",
        "print(c)\n",
        "print(bilinear)"
      ],
      "metadata": {
        "colab": {
          "base_uri": "https://localhost:8080/"
        },
        "id": "TBDN3S0Owv1r",
        "outputId": "3fc74764-0316-4719-93a8-394ad647251c"
      },
      "execution_count": null,
      "outputs": [
        {
          "output_type": "stream",
          "name": "stdout",
          "text": [
            "tf.Tensor(\n",
            "[[-0.69732547 -0.77136916  0.83661866  1.1554966 ]\n",
            " [-0.22652628  0.93995774 -0.7725664   0.64542073]], shape=(2, 4), dtype=float32)\n",
            "tf.Tensor(\n",
            "[[[ 2.2291393   1.1789131   0.12577243 -0.7663467 ]\n",
            "  [ 2.6311333  -0.8665867   0.42036626 -0.50369185]\n",
            "  [-0.3234374   1.0818207   0.70052564  1.003704  ]\n",
            "  [ 0.8993542   0.3895857   1.7453076   2.0710406 ]]\n",
            "\n",
            " [[ 0.9305819  -0.34105617 -0.7941161  -0.722856  ]\n",
            "  [-0.7132311   0.38948318 -0.6728501   1.6471618 ]\n",
            "  [-1.955623    1.5580286   1.305597    0.26125208]\n",
            "  [ 1.2755817   0.13867652  0.7299397   2.1309633 ]]\n",
            "\n",
            " [[-0.89681286 -0.42436007 -0.549283   -0.0741457 ]\n",
            "  [ 0.3167305   1.9568026  -0.32572198 -0.2829573 ]\n",
            "  [ 0.7185003   0.16662729 -1.7866851   2.0417924 ]\n",
            "  [-0.76318866  0.48879415 -1.5704789   0.33848763]]], shape=(3, 4, 4), dtype=float32)\n",
            "tf.Tensor(\n",
            "[[ 2.2478132  -0.66521204  0.13567212  0.493652  ]\n",
            " [-0.613899    0.0791862  -0.32404265 -1.3378973 ]], shape=(2, 4), dtype=float32)\n",
            "tf.Tensor(\n",
            "[[-4.7791133  -0.16535544  1.3709116 ]\n",
            " [-2.5081341  -4.4847927   2.5952957 ]], shape=(2, 3), dtype=float32)\n"
          ]
        }
      ]
    },
    {
      "cell_type": "code",
      "source": [
        "# Attention\n",
        "\n",
        "# Parameters\n",
        "# [hidden_dimension]\n",
        "bM = tf.random.normal([6])\n",
        "br = tf.random.normal([6]) \n",
        "w = tf.random.normal([6])\n",
        "# [hidden_dimension x hidden_dimension]\n",
        "WY = tf.random.normal([6, 6])\n",
        "Wh = tf.random.normal([6, 6])\n",
        "Wr = tf.random.normal([6, 6])\n",
        "Wt = tf.random.normal([6, 6])\n",
        "\n",
        "def attention(Y, ht, rt1):\n",
        "  # [batch_size x hidden_dimension] \n",
        "  tmp = tf.einsum('ik, kl -> il', ht, Wh) + tf.einsum('ik, kl -> il', rt1, Wr)\n",
        "\n",
        "  tmp_expanded = tf.expand_dims(tmp, 1)\n",
        "  tmp_tiled = tf.tile(tmp_expanded, [1, Y.shape[1], 1]) \n",
        "  Mt = tf.tanh(tf.einsum('ijk, kl -> ijl', Y, WY) + tmp_tiled + bM)\n",
        "  \n",
        "  # [batch_size x sequence_length]\n",
        "  at = tf.nn.softmax(tf.einsum('ijk, k -> ij', Mt, w)) \n",
        "  \n",
        "  # [batch_size x hidden_dimension]\n",
        "  rt = tf.einsum('ijk, ij -> ik', Y, at) + tf.tanh(tf.einsum('ij, jk -> ik', rt1, Wt) + br)\n",
        "  \n",
        "  return rt, at\n",
        "\n",
        "# Inputs - [batch_size x sequence_length x hidden_dimension]\n",
        "Y = tf.random.normal([3,5,6])\n",
        "# [batch_size x hidden_dimension]\n",
        "ht = tf.random.normal([3, 6])\n",
        "rt1 = tf.random.normal([3, 6])\n",
        "\n",
        "rt, at = attention(Y, ht, rt1)\n",
        "\n",
        "print(at)"
      ],
      "metadata": {
        "colab": {
          "base_uri": "https://localhost:8080/"
        },
        "id": "l6CrpIkcw4zZ",
        "outputId": "f27d24ec-17ad-4715-90a4-636f56d6fcd2"
      },
      "execution_count": null,
      "outputs": [
        {
          "output_type": "stream",
          "name": "stdout",
          "text": [
            "tf.Tensor(\n",
            "[[3.9871472e-01 5.0576282e-01 2.2192875e-02 5.5489678e-02 1.7839910e-02]\n",
            " [9.1844767e-01 6.6425115e-02 4.8836053e-04 3.1973205e-03 1.1441520e-02]\n",
            " [5.7841055e-02 2.4292566e-01 2.1445148e-01 2.4289948e-01 2.4188237e-01]], shape=(3, 5), dtype=float32)\n"
          ]
        }
      ]
    },
    {
      "cell_type": "code",
      "source": [
        "# Treeqn\n",
        "\n",
        "def transition(zl):\n",
        "  # [batch_size x num_actions x hidden_dimension]\n",
        "  return tf.expand_dims(zl, 1) + tf.tanh(tf.einsum('bk, aki -> bai', zl, W) + b)\n",
        "\n",
        "# Inputs - [batch_size x hidden_dimension]\n",
        "zl = tf.random.normal([2, 3])\n",
        "# Parameters - [num_actions x hidden_dimension]\n",
        "b = tf.random.normal([5, 3])\n",
        "# Actions - [num_actions x hidden_dimension x hidden_dimension]\n",
        "W = tf.random.normal([5, 3, 3])\n",
        "\n",
        "transition(zl)"
      ],
      "metadata": {
        "colab": {
          "base_uri": "https://localhost:8080/"
        },
        "id": "tHrBxGoUw5hm",
        "outputId": "4399c28a-b544-4cfc-b89f-f302f98b6bc4"
      },
      "execution_count": null,
      "outputs": [
        {
          "output_type": "execute_result",
          "data": {
            "text/plain": [
              "<tf.Tensor: shape=(2, 5, 3), dtype=float32, numpy=\n",
              "array([[[ 3.3654652 , -2.9039857 , -1.318193  ],\n",
              "        [ 1.386427  , -2.8705063 ,  0.17979407],\n",
              "        [ 1.370734  , -0.9170044 ,  0.6753818 ],\n",
              "        [ 3.0276241 , -1.1529515 , -1.3191075 ],\n",
              "        [ 3.3630497 , -2.589436  ,  0.67522156]],\n",
              "\n",
              "       [[ 0.6627935 ,  0.6072949 , -0.15422049],\n",
              "        [-0.59032273,  0.63858974, -0.0712972 ],\n",
              "        [ 0.8012289 , -0.03708696,  1.3189734 ],\n",
              "        [ 0.90956736, -0.00667107, -0.44518325],\n",
              "        [ 0.22970219, -1.039972  ,  1.2892215 ]]], dtype=float32)>"
            ]
          },
          "metadata": {},
          "execution_count": 15
        }
      ]
    },
    {
      "cell_type": "code",
      "source": [],
      "metadata": {
        "id": "vOd329uq5xLc"
      },
      "execution_count": null,
      "outputs": []
    }
  ]
}