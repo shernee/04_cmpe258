{
  "nbformat": 4,
  "nbformat_minor": 0,
  "metadata": {
    "colab": {
      "provenance": [],
      "include_colab_link": true
    },
    "kernelspec": {
      "name": "python3",
      "display_name": "Python 3"
    },
    "language_info": {
      "name": "python"
    }
  },
  "cells": [
    {
      "cell_type": "markdown",
      "metadata": {
        "id": "view-in-github",
        "colab_type": "text"
      },
      "source": [
        "<a href=\"https://colab.research.google.com/github/shernee/04_cmpe258/blob/main/Operations_Numpy.ipynb\" target=\"_parent\"><img src=\"https://colab.research.google.com/assets/colab-badge.svg\" alt=\"Open In Colab\"/></a>"
      ]
    },
    {
      "cell_type": "code",
      "execution_count": null,
      "metadata": {
        "id": "dQjnqkIqqB9L"
      },
      "outputs": [],
      "source": [
        "import numpy as np"
      ]
    },
    {
      "cell_type": "code",
      "source": [
        "# Scalar vector multiplication\n",
        "\n",
        "a = np.array([4])\n",
        "b = np.array([1, 5, 6, 8])\n",
        "mult = np.einsum('i, i -> i', a, b)\n",
        "print(a)\n",
        "print(b)\n",
        "print(mult)"
      ],
      "metadata": {
        "colab": {
          "base_uri": "https://localhost:8080/"
        },
        "id": "xtFaCWo7sxjW",
        "outputId": "d8594328-0040-4c0e-e110-3067950eff19"
      },
      "execution_count": null,
      "outputs": [
        {
          "output_type": "stream",
          "name": "stdout",
          "text": [
            "[4]\n",
            "[1 5 6 8]\n",
            "[ 4 20 24 32]\n"
          ]
        }
      ]
    },
    {
      "cell_type": "code",
      "source": [
        "# Vector vector multiplication\n",
        "\n",
        "a = np.random.randn(3, 4)\n",
        "b = np.random.randn(4, 2)\n",
        "mult = np.einsum('ij, jk -> ik', a, b)\n",
        "print(a)\n",
        "print(b)\n",
        "print(mult)"
      ],
      "metadata": {
        "colab": {
          "base_uri": "https://localhost:8080/"
        },
        "id": "KR0oA9l5tO0a",
        "outputId": "12e291d0-e229-4be8-ce39-1411b9e8922c"
      },
      "execution_count": null,
      "outputs": [
        {
          "output_type": "stream",
          "name": "stdout",
          "text": [
            "[[ 0.76497757 -0.78224885 -0.00681621 -1.51942336]\n",
            " [ 0.09455746  0.76844526  0.8387034  -0.18537236]\n",
            " [-1.22485349  0.98785641 -0.43627258 -0.47536971]]\n",
            "[[ 2.15345824  0.92843212]\n",
            " [ 0.63841795  0.33498397]\n",
            " [-1.04038538  0.46885975]\n",
            " [-1.12889156  0.36509375]]\n",
            "[[ 2.87030125 -0.1097389 ]\n",
            " [ 0.03090531  0.67076301]\n",
            " [-1.01647311 -1.18438242]]\n"
          ]
        }
      ]
    },
    {
      "cell_type": "code",
      "source": [
        "# Outer product\n",
        "\n",
        "a = np.arange(1, 5)\n",
        "b = np.arange(4, 7)  \n",
        "prod = np.einsum('i,j -> ij', a, b)\n",
        "print(a)\n",
        "print(b)\n",
        "print(prod)"
      ],
      "metadata": {
        "colab": {
          "base_uri": "https://localhost:8080/"
        },
        "id": "RXP4fcRjuNi7",
        "outputId": "3666a70b-8770-43db-81c6-b5812e6287ee"
      },
      "execution_count": null,
      "outputs": [
        {
          "output_type": "stream",
          "name": "stdout",
          "text": [
            "[1 2 3 4]\n",
            "[4 5 6]\n",
            "[[ 4  5  6]\n",
            " [ 8 10 12]\n",
            " [12 15 18]\n",
            " [16 20 24]]\n"
          ]
        }
      ]
    },
    {
      "cell_type": "code",
      "source": [
        "# Scalar dot product\n",
        "\n",
        "a = np.arange(12).reshape(4, 3)\n",
        "b = np.arange(6).reshape(3, 2)\n",
        "prod = np.einsum('ij, jk ->', a, b)\n",
        "print(a)\n",
        "print(b)\n",
        "print(prod)"
      ],
      "metadata": {
        "colab": {
          "base_uri": "https://localhost:8080/"
        },
        "id": "jkCFAJy1ulxb",
        "outputId": "d5ccef01-8056-4921-e129-7f14358ba990"
      },
      "execution_count": null,
      "outputs": [
        {
          "output_type": "stream",
          "name": "stdout",
          "text": [
            "[[ 0  1  2]\n",
            " [ 3  4  5]\n",
            " [ 6  7  8]\n",
            " [ 9 10 11]]\n",
            "[[0 1]\n",
            " [2 3]\n",
            " [4 5]]\n",
            "362\n"
          ]
        }
      ]
    },
    {
      "cell_type": "code",
      "source": [
        "# Hadamard product\n",
        "\n",
        "a = np.arange(8).reshape(2, 4)\n",
        "b = np.arange(4, 12).reshape(2, 4)\n",
        "prod = np.einsum('ij, ij -> ij', a, b)\n",
        "print(a)\n",
        "print(b)\n",
        "print(prod)"
      ],
      "metadata": {
        "colab": {
          "base_uri": "https://localhost:8080/"
        },
        "id": "psiMGjQOvCQ-",
        "outputId": "4572428a-f225-4493-d259-3c609a7cb990"
      },
      "execution_count": null,
      "outputs": [
        {
          "output_type": "stream",
          "name": "stdout",
          "text": [
            "[[0 1 2 3]\n",
            " [4 5 6 7]]\n",
            "[[ 4  5  6  7]\n",
            " [ 8  9 10 11]]\n",
            "[[ 0  5 12 21]\n",
            " [32 45 60 77]]\n"
          ]
        }
      ]
    },
    {
      "cell_type": "code",
      "source": [
        "# Batch matrix multiplication\n",
        "\n",
        "a = np.random.randn(5, 3, 2)\n",
        "b = np.random.randn(5, 2, 4)\n",
        "batch_mult = np.einsum('bij, bjk -> bik', a, b)\n",
        "print(a)\n",
        "print(b)\n",
        "print(batch_mult)"
      ],
      "metadata": {
        "colab": {
          "base_uri": "https://localhost:8080/"
        },
        "id": "Mpt4m9eHvuJv",
        "outputId": "f5d0199e-a7b2-4ce9-f7a6-cafb94a7ae4b"
      },
      "execution_count": null,
      "outputs": [
        {
          "output_type": "stream",
          "name": "stdout",
          "text": [
            "[[[-1.59291952 -1.70408616]\n",
            "  [-0.88246457  0.33395543]\n",
            "  [ 0.03307851 -0.62974716]]\n",
            "\n",
            " [[-0.59962721  0.68693546]\n",
            "  [-0.11948422  0.83436101]\n",
            "  [ 0.04022123  0.16925315]]\n",
            "\n",
            " [[ 0.75698376 -0.64018276]\n",
            "  [ 0.13460964 -1.32834147]\n",
            "  [-0.67345709  0.2167815 ]]\n",
            "\n",
            " [[-1.15595122  0.91098702]\n",
            "  [ 0.60854487 -1.65085271]\n",
            "  [-0.49000428  0.22108351]]\n",
            "\n",
            " [[-0.73022286 -0.14121195]\n",
            "  [-0.52224592  2.47480415]\n",
            "  [ 0.30442298 -0.2882491 ]]]\n",
            "[[[ 0.24068131 -0.88231674  0.1799716   1.46981434]\n",
            "  [ 0.04296022  0.49138514  0.71826589  0.34366977]]\n",
            "\n",
            " [[ 0.89354168  0.10104235  1.34472365 -0.78041617]\n",
            "  [ 1.08114172  1.02827283  0.03495368 -1.65898781]]\n",
            "\n",
            " [[ 0.97899352 -0.72557687  0.54917271  0.4438784 ]\n",
            "  [ 2.04793206  1.53992581  0.36409474  1.48365976]]\n",
            "\n",
            " [[ 0.2434217  -0.30487748  1.47718862 -0.27778258]\n",
            "  [ 0.27376563  1.37761836  1.41753625  0.08503235]]\n",
            "\n",
            " [[-1.52164624 -0.2721568   0.92518351  1.75260769]\n",
            "  [ 0.27548066  1.3369977  -0.24369095 -1.25930769]]]\n",
            "[[[-0.45659387  0.56809693 -1.51066723 -2.92693885]\n",
            "  [-0.19804593  0.942714    0.08105024 -1.1822887 ]\n",
            "  [-0.0190927  -0.33863412 -0.44637271 -0.16780579]]\n",
            "\n",
            " [[ 0.20688268  0.64576933 -0.78232197 -0.67165877]\n",
            "  [ 0.79529837  0.84587779 -0.13150927 -1.29094733]\n",
            "  [ 0.21892599  0.17810246  0.06000246 -0.31217821]]\n",
            "\n",
            " [[-0.5699686  -1.53508387  0.18262765 -0.61380466]\n",
            "  [-2.58857112 -2.14321695 -0.4097182  -1.91105647]\n",
            "  [-0.21535634  0.82247231 -0.29091525  0.02269694]]\n",
            "\n",
            " [[-0.03198668  1.60741594 -0.41620087  0.39856647]\n",
            "  [-0.3038137  -2.45977663 -1.44120799 -0.30941904]\n",
            "  [-0.05875261  0.45395998 -0.41043486  0.1549139 ]]\n",
            "\n",
            " [[ 1.07223972  0.00993507 -0.64117808 -1.10196492]\n",
            "  [ 1.47643421  3.45094023 -1.08626069 -4.0318321 ]\n",
            "  [-0.54263113 -0.46823917  0.35189081  0.89652836]]]\n"
          ]
        }
      ]
    },
    {
      "cell_type": "code",
      "source": [
        "# Tensor reduction\n",
        "\n",
        "a = np.random.randn(3, 3, 5, 4)\n",
        "b = np.random.randn(5, 1, 3, 11, 5)\n",
        "reduction = np.einsum('pqrs, tuqvr -> pstuv', a, b)\n",
        "print(a.shape, b.shape, reduction.shape)"
      ],
      "metadata": {
        "colab": {
          "base_uri": "https://localhost:8080/"
        },
        "id": "7ryk_vs9wXDr",
        "outputId": "9af78e26-c331-4196-ac50-993017cb10a3"
      },
      "execution_count": null,
      "outputs": [
        {
          "output_type": "stream",
          "name": "stdout",
          "text": [
            "(3, 3, 5, 4) (5, 1, 3, 11, 5) (3, 4, 5, 1, 11)\n"
          ]
        }
      ]
    },
    {
      "cell_type": "code",
      "source": [
        "# Transpose\n",
        "\n",
        "a = np.arange(10).reshape(5, 2)\n",
        "transpose = np.einsum('ij -> ji', a)\n",
        "print(a)\n",
        "print(transpose)"
      ],
      "metadata": {
        "colab": {
          "base_uri": "https://localhost:8080/"
        },
        "id": "kefVaa4ZwiwM",
        "outputId": "22e70b2a-b315-4005-f9a6-4196048c4830"
      },
      "execution_count": null,
      "outputs": [
        {
          "output_type": "stream",
          "name": "stdout",
          "text": [
            "[[0 1]\n",
            " [2 3]\n",
            " [4 5]\n",
            " [6 7]\n",
            " [8 9]]\n",
            "[[0 2 4 6 8]\n",
            " [1 3 5 7 9]]\n"
          ]
        }
      ]
    },
    {
      "cell_type": "code",
      "source": [
        "# Bilinear transformation\n",
        "\n",
        "a = np.random.randn(2, 4)\n",
        "b = np.random.randn(3, 4, 4)\n",
        "c = np.random.randn(2, 4)\n",
        "bilinear = np.einsum('ik, jkl, il -> ij', a, b, c)\n",
        "print(a)\n",
        "print(b)\n",
        "print(c)\n",
        "print(bilinear)"
      ],
      "metadata": {
        "colab": {
          "base_uri": "https://localhost:8080/"
        },
        "id": "TBDN3S0Owv1r",
        "outputId": "cdf60167-ba49-4e9d-d9de-b97796fc1826"
      },
      "execution_count": null,
      "outputs": [
        {
          "output_type": "stream",
          "name": "stdout",
          "text": [
            "[[-1.92600697  0.67942168  0.64854055  0.43460609]\n",
            " [ 1.34870619  0.89655495 -1.83264634 -1.03112595]]\n",
            "[[[ 1.0314865   0.46768561 -1.47391665  1.82494775]\n",
            "  [-0.54838931 -0.01578414  0.89794506  1.4814173 ]\n",
            "  [ 1.3689206   1.12468422 -1.23451401  1.70285858]\n",
            "  [-0.21129999 -0.89286092 -0.16649975  1.64050178]]\n",
            "\n",
            " [[-2.59564182  1.07032398  0.40438749 -0.34822429]\n",
            "  [-0.48797635  1.22744929  1.6651854  -1.92973965]\n",
            "  [ 0.70925154  0.26532026 -0.31602757  2.06057205]\n",
            "  [ 0.04430595 -2.84181978 -0.52599354  0.14882191]]\n",
            "\n",
            " [[ 0.05362048  1.30576621 -0.04199027  1.21447977]\n",
            "  [ 1.4057704   1.22958202 -0.84998361  0.7432612 ]\n",
            "  [ 0.92317916  1.37705184  0.64381896  0.77533576]\n",
            "  [-0.23498203  0.00424315  0.68880479 -0.08012529]]]\n",
            "[[-1.02085627  0.39937674  0.80827532 -0.43283131]\n",
            " [ 0.86902032 -1.24128796 -0.36748349  0.77991954]]\n",
            "[[  3.74927432  -6.563761    -0.92056933]\n",
            " [ -1.81637452 -16.72504112   1.2309075 ]]\n"
          ]
        }
      ]
    },
    {
      "cell_type": "code",
      "source": [
        "# Attention\n",
        "\n",
        "# Parameters\n",
        "# [hidden_dimension]\n",
        "bM = np.random.randn(6)\n",
        "br = np.random.randn(6) \n",
        "w = np.random.randn(6)\n",
        "# [hidden_dimension x hidden_dimension]\n",
        "WY = np.random.randn(6, 6)\n",
        "Wh = np.random.randn(6, 6)\n",
        "Wr = np.random.randn(6, 6)\n",
        "Wt = np.random.randn(6, 6)\n",
        "\n",
        "def attention(Y, ht, rt1):\n",
        "  # [batch_size x hidden_dimension] \n",
        "  tmp = np.einsum('ik, kl -> il', ht, Wh) + np.einsum('ik, kl -> il', rt1, Wr)\n",
        "\n",
        "  tmp_expanded = np.expand_dims(tmp, 1)\n",
        "  tmp_tiled = np.tile(tmp_expanded, [1, Y.shape[1], 1]) \n",
        "  Mt = np.tanh(np.einsum('ijk, kl -> ijl', Y, WY) + tmp_tiled + bM)\n",
        "  \n",
        "  # [batch_size x sequence_length]\n",
        "  at = np.einsum('ijk, k -> ij', Mt, w)\n",
        "  at = np.exp(at)/np.sum(np.exp(at))\n",
        "  \n",
        "  # [batch_size x hidden_dimension]\n",
        "  rt = np.einsum('ijk, ij -> ik', Y, at) + np.tanh(np.einsum('ij, jk -> ik', rt1, Wt) + br)\n",
        "  \n",
        "  return rt, at\n",
        "\n",
        "# Inputs - [batch_size x sequence_length x hidden_dimension]\n",
        "Y = np.random.randn(3,5,6)\n",
        "# [batch_size x hidden_dimension]\n",
        "ht = np.random.randn(3, 6)\n",
        "rt1 = np.random.randn(3, 6)\n",
        "\n",
        "rt, at = attention(Y, ht, rt1)\n",
        "\n",
        "print(at)"
      ],
      "metadata": {
        "colab": {
          "base_uri": "https://localhost:8080/"
        },
        "id": "l6CrpIkcw4zZ",
        "outputId": "9403eb1e-a637-4a91-8126-e4122140733b"
      },
      "execution_count": null,
      "outputs": [
        {
          "output_type": "stream",
          "name": "stdout",
          "text": [
            "[[0.00615517 0.00840162 0.01275558 0.02768632 0.0268708 ]\n",
            " [0.01143558 0.00967309 0.00876322 0.00082646 0.00636584]\n",
            " [0.14539563 0.24770076 0.09354095 0.02113665 0.37329233]]\n"
          ]
        }
      ]
    },
    {
      "cell_type": "code",
      "source": [
        "# Treeqn\n",
        "\n",
        "def transition(zl):\n",
        "  # [batch_size x num_actions x hidden_dimension]\n",
        "  return np.expand_dims(zl, 1) + np.tanh(np.einsum('bk, aki -> bai', zl, W) + b)\n",
        "\n",
        "# Inputs - [batch_size x hidden_dimension]\n",
        "zl = np.random.rand(2, 3)\n",
        "# Parameters - [num_actions x hidden_dimension]\n",
        "b = np.random.rand(5, 3)\n",
        "# Actions - [num_actions x hidden_dimension x hidden_dimension]\n",
        "W = np.random.rand(5, 3, 3)\n",
        "\n",
        "transition(zl)"
      ],
      "metadata": {
        "colab": {
          "base_uri": "https://localhost:8080/"
        },
        "id": "tHrBxGoUw5hm",
        "outputId": "444c798a-0a8b-4bb1-836e-af4c5fca6ffc"
      },
      "execution_count": null,
      "outputs": [
        {
          "output_type": "execute_result",
          "data": {
            "text/plain": [
              "array([[[1.17732557, 1.74257814, 0.97735291],\n",
              "        [1.0616197 , 1.51811389, 0.84987458],\n",
              "        [1.04991183, 1.79311996, 1.00403865],\n",
              "        [0.958174  , 1.87415546, 0.85454942],\n",
              "        [0.44555117, 1.86805333, 0.86880233]],\n",
              "\n",
              "       [[1.37051076, 0.87571551, 0.69239961],\n",
              "        [1.06392376, 0.59878613, 0.63906969],\n",
              "        [1.28320333, 1.03184968, 0.87489853],\n",
              "        [1.17516827, 0.99816043, 0.63869989],\n",
              "        [0.71255258, 0.90047342, 0.65352216]]])"
            ]
          },
          "metadata": {},
          "execution_count": 15
        }
      ]
    },
    {
      "cell_type": "code",
      "source": [],
      "metadata": {
        "id": "vOd329uq5xLc"
      },
      "execution_count": null,
      "outputs": []
    }
  ]
}