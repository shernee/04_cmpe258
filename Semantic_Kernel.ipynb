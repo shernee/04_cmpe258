{
  "nbformat": 4,
  "nbformat_minor": 0,
  "metadata": {
    "colab": {
      "provenance": [],
      "include_colab_link": true
    },
    "kernelspec": {
      "name": "python3",
      "display_name": "Python 3"
    },
    "language_info": {
      "name": "python"
    }
  },
  "cells": [
    {
      "cell_type": "markdown",
      "metadata": {
        "id": "view-in-github",
        "colab_type": "text"
      },
      "source": [
        "<a href=\"https://colab.research.google.com/github/shernee/04_cmpe258/blob/master/Semantic_Kernel.ipynb\" target=\"_parent\"><img src=\"https://colab.research.google.com/assets/colab-badge.svg\" alt=\"Open In Colab\"/></a>"
      ]
    },
    {
      "cell_type": "markdown",
      "source": [
        "###Install and import semantic kernel"
      ],
      "metadata": {
        "id": "vWmiO33wnBFU"
      }
    },
    {
      "cell_type": "code",
      "execution_count": 1,
      "metadata": {
        "colab": {
          "base_uri": "https://localhost:8080/"
        },
        "id": "MQiqLLZsiCp6",
        "outputId": "10457752-fdff-4465-b63a-9572c2dd52d7"
      },
      "outputs": [
        {
          "output_type": "stream",
          "name": "stdout",
          "text": [
            "Looking in indexes: https://pypi.org/simple, https://us-python.pkg.dev/colab-wheels/public/simple/\n",
            "Collecting semantic-kernel\n",
            "  Downloading semantic_kernel-0.2.4.dev0-py3-none-any.whl (78 kB)\n",
            "\u001b[2K     \u001b[90m━━━━━━━━━━━━━━━━━━━━━━━━━━━━━━━━━━━━━━━━\u001b[0m \u001b[32m78.2/78.2 kB\u001b[0m \u001b[31m2.6 MB/s\u001b[0m eta \u001b[36m0:00:00\u001b[0m\n",
            "\u001b[?25hCollecting openai<0.28.0,>=0.27.0\n",
            "  Downloading openai-0.27.4-py3-none-any.whl (70 kB)\n",
            "\u001b[2K     \u001b[90m━━━━━━━━━━━━━━━━━━━━━━━━━━━━━━━━━━━━━━━━\u001b[0m \u001b[32m70.3/70.3 kB\u001b[0m \u001b[31m4.5 MB/s\u001b[0m eta \u001b[36m0:00:00\u001b[0m\n",
            "\u001b[?25hCollecting numpy<2.0.0,>=1.24.2\n",
            "  Downloading numpy-1.24.3-cp39-cp39-manylinux_2_17_x86_64.manylinux2014_x86_64.whl (17.3 MB)\n",
            "\u001b[2K     \u001b[90m━━━━━━━━━━━━━━━━━━━━━━━━━━━━━━━━━━━━━━━━\u001b[0m \u001b[32m17.3/17.3 MB\u001b[0m \u001b[31m32.1 MB/s\u001b[0m eta \u001b[36m0:00:00\u001b[0m\n",
            "\u001b[?25hCollecting aiofiles<24.0.0,>=23.1.0\n",
            "  Downloading aiofiles-23.1.0-py3-none-any.whl (14 kB)\n",
            "Requirement already satisfied: tqdm in /usr/local/lib/python3.9/dist-packages (from openai<0.28.0,>=0.27.0->semantic-kernel) (4.65.0)\n",
            "Requirement already satisfied: requests>=2.20 in /usr/local/lib/python3.9/dist-packages (from openai<0.28.0,>=0.27.0->semantic-kernel) (2.27.1)\n",
            "Collecting aiohttp\n",
            "  Downloading aiohttp-3.8.4-cp39-cp39-manylinux_2_17_x86_64.manylinux2014_x86_64.whl (1.0 MB)\n",
            "\u001b[2K     \u001b[90m━━━━━━━━━━━━━━━━━━━━━━━━━━━━━━━━━━━━━━━━\u001b[0m \u001b[32m1.0/1.0 MB\u001b[0m \u001b[31m26.3 MB/s\u001b[0m eta \u001b[36m0:00:00\u001b[0m\n",
            "\u001b[?25hRequirement already satisfied: charset-normalizer~=2.0.0 in /usr/local/lib/python3.9/dist-packages (from requests>=2.20->openai<0.28.0,>=0.27.0->semantic-kernel) (2.0.12)\n",
            "Requirement already satisfied: urllib3<1.27,>=1.21.1 in /usr/local/lib/python3.9/dist-packages (from requests>=2.20->openai<0.28.0,>=0.27.0->semantic-kernel) (1.26.15)\n",
            "Requirement already satisfied: idna<4,>=2.5 in /usr/local/lib/python3.9/dist-packages (from requests>=2.20->openai<0.28.0,>=0.27.0->semantic-kernel) (3.4)\n",
            "Requirement already satisfied: certifi>=2017.4.17 in /usr/local/lib/python3.9/dist-packages (from requests>=2.20->openai<0.28.0,>=0.27.0->semantic-kernel) (2022.12.7)\n",
            "Requirement already satisfied: attrs>=17.3.0 in /usr/local/lib/python3.9/dist-packages (from aiohttp->openai<0.28.0,>=0.27.0->semantic-kernel) (23.1.0)\n",
            "Collecting aiosignal>=1.1.2\n",
            "  Downloading aiosignal-1.3.1-py3-none-any.whl (7.6 kB)\n",
            "Collecting multidict<7.0,>=4.5\n",
            "  Downloading multidict-6.0.4-cp39-cp39-manylinux_2_17_x86_64.manylinux2014_x86_64.whl (114 kB)\n",
            "\u001b[2K     \u001b[90m━━━━━━━━━━━━━━━━━━━━━━━━━━━━━━━━━━━━━━━\u001b[0m \u001b[32m114.2/114.2 kB\u001b[0m \u001b[31m2.6 MB/s\u001b[0m eta \u001b[36m0:00:00\u001b[0m\n",
            "\u001b[?25hCollecting frozenlist>=1.1.1\n",
            "  Downloading frozenlist-1.3.3-cp39-cp39-manylinux_2_5_x86_64.manylinux1_x86_64.manylinux_2_17_x86_64.manylinux2014_x86_64.whl (158 kB)\n",
            "\u001b[2K     \u001b[90m━━━━━━━━━━━━━━━━━━━━━━━━━━━━━━━━━━━━━━━\u001b[0m \u001b[32m158.8/158.8 kB\u001b[0m \u001b[31m7.9 MB/s\u001b[0m eta \u001b[36m0:00:00\u001b[0m\n",
            "\u001b[?25hCollecting yarl<2.0,>=1.0\n",
            "  Downloading yarl-1.9.2-cp39-cp39-manylinux_2_17_x86_64.manylinux2014_x86_64.whl (269 kB)\n",
            "\u001b[2K     \u001b[90m━━━━━━━━━━━━━━━━━━━━━━━━━━━━━━━━━━━━━━━\u001b[0m \u001b[32m269.4/269.4 kB\u001b[0m \u001b[31m9.3 MB/s\u001b[0m eta \u001b[36m0:00:00\u001b[0m\n",
            "\u001b[?25hCollecting async-timeout<5.0,>=4.0.0a3\n",
            "  Downloading async_timeout-4.0.2-py3-none-any.whl (5.8 kB)\n",
            "Installing collected packages: numpy, multidict, frozenlist, async-timeout, aiofiles, yarl, aiosignal, aiohttp, openai, semantic-kernel\n",
            "  Attempting uninstall: numpy\n",
            "    Found existing installation: numpy 1.22.4\n",
            "    Uninstalling numpy-1.22.4:\n",
            "      Successfully uninstalled numpy-1.22.4\n",
            "\u001b[31mERROR: pip's dependency resolver does not currently take into account all the packages that are installed. This behaviour is the source of the following dependency conflicts.\n",
            "tensorflow 2.12.0 requires numpy<1.24,>=1.22, but you have numpy 1.24.3 which is incompatible.\n",
            "numba 0.56.4 requires numpy<1.24,>=1.18, but you have numpy 1.24.3 which is incompatible.\u001b[0m\u001b[31m\n",
            "\u001b[0mSuccessfully installed aiofiles-23.1.0 aiohttp-3.8.4 aiosignal-1.3.1 async-timeout-4.0.2 frozenlist-1.3.3 multidict-6.0.4 numpy-1.24.3 openai-0.27.4 semantic-kernel-0.2.4.dev0 yarl-1.9.2\n"
          ]
        }
      ],
      "source": [
        "!python -m pip install --upgrade semantic-kernel"
      ]
    },
    {
      "cell_type": "code",
      "source": [
        "OPENAI_API_KEY=\"your api key\""
      ],
      "metadata": {
        "id": "nzVicIF_iJF9"
      },
      "execution_count": 2,
      "outputs": []
    },
    {
      "cell_type": "code",
      "source": [
        "import semantic_kernel as sk\n",
        "from semantic_kernel.ai.open_ai import OpenAITextCompletion"
      ],
      "metadata": {
        "id": "DDdPMOKMifX4"
      },
      "execution_count": 3,
      "outputs": []
    },
    {
      "cell_type": "code",
      "source": [
        "kernel = sk.Kernel()"
      ],
      "metadata": {
        "id": "sMSBPiACigay"
      },
      "execution_count": 4,
      "outputs": []
    },
    {
      "cell_type": "code",
      "source": [
        "api_key = OPENAI_API_KEY\n",
        "kernel.config.add_text_backend(\"dv\", OpenAITextCompletion(\"text-davinci-003\", api_key))"
      ],
      "metadata": {
        "colab": {
          "base_uri": "https://localhost:8080/"
        },
        "id": "mHgIAuz9ih44",
        "outputId": "491286f3-94f8-4add-b3ec-68247013d5a2"
      },
      "execution_count": 5,
      "outputs": [
        {
          "output_type": "execute_result",
          "data": {
            "text/plain": [
              "<semantic_kernel.kernel_config.KernelConfig at 0x7f3800697bb0>"
            ]
          },
          "metadata": {},
          "execution_count": 5
        }
      ]
    },
    {
      "cell_type": "markdown",
      "source": [
        "###Using semantic function to get the TLDR of a given summary"
      ],
      "metadata": {
        "id": "HZnCeJuCmGdN"
      }
    },
    {
      "cell_type": "code",
      "source": [
        "# Wrap the prompt in a function\n",
        "prompt = kernel.create_semantic_function(\"\"\"\n",
        "\n",
        "European countries are demanding answers from Beijing after its top diplomat in Paris questioned the sovereignty of former Soviet republics, in comments that could undermine China’s efforts to be seen as a potential mediator between Russia and Ukraine.\n",
        "\n",
        "The remarks by China’s ambassador to France Lu Shaye, who said during a television interview that former Soviet countries don’t have “effective status in international law,” have caused diplomatic consternation, especially in the Baltic states.\n",
        "\n",
        "Lithuania, Latvia, Estonia would be summoning Chinese representatives to ask for clarification, Lithuanian Foreign Minister Gabrielius Landsbergis confirmed on Monday.\n",
        "\n",
        "Give me the TLDR in exactly 10 words.\"\"\")\n",
        "\n",
        "# Run the prompt\n",
        "print(prompt())"
      ],
      "metadata": {
        "colab": {
          "base_uri": "https://localhost:8080/"
        },
        "id": "2FuOQs__iaEj",
        "outputId": "b42c0dad-2595-4fa8-f436-753a7d67348e"
      },
      "execution_count": null,
      "outputs": [
        {
          "output_type": "stream",
          "name": "stdout",
          "text": [
            "\n",
            "\n",
            "China's ambassador questioned Soviet republics' sovereignty.\n"
          ]
        }
      ]
    },
    {
      "cell_type": "markdown",
      "source": [
        "###Setting up the semantic kernel"
      ],
      "metadata": {
        "id": "AlQ0jMwum3jU"
      }
    },
    {
      "cell_type": "code",
      "source": [
        "!python -m pip install semantic-kernel==0.2.3.dev0"
      ],
      "metadata": {
        "colab": {
          "base_uri": "https://localhost:8080/"
        },
        "id": "VnCvgEU0kdoV",
        "outputId": "d4cc2c3a-292c-4b32-990a-74a9bd064f03"
      },
      "execution_count": 6,
      "outputs": [
        {
          "output_type": "stream",
          "name": "stdout",
          "text": [
            "Looking in indexes: https://pypi.org/simple, https://us-python.pkg.dev/colab-wheels/public/simple/\n",
            "Collecting semantic-kernel==0.2.3.dev0\n",
            "  Downloading semantic_kernel-0.2.3.dev0-py3-none-any.whl (76 kB)\n",
            "\u001b[2K     \u001b[90m━━━━━━━━━━━━━━━━━━━━━━━━━━━━━━━━━━━━━━━━\u001b[0m \u001b[32m76.7/76.7 kB\u001b[0m \u001b[31m5.1 MB/s\u001b[0m eta \u001b[36m0:00:00\u001b[0m\n",
            "\u001b[?25hRequirement already satisfied: openai<0.28.0,>=0.27.0 in /usr/local/lib/python3.9/dist-packages (from semantic-kernel==0.2.3.dev0) (0.27.4)\n",
            "Collecting asyncio<4.0.0,>=3.4.3\n",
            "  Downloading asyncio-3.4.3-py3-none-any.whl (101 kB)\n",
            "\u001b[2K     \u001b[90m━━━━━━━━━━━━━━━━━━━━━━━━━━━━━━━━━━━━━━\u001b[0m \u001b[32m101.8/101.8 kB\u001b[0m \u001b[31m11.5 MB/s\u001b[0m eta \u001b[36m0:00:00\u001b[0m\n",
            "\u001b[?25hRequirement already satisfied: numpy<2.0.0,>=1.24.2 in /usr/local/lib/python3.9/dist-packages (from semantic-kernel==0.2.3.dev0) (1.24.3)\n",
            "Requirement already satisfied: aiofiles<24.0.0,>=23.1.0 in /usr/local/lib/python3.9/dist-packages (from semantic-kernel==0.2.3.dev0) (23.1.0)\n",
            "Requirement already satisfied: tqdm in /usr/local/lib/python3.9/dist-packages (from openai<0.28.0,>=0.27.0->semantic-kernel==0.2.3.dev0) (4.65.0)\n",
            "Requirement already satisfied: requests>=2.20 in /usr/local/lib/python3.9/dist-packages (from openai<0.28.0,>=0.27.0->semantic-kernel==0.2.3.dev0) (2.27.1)\n",
            "Requirement already satisfied: aiohttp in /usr/local/lib/python3.9/dist-packages (from openai<0.28.0,>=0.27.0->semantic-kernel==0.2.3.dev0) (3.8.4)\n",
            "Requirement already satisfied: certifi>=2017.4.17 in /usr/local/lib/python3.9/dist-packages (from requests>=2.20->openai<0.28.0,>=0.27.0->semantic-kernel==0.2.3.dev0) (2022.12.7)\n",
            "Requirement already satisfied: charset-normalizer~=2.0.0 in /usr/local/lib/python3.9/dist-packages (from requests>=2.20->openai<0.28.0,>=0.27.0->semantic-kernel==0.2.3.dev0) (2.0.12)\n",
            "Requirement already satisfied: urllib3<1.27,>=1.21.1 in /usr/local/lib/python3.9/dist-packages (from requests>=2.20->openai<0.28.0,>=0.27.0->semantic-kernel==0.2.3.dev0) (1.26.15)\n",
            "Requirement already satisfied: idna<4,>=2.5 in /usr/local/lib/python3.9/dist-packages (from requests>=2.20->openai<0.28.0,>=0.27.0->semantic-kernel==0.2.3.dev0) (3.4)\n",
            "Requirement already satisfied: multidict<7.0,>=4.5 in /usr/local/lib/python3.9/dist-packages (from aiohttp->openai<0.28.0,>=0.27.0->semantic-kernel==0.2.3.dev0) (6.0.4)\n",
            "Requirement already satisfied: attrs>=17.3.0 in /usr/local/lib/python3.9/dist-packages (from aiohttp->openai<0.28.0,>=0.27.0->semantic-kernel==0.2.3.dev0) (23.1.0)\n",
            "Requirement already satisfied: frozenlist>=1.1.1 in /usr/local/lib/python3.9/dist-packages (from aiohttp->openai<0.28.0,>=0.27.0->semantic-kernel==0.2.3.dev0) (1.3.3)\n",
            "Requirement already satisfied: aiosignal>=1.1.2 in /usr/local/lib/python3.9/dist-packages (from aiohttp->openai<0.28.0,>=0.27.0->semantic-kernel==0.2.3.dev0) (1.3.1)\n",
            "Requirement already satisfied: async-timeout<5.0,>=4.0.0a3 in /usr/local/lib/python3.9/dist-packages (from aiohttp->openai<0.28.0,>=0.27.0->semantic-kernel==0.2.3.dev0) (4.0.2)\n",
            "Requirement already satisfied: yarl<2.0,>=1.0 in /usr/local/lib/python3.9/dist-packages (from aiohttp->openai<0.28.0,>=0.27.0->semantic-kernel==0.2.3.dev0) (1.9.2)\n",
            "Installing collected packages: asyncio, semantic-kernel\n",
            "  Attempting uninstall: semantic-kernel\n",
            "    Found existing installation: semantic-kernel 0.2.4.dev0\n",
            "    Uninstalling semantic-kernel-0.2.4.dev0:\n",
            "      Successfully uninstalled semantic-kernel-0.2.4.dev0\n",
            "Successfully installed asyncio-3.4.3 semantic-kernel-0.2.3.dev0\n"
          ]
        }
      ]
    },
    {
      "cell_type": "code",
      "source": [
        "import semantic_kernel as sk\n",
        "from semantic_kernel.ai.open_ai import AzureTextCompletion, OpenAITextCompletion"
      ],
      "metadata": {
        "id": "Idj_UBuomgTh"
      },
      "execution_count": 7,
      "outputs": []
    },
    {
      "cell_type": "markdown",
      "source": [
        "###Instantiating the kernel"
      ],
      "metadata": {
        "id": "0HsRREPxmmU9"
      }
    },
    {
      "cell_type": "code",
      "source": [
        "# Simple instance\n",
        "kernel_1 = sk.Kernel()"
      ],
      "metadata": {
        "id": "avxaJ5U-mkbQ"
      },
      "execution_count": 8,
      "outputs": []
    },
    {
      "cell_type": "code",
      "source": [
        "kernel.config.add_text_backend(               \n",
        "    \"OpenAI_davinci\",                         \n",
        "    OpenAITextCompletion(\n",
        "        \"text-davinci-003\",                   \n",
        "        \"sk-.................\",          \n",
        "    )\n",
        ")"
      ],
      "metadata": {
        "colab": {
          "base_uri": "https://localhost:8080/"
        },
        "id": "3wiZkhAXmoHk",
        "outputId": "e8aa8e0f-3693-4d34-81a5-39cb6796e771"
      },
      "execution_count": 15,
      "outputs": [
        {
          "output_type": "execute_result",
          "data": {
            "text/plain": [
              "<semantic_kernel.kernel_config.KernelConfig at 0x7f3800697bb0>"
            ]
          },
          "metadata": {},
          "execution_count": 15
        }
      ]
    },
    {
      "cell_type": "code",
      "source": [
        "from google.colab import drive\n",
        "drive.mount('/content/drive')\n",
        "source_folder = '/content/drive/MyDrive/258_data/'\n",
        "\n",
        "randomFunctions = kernel.import_semantic_skill_from_directory(source_folder, \"random_skills\")\n",
        "\n"
      ],
      "metadata": {
        "id": "EFoskERCmz4k",
        "colab": {
          "base_uri": "https://localhost:8080/"
        },
        "outputId": "b27c7b3b-66ea-4195-b6af-cb085c58b944"
      },
      "execution_count": 13,
      "outputs": [
        {
          "output_type": "stream",
          "name": "stdout",
          "text": [
            "Drive already mounted at /content/drive; to attempt to forcibly remount, call drive.mount(\"/content/drive\", force_remount=True).\n"
          ]
        }
      ]
    },
    {
      "cell_type": "markdown",
      "source": [
        "###Using semantic kernel to generate excuses"
      ],
      "metadata": {
        "id": "YuIVzmKxqoXh"
      }
    },
    {
      "cell_type": "code",
      "source": [
        "excuseFunction = randomFunctions[\"excuses\"]"
      ],
      "metadata": {
        "id": "1HLWrpmxCpM6"
      },
      "execution_count": null,
      "outputs": []
    },
    {
      "cell_type": "code",
      "source": [
        "result = excuseFunction(\"I dropped the glass bowl\")\n",
        "\n",
        "print(result)"
      ],
      "metadata": {
        "colab": {
          "base_uri": "https://localhost:8080/"
        },
        "id": "7kSvXeZEBaTO",
        "outputId": "baf340ab-0738-4b21-e72b-2ab1c6108442"
      },
      "execution_count": 16,
      "outputs": [
        {
          "output_type": "stream",
          "name": "stdout",
          "text": [
            ".\n",
            "Excuse:I was trying to juggle it with my feet and it slipped.\n"
          ]
        }
      ]
    }
  ]
}