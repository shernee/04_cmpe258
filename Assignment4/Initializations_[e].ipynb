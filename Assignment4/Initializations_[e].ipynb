{
  "nbformat": 4,
  "nbformat_minor": 0,
  "metadata": {
    "colab": {
      "provenance": [],
      "include_colab_link": true
    },
    "kernelspec": {
      "name": "python3",
      "display_name": "Python 3"
    },
    "language_info": {
      "name": "python"
    }
  },
  "cells": [
    {
      "cell_type": "markdown",
      "metadata": {
        "id": "view-in-github",
        "colab_type": "text"
      },
      "source": [
        "<a href=\"https://colab.research.google.com/github/shernee/04_cmpe258/blob/master/Initializations_%5Be%5D.ipynb\" target=\"_parent\"><img src=\"https://colab.research.google.com/assets/colab-badge.svg\" alt=\"Open In Colab\"/></a>"
      ]
    },
    {
      "cell_type": "markdown",
      "source": [
        "Regression dataset - California Housing dataset\n",
        "> https://scikit-learn.org/stable/modules/generated/sklearn.datasets.fetch_california_housing.html#sklearn.datasets.fetch_california_housing\n",
        "\n",
        "\n",
        "\n",
        "Classification dataset - Fashion MNIST\n",
        "> https://keras.io/api/datasets/fashion_mnist/"
      ],
      "metadata": {
        "id": "Tf2T9SRejymT"
      }
    },
    {
      "cell_type": "code",
      "execution_count": null,
      "metadata": {
        "id": "lqYiWgrERNSi"
      },
      "outputs": [],
      "source": [
        "# Imports\n",
        "\n",
        "import numpy as np\n",
        "import pandas as pd\n",
        "import matplotlib.pyplot as plt\n",
        "from sklearn.datasets import fetch_california_housing\n",
        "from sklearn.model_selection import train_test_split\n",
        "import tensorflow as tf"
      ]
    },
    {
      "cell_type": "markdown",
      "source": [
        "#### Regression - LeCun and He initialization"
      ],
      "metadata": {
        "id": "okmlmuuqlpBh"
      }
    },
    {
      "cell_type": "markdown",
      "source": [
        "LeCun normalization and He initialization are used when the activation function is ReLu. Both initializations have draw from either guassian or normal distribution.\n",
        "\n",
        "In LeCun, the weights are initialized with a Gaussian/Uniform distribution with a mean of zero and a standard deviation of sqrt(1/n), where n is the number of input units.\n",
        "\n",
        "In He initialization, the weights are drawn from a Gaussian/Uniform distribution with a mean zero and standard deviation of sqrt(2/n)."
      ],
      "metadata": {
        "id": "5XUvSX6Zn3Cf"
      }
    },
    {
      "cell_type": "code",
      "source": [
        "# Read regression dataset\n",
        "\n",
        "housing_reg = fetch_california_housing()"
      ],
      "metadata": {
        "id": "icZ5NmIVYj4q"
      },
      "execution_count": null,
      "outputs": []
    },
    {
      "cell_type": "code",
      "source": [
        "num_epochs_reg = 20\n",
        "rmse_reg = pd.DataFrame()"
      ],
      "metadata": {
        "id": "J0_QqHGFYnOS"
      },
      "execution_count": null,
      "outputs": []
    },
    {
      "cell_type": "code",
      "source": [
        "# Split into train, val and test set\n",
        "\n",
        "X_train, X_test, y_train, y_test = train_test_split(housing_reg.data, housing_reg.target, test_size=0.2, random_state=42)\n",
        "X_train, X_val, y_train, y_val = train_test_split(X_train, y_train, test_size=0.2, random_state=42)"
      ],
      "metadata": {
        "id": "RYyTmrQyYll2"
      },
      "execution_count": null,
      "outputs": []
    },
    {
      "cell_type": "code",
      "source": [
        "X_train[0]"
      ],
      "metadata": {
        "colab": {
          "base_uri": "https://localhost:8080/"
        },
        "id": "m4iFP_vbuB7P",
        "outputId": "3cc34a69-5a97-4a5b-8738-1688acdb655d"
      },
      "execution_count": null,
      "outputs": [
        {
          "output_type": "execute_result",
          "data": {
            "text/plain": [
              "array([   4.7069    ,   27.        ,    6.52325581,    1.11627907,\n",
              "        873.        ,    3.38372093,   38.        , -120.97      ])"
            ]
          },
          "metadata": {},
          "execution_count": 5
        }
      ]
    },
    {
      "cell_type": "code",
      "source": [
        "# Model with default initialization - xavier uniform\n",
        "\n",
        "model_reg = tf.keras.Sequential()\n",
        "for _ in range(5):\n",
        "    model_reg.add(tf.keras.layers.Dense(100, activation='relu'))\n",
        "model_reg.add(tf.keras.layers.Dense(1))\n",
        "\n",
        "# Compile model\n",
        "model_reg.compile(optimizer='adam', loss=tf.keras.losses.mean_squared_error , metrics=['RootMeanSquaredError'])\n",
        "\n",
        "history_reg = model_reg.fit(X_train, y_train, epochs=num_epochs_reg, validation_data=(X_val, y_val))\n",
        "\n",
        "rmse_reg = pd.concat([rmse_reg, pd.DataFrame(history_reg.history)[['root_mean_squared_error', 'val_root_mean_squared_error']]], axis=1).rename(\n",
        "    columns={'root_mean_squared_error':'train_rmse', 'val_root_mean_squared_error':'val_rmse'})"
      ],
      "metadata": {
        "colab": {
          "base_uri": "https://localhost:8080/"
        },
        "id": "QgNJyR40YpEs",
        "outputId": "f6a5a07c-3e44-48c9-b793-f7e6f1c5c341"
      },
      "execution_count": null,
      "outputs": [
        {
          "output_type": "stream",
          "name": "stdout",
          "text": [
            "Epoch 1/20\n",
            "413/413 [==============================] - 4s 5ms/step - loss: 40.0666 - root_mean_squared_error: 6.3298 - val_loss: 1.9049 - val_root_mean_squared_error: 1.3802\n",
            "Epoch 2/20\n",
            "413/413 [==============================] - 2s 4ms/step - loss: 2.2280 - root_mean_squared_error: 1.4926 - val_loss: 1.3936 - val_root_mean_squared_error: 1.1805\n",
            "Epoch 3/20\n",
            "413/413 [==============================] - 2s 4ms/step - loss: 1.6299 - root_mean_squared_error: 1.2767 - val_loss: 1.6240 - val_root_mean_squared_error: 1.2744\n",
            "Epoch 4/20\n",
            "413/413 [==============================] - 2s 4ms/step - loss: 1.3803 - root_mean_squared_error: 1.1748 - val_loss: 0.8865 - val_root_mean_squared_error: 0.9416\n",
            "Epoch 5/20\n",
            "413/413 [==============================] - 2s 6ms/step - loss: 2.0163 - root_mean_squared_error: 1.4200 - val_loss: 1.1012 - val_root_mean_squared_error: 1.0494\n",
            "Epoch 6/20\n",
            "413/413 [==============================] - 2s 4ms/step - loss: 0.8138 - root_mean_squared_error: 0.9021 - val_loss: 1.1637 - val_root_mean_squared_error: 1.0787\n",
            "Epoch 7/20\n",
            "413/413 [==============================] - 1s 3ms/step - loss: 0.8511 - root_mean_squared_error: 0.9226 - val_loss: 0.8481 - val_root_mean_squared_error: 0.9209\n",
            "Epoch 8/20\n",
            "413/413 [==============================] - 2s 5ms/step - loss: 0.8917 - root_mean_squared_error: 0.9443 - val_loss: 0.7123 - val_root_mean_squared_error: 0.8440\n",
            "Epoch 9/20\n",
            "413/413 [==============================] - 2s 4ms/step - loss: 0.8790 - root_mean_squared_error: 0.9375 - val_loss: 0.7515 - val_root_mean_squared_error: 0.8669\n",
            "Epoch 10/20\n",
            "413/413 [==============================] - 1s 2ms/step - loss: 0.8730 - root_mean_squared_error: 0.9343 - val_loss: 1.0099 - val_root_mean_squared_error: 1.0050\n",
            "Epoch 11/20\n",
            "413/413 [==============================] - 1s 2ms/step - loss: 0.8182 - root_mean_squared_error: 0.9045 - val_loss: 0.6347 - val_root_mean_squared_error: 0.7967\n",
            "Epoch 12/20\n",
            "413/413 [==============================] - 1s 2ms/step - loss: 1.0526 - root_mean_squared_error: 1.0260 - val_loss: 2.5219 - val_root_mean_squared_error: 1.5881\n",
            "Epoch 13/20\n",
            "413/413 [==============================] - 1s 3ms/step - loss: 0.8587 - root_mean_squared_error: 0.9267 - val_loss: 0.7586 - val_root_mean_squared_error: 0.8710\n",
            "Epoch 14/20\n",
            "413/413 [==============================] - 1s 2ms/step - loss: 0.7782 - root_mean_squared_error: 0.8821 - val_loss: 0.8740 - val_root_mean_squared_error: 0.9349\n",
            "Epoch 15/20\n",
            "413/413 [==============================] - 1s 2ms/step - loss: 0.7734 - root_mean_squared_error: 0.8795 - val_loss: 0.6203 - val_root_mean_squared_error: 0.7876\n",
            "Epoch 16/20\n",
            "413/413 [==============================] - 1s 2ms/step - loss: 0.7320 - root_mean_squared_error: 0.8556 - val_loss: 0.7752 - val_root_mean_squared_error: 0.8805\n",
            "Epoch 17/20\n",
            "413/413 [==============================] - 1s 2ms/step - loss: 0.6697 - root_mean_squared_error: 0.8183 - val_loss: 0.5882 - val_root_mean_squared_error: 0.7670\n",
            "Epoch 18/20\n",
            "413/413 [==============================] - 1s 2ms/step - loss: 0.5949 - root_mean_squared_error: 0.7713 - val_loss: 0.6281 - val_root_mean_squared_error: 0.7925\n",
            "Epoch 19/20\n",
            "413/413 [==============================] - 1s 2ms/step - loss: 0.6261 - root_mean_squared_error: 0.7913 - val_loss: 0.6273 - val_root_mean_squared_error: 0.7920\n",
            "Epoch 20/20\n",
            "413/413 [==============================] - 1s 2ms/step - loss: 0.8987 - root_mean_squared_error: 0.9480 - val_loss: 0.6464 - val_root_mean_squared_error: 0.8040\n"
          ]
        }
      ]
    },
    {
      "cell_type": "code",
      "source": [
        "# Model with LeCun Normal initialization \n",
        "\n",
        "model_reg_lecun_normal = tf.keras.Sequential()\n",
        "for _ in range(5):\n",
        "    model_reg_lecun_normal.add(tf.keras.layers.Dense(100, activation='relu', kernel_initializer='lecun_normal'))\n",
        "model_reg_lecun_normal.add(tf.keras.layers.Dense(1))\n",
        "\n",
        "# Compile model\n",
        "model_reg_lecun_normal.compile(optimizer='adam', loss=tf.keras.losses.mean_squared_error , metrics=['RootMeanSquaredError'])\n",
        "\n",
        "history_reg_lecun_normal = model_reg_lecun_normal.fit(X_train, y_train, epochs=num_epochs_reg, validation_data=(X_val, y_val))\n",
        "\n",
        "rmse_reg = pd.concat([rmse_reg, pd.DataFrame(history_reg_lecun_normal.history)[['root_mean_squared_error', 'val_root_mean_squared_error']]], axis=1).rename(\n",
        "    columns={'root_mean_squared_error':'train_lecun_normal_rmse', 'val_root_mean_squared_error':'val_lecun_normal_rmse'})"
      ],
      "metadata": {
        "colab": {
          "base_uri": "https://localhost:8080/"
        },
        "id": "uzxmQUfZm3Zy",
        "outputId": "b7c2228a-a52e-4b9e-9c27-b801f593cd4c"
      },
      "execution_count": null,
      "outputs": [
        {
          "output_type": "stream",
          "name": "stdout",
          "text": [
            "Epoch 1/20\n",
            "413/413 [==============================] - 2s 3ms/step - loss: 70.2165 - root_mean_squared_error: 8.3795 - val_loss: 26.8308 - val_root_mean_squared_error: 5.1798\n",
            "Epoch 2/20\n",
            "413/413 [==============================] - 1s 2ms/step - loss: 3.3385 - root_mean_squared_error: 1.8271 - val_loss: 1.4104 - val_root_mean_squared_error: 1.1876\n",
            "Epoch 3/20\n",
            "413/413 [==============================] - 1s 3ms/step - loss: 90.2641 - root_mean_squared_error: 9.5007 - val_loss: 1.5373 - val_root_mean_squared_error: 1.2399\n",
            "Epoch 4/20\n",
            "413/413 [==============================] - 1s 3ms/step - loss: 5.8977 - root_mean_squared_error: 2.4285 - val_loss: 1.7944 - val_root_mean_squared_error: 1.3395\n",
            "Epoch 5/20\n",
            "413/413 [==============================] - 1s 2ms/step - loss: 1.5664 - root_mean_squared_error: 1.2516 - val_loss: 11.8237 - val_root_mean_squared_error: 3.4386\n",
            "Epoch 6/20\n",
            "413/413 [==============================] - 1s 2ms/step - loss: 2.0665 - root_mean_squared_error: 1.4375 - val_loss: 1.3897 - val_root_mean_squared_error: 1.1789\n",
            "Epoch 7/20\n",
            "413/413 [==============================] - 1s 2ms/step - loss: 1.6314 - root_mean_squared_error: 1.2773 - val_loss: 1.9622 - val_root_mean_squared_error: 1.4008\n",
            "Epoch 8/20\n",
            "413/413 [==============================] - 1s 2ms/step - loss: 1.1635 - root_mean_squared_error: 1.0786 - val_loss: 0.9812 - val_root_mean_squared_error: 0.9906\n",
            "Epoch 9/20\n",
            "413/413 [==============================] - 1s 2ms/step - loss: 1.2095 - root_mean_squared_error: 1.0998 - val_loss: 1.2064 - val_root_mean_squared_error: 1.0984\n",
            "Epoch 10/20\n",
            "413/413 [==============================] - 1s 2ms/step - loss: 1.0920 - root_mean_squared_error: 1.0450 - val_loss: 1.0584 - val_root_mean_squared_error: 1.0288\n",
            "Epoch 11/20\n",
            "413/413 [==============================] - 1s 2ms/step - loss: 1.5363 - root_mean_squared_error: 1.2395 - val_loss: 0.9093 - val_root_mean_squared_error: 0.9536\n",
            "Epoch 12/20\n",
            "413/413 [==============================] - 1s 2ms/step - loss: 1.0800 - root_mean_squared_error: 1.0392 - val_loss: 1.0321 - val_root_mean_squared_error: 1.0159\n",
            "Epoch 13/20\n",
            "413/413 [==============================] - 1s 2ms/step - loss: 1.0346 - root_mean_squared_error: 1.0171 - val_loss: 1.7723 - val_root_mean_squared_error: 1.3313\n",
            "Epoch 14/20\n",
            "413/413 [==============================] - 1s 2ms/step - loss: 1.5594 - root_mean_squared_error: 1.2488 - val_loss: 0.7353 - val_root_mean_squared_error: 0.8575\n",
            "Epoch 15/20\n",
            "413/413 [==============================] - 1s 2ms/step - loss: 0.7566 - root_mean_squared_error: 0.8699 - val_loss: 0.7818 - val_root_mean_squared_error: 0.8842\n",
            "Epoch 16/20\n",
            "413/413 [==============================] - 1s 3ms/step - loss: 0.9221 - root_mean_squared_error: 0.9603 - val_loss: 0.7094 - val_root_mean_squared_error: 0.8422\n",
            "Epoch 17/20\n",
            "413/413 [==============================] - 1s 3ms/step - loss: 0.7047 - root_mean_squared_error: 0.8395 - val_loss: 0.6943 - val_root_mean_squared_error: 0.8333\n",
            "Epoch 18/20\n",
            "413/413 [==============================] - 1s 2ms/step - loss: 0.8304 - root_mean_squared_error: 0.9112 - val_loss: 1.0160 - val_root_mean_squared_error: 1.0079\n",
            "Epoch 19/20\n",
            "413/413 [==============================] - 1s 2ms/step - loss: 0.8437 - root_mean_squared_error: 0.9185 - val_loss: 0.6961 - val_root_mean_squared_error: 0.8343\n",
            "Epoch 20/20\n",
            "413/413 [==============================] - 1s 2ms/step - loss: 0.7161 - root_mean_squared_error: 0.8462 - val_loss: 0.6822 - val_root_mean_squared_error: 0.8260\n"
          ]
        }
      ]
    },
    {
      "cell_type": "code",
      "source": [
        "# Model with LeCun Uniform initialization \n",
        "\n",
        "model_reg_lecun_uniform = tf.keras.Sequential()\n",
        "for _ in range(5):\n",
        "    model_reg_lecun_uniform.add(tf.keras.layers.Dense(100, activation='relu', kernel_initializer='lecun_uniform'))\n",
        "model_reg_lecun_uniform.add(tf.keras.layers.Dense(1))\n",
        "\n",
        "# Compile model\n",
        "model_reg_lecun_uniform.compile(optimizer='adam', loss=tf.keras.losses.mean_squared_error , metrics=['RootMeanSquaredError'])\n",
        "\n",
        "history_reg_lecun_uniform = model_reg_lecun_uniform.fit(X_train, y_train, epochs=num_epochs_reg, validation_data=(X_val, y_val))\n",
        "\n",
        "rmse_reg = pd.concat([rmse_reg, pd.DataFrame(history_reg_lecun_uniform.history)[['root_mean_squared_error', 'val_root_mean_squared_error']]], axis=1).rename(\n",
        "    columns={'root_mean_squared_error':'train_lecun_uniform_rmse', 'val_root_mean_squared_error':'val_lecun_uniform_rmse'})"
      ],
      "metadata": {
        "colab": {
          "base_uri": "https://localhost:8080/"
        },
        "id": "2y4FMVDZnjfD",
        "outputId": "bc67c855-30b9-485b-b078-8c0d96f9bd35"
      },
      "execution_count": null,
      "outputs": [
        {
          "output_type": "stream",
          "name": "stdout",
          "text": [
            "Epoch 1/20\n",
            "413/413 [==============================] - 2s 2ms/step - loss: 633.5954 - root_mean_squared_error: 25.1713 - val_loss: 2.4446 - val_root_mean_squared_error: 1.5635\n",
            "Epoch 2/20\n",
            "413/413 [==============================] - 1s 2ms/step - loss: 8.9610 - root_mean_squared_error: 2.9935 - val_loss: 1.6063 - val_root_mean_squared_error: 1.2674\n",
            "Epoch 3/20\n",
            "413/413 [==============================] - 1s 2ms/step - loss: 1.7066 - root_mean_squared_error: 1.3064 - val_loss: 4.6387 - val_root_mean_squared_error: 2.1538\n",
            "Epoch 4/20\n",
            "413/413 [==============================] - 1s 2ms/step - loss: 24.1650 - root_mean_squared_error: 4.9158 - val_loss: 1.3369 - val_root_mean_squared_error: 1.1563\n",
            "Epoch 5/20\n",
            "413/413 [==============================] - 1s 2ms/step - loss: 1.3647 - root_mean_squared_error: 1.1682 - val_loss: 1.5768 - val_root_mean_squared_error: 1.2557\n",
            "Epoch 6/20\n",
            "413/413 [==============================] - 1s 2ms/step - loss: 3.6701 - root_mean_squared_error: 1.9157 - val_loss: 2.2502 - val_root_mean_squared_error: 1.5001\n",
            "Epoch 7/20\n",
            "413/413 [==============================] - 1s 3ms/step - loss: 3.9641 - root_mean_squared_error: 1.9910 - val_loss: 1.6387 - val_root_mean_squared_error: 1.2801\n",
            "Epoch 8/20\n",
            "413/413 [==============================] - 1s 3ms/step - loss: 2.1814 - root_mean_squared_error: 1.4770 - val_loss: 2.3674 - val_root_mean_squared_error: 1.5386\n",
            "Epoch 9/20\n",
            "413/413 [==============================] - 1s 2ms/step - loss: 1.3744 - root_mean_squared_error: 1.1723 - val_loss: 5.3998 - val_root_mean_squared_error: 2.3237\n",
            "Epoch 10/20\n",
            "413/413 [==============================] - 1s 2ms/step - loss: 3.1656 - root_mean_squared_error: 1.7792 - val_loss: 1.0628 - val_root_mean_squared_error: 1.0309\n",
            "Epoch 11/20\n",
            "413/413 [==============================] - 1s 2ms/step - loss: 10.0283 - root_mean_squared_error: 3.1668 - val_loss: 1.2834 - val_root_mean_squared_error: 1.1329\n",
            "Epoch 12/20\n",
            "413/413 [==============================] - 1s 2ms/step - loss: 1.9062 - root_mean_squared_error: 1.3807 - val_loss: 1.0089 - val_root_mean_squared_error: 1.0044\n",
            "Epoch 13/20\n",
            "413/413 [==============================] - 1s 2ms/step - loss: 1.3380 - root_mean_squared_error: 1.1567 - val_loss: 1.0749 - val_root_mean_squared_error: 1.0368\n",
            "Epoch 14/20\n",
            "413/413 [==============================] - 1s 2ms/step - loss: 1.6450 - root_mean_squared_error: 1.2826 - val_loss: 0.7394 - val_root_mean_squared_error: 0.8599\n",
            "Epoch 15/20\n",
            "413/413 [==============================] - 1s 2ms/step - loss: 1.4965 - root_mean_squared_error: 1.2233 - val_loss: 1.2276 - val_root_mean_squared_error: 1.1080\n",
            "Epoch 16/20\n",
            "413/413 [==============================] - 1s 2ms/step - loss: 1.0514 - root_mean_squared_error: 1.0254 - val_loss: 0.8169 - val_root_mean_squared_error: 0.9038\n",
            "Epoch 17/20\n",
            "413/413 [==============================] - 1s 2ms/step - loss: 0.9414 - root_mean_squared_error: 0.9703 - val_loss: 1.1696 - val_root_mean_squared_error: 1.0815\n",
            "Epoch 18/20\n",
            "413/413 [==============================] - 1s 3ms/step - loss: 0.9360 - root_mean_squared_error: 0.9675 - val_loss: 1.0728 - val_root_mean_squared_error: 1.0358\n",
            "Epoch 19/20\n",
            "413/413 [==============================] - 2s 4ms/step - loss: 1.2144 - root_mean_squared_error: 1.1020 - val_loss: 2.9814 - val_root_mean_squared_error: 1.7267\n",
            "Epoch 20/20\n",
            "413/413 [==============================] - 1s 3ms/step - loss: 1.6319 - root_mean_squared_error: 1.2775 - val_loss: 0.7396 - val_root_mean_squared_error: 0.8600\n"
          ]
        }
      ]
    },
    {
      "cell_type": "code",
      "source": [
        "# Model with He normal initialization \n",
        "\n",
        "model_reg_he_normal = tf.keras.Sequential()\n",
        "for _ in range(5):\n",
        "    model_reg_he_normal.add(tf.keras.layers.Dense(100, activation='relu', kernel_initializer='he_normal'))\n",
        "model_reg_he_normal.add(tf.keras.layers.Dense(1))\n",
        "\n",
        "# Compile model\n",
        "model_reg_he_normal.compile(optimizer='adam', loss=tf.keras.losses.mean_squared_error , metrics=['RootMeanSquaredError'])\n",
        "\n",
        "history_reg_he_normal = model_reg_he_normal.fit(X_train, y_train, epochs=num_epochs_reg, validation_data=(X_val, y_val))\n",
        "\n",
        "rmse_reg = pd.concat([rmse_reg, pd.DataFrame(history_reg_he_normal.history)[['root_mean_squared_error', 'val_root_mean_squared_error']]], axis=1).rename(\n",
        "    columns={'root_mean_squared_error':'train_he_normal_rmse', 'val_root_mean_squared_error':'val_he_normal_rmse'})"
      ],
      "metadata": {
        "colab": {
          "base_uri": "https://localhost:8080/"
        },
        "id": "NQKY_5yKoxqA",
        "outputId": "1cdb0fd2-c6d4-4d7e-9061-3f5f911158a1"
      },
      "execution_count": null,
      "outputs": [
        {
          "output_type": "stream",
          "name": "stdout",
          "text": [
            "Epoch 1/20\n",
            "413/413 [==============================] - 2s 3ms/step - loss: 5630.0244 - root_mean_squared_error: 75.0335 - val_loss: 14.9955 - val_root_mean_squared_error: 3.8724\n",
            "Epoch 2/20\n",
            "413/413 [==============================] - 1s 2ms/step - loss: 41.1721 - root_mean_squared_error: 6.4165 - val_loss: 6.7678 - val_root_mean_squared_error: 2.6015\n",
            "Epoch 3/20\n",
            "413/413 [==============================] - 1s 2ms/step - loss: 260.9822 - root_mean_squared_error: 16.1549 - val_loss: 2265.4812 - val_root_mean_squared_error: 47.5971\n",
            "Epoch 4/20\n",
            "413/413 [==============================] - 1s 2ms/step - loss: 536.9331 - root_mean_squared_error: 23.1718 - val_loss: 5.4392 - val_root_mean_squared_error: 2.3322\n",
            "Epoch 5/20\n",
            "413/413 [==============================] - 1s 2ms/step - loss: 15.1305 - root_mean_squared_error: 3.8898 - val_loss: 3.6680 - val_root_mean_squared_error: 1.9152\n",
            "Epoch 6/20\n",
            "413/413 [==============================] - 1s 2ms/step - loss: 169.2596 - root_mean_squared_error: 13.0100 - val_loss: 37.4606 - val_root_mean_squared_error: 6.1205\n",
            "Epoch 7/20\n",
            "413/413 [==============================] - 1s 2ms/step - loss: 155.2414 - root_mean_squared_error: 12.4596 - val_loss: 1.6561 - val_root_mean_squared_error: 1.2869\n",
            "Epoch 8/20\n",
            "413/413 [==============================] - 1s 2ms/step - loss: 24.4514 - root_mean_squared_error: 4.9448 - val_loss: 2.2583 - val_root_mean_squared_error: 1.5028\n",
            "Epoch 9/20\n",
            "413/413 [==============================] - 1s 2ms/step - loss: 4.6023 - root_mean_squared_error: 2.1453 - val_loss: 2.9704 - val_root_mean_squared_error: 1.7235\n",
            "Epoch 10/20\n",
            "413/413 [==============================] - 1s 3ms/step - loss: 4.2663 - root_mean_squared_error: 2.0655 - val_loss: 11.4563 - val_root_mean_squared_error: 3.3847\n",
            "Epoch 11/20\n",
            "413/413 [==============================] - 1s 2ms/step - loss: 64.5979 - root_mean_squared_error: 8.0373 - val_loss: 36.0446 - val_root_mean_squared_error: 6.0037\n",
            "Epoch 12/20\n",
            "413/413 [==============================] - 1s 2ms/step - loss: 45.7906 - root_mean_squared_error: 6.7669 - val_loss: 2.1129 - val_root_mean_squared_error: 1.4536\n",
            "Epoch 13/20\n",
            "413/413 [==============================] - 1s 2ms/step - loss: 9.2819 - root_mean_squared_error: 3.0466 - val_loss: 3.7113 - val_root_mean_squared_error: 1.9265\n",
            "Epoch 14/20\n",
            "413/413 [==============================] - 1s 2ms/step - loss: 1.4756 - root_mean_squared_error: 1.2148 - val_loss: 1.1628 - val_root_mean_squared_error: 1.0784\n",
            "Epoch 15/20\n",
            "413/413 [==============================] - 1s 2ms/step - loss: 1.2778 - root_mean_squared_error: 1.1304 - val_loss: 1.1744 - val_root_mean_squared_error: 1.0837\n",
            "Epoch 16/20\n",
            "413/413 [==============================] - 1s 2ms/step - loss: 1.2377 - root_mean_squared_error: 1.1125 - val_loss: 1.1625 - val_root_mean_squared_error: 1.0782\n",
            "Epoch 17/20\n",
            "413/413 [==============================] - 1s 2ms/step - loss: 33.1787 - root_mean_squared_error: 5.7601 - val_loss: 1.9681 - val_root_mean_squared_error: 1.4029\n",
            "Epoch 18/20\n",
            "413/413 [==============================] - 1s 2ms/step - loss: 9.3455 - root_mean_squared_error: 3.0570 - val_loss: 27.0579 - val_root_mean_squared_error: 5.2017\n",
            "Epoch 19/20\n",
            "413/413 [==============================] - 1s 2ms/step - loss: 22.4916 - root_mean_squared_error: 4.7425 - val_loss: 1.6295 - val_root_mean_squared_error: 1.2765\n",
            "Epoch 20/20\n",
            "413/413 [==============================] - 1s 2ms/step - loss: 6.0617 - root_mean_squared_error: 2.4621 - val_loss: 1.3931 - val_root_mean_squared_error: 1.1803\n"
          ]
        }
      ]
    },
    {
      "cell_type": "code",
      "source": [
        "# Model with He Uniform initialization \n",
        "\n",
        "model_reg_he_uniform = tf.keras.Sequential()\n",
        "for _ in range(5):\n",
        "    model_reg_he_uniform.add(tf.keras.layers.Dense(100, activation='relu', kernel_initializer='he_uniform'))\n",
        "model_reg_he_uniform.add(tf.keras.layers.Dense(1))\n",
        "\n",
        "# Compile model\n",
        "model_reg_he_uniform.compile(optimizer='adam', loss=tf.keras.losses.mean_squared_error , metrics=['RootMeanSquaredError'])\n",
        "\n",
        "history_reg_he_uniform = model_reg_he_uniform.fit(X_train, y_train, epochs=num_epochs_reg, validation_data=(X_val, y_val))\n",
        "\n",
        "rmse_reg = pd.concat([rmse_reg, pd.DataFrame(history_reg_he_uniform.history)[['root_mean_squared_error', 'val_root_mean_squared_error']]], axis=1).rename(\n",
        "    columns={'root_mean_squared_error':'train_he_uniform_rmse', 'val_root_mean_squared_error':'val_he_uniform_rmse'})"
      ],
      "metadata": {
        "colab": {
          "base_uri": "https://localhost:8080/"
        },
        "id": "K8nyeOeory0c",
        "outputId": "557f6916-e87a-4b98-c907-149227be6807"
      },
      "execution_count": null,
      "outputs": [
        {
          "output_type": "stream",
          "name": "stdout",
          "text": [
            "Epoch 1/20\n",
            "413/413 [==============================] - 2s 3ms/step - loss: 2418.7795 - root_mean_squared_error: 49.1811 - val_loss: 3.9976 - val_root_mean_squared_error: 1.9994\n",
            "Epoch 2/20\n",
            "413/413 [==============================] - 1s 3ms/step - loss: 52.6304 - root_mean_squared_error: 7.2547 - val_loss: 3.4588 - val_root_mean_squared_error: 1.8598\n",
            "Epoch 3/20\n",
            "413/413 [==============================] - 1s 2ms/step - loss: 226.1240 - root_mean_squared_error: 15.0374 - val_loss: 12.8006 - val_root_mean_squared_error: 3.5778\n",
            "Epoch 4/20\n",
            "413/413 [==============================] - 1s 2ms/step - loss: 124.2757 - root_mean_squared_error: 11.1479 - val_loss: 3.5554 - val_root_mean_squared_error: 1.8856\n",
            "Epoch 5/20\n",
            "413/413 [==============================] - 1s 2ms/step - loss: 3.4280 - root_mean_squared_error: 1.8515 - val_loss: 4.0192 - val_root_mean_squared_error: 2.0048\n",
            "Epoch 6/20\n",
            "413/413 [==============================] - 1s 2ms/step - loss: 77.6231 - root_mean_squared_error: 8.8104 - val_loss: 1.1930 - val_root_mean_squared_error: 1.0923\n",
            "Epoch 7/20\n",
            "413/413 [==============================] - 1s 2ms/step - loss: 3.2075 - root_mean_squared_error: 1.7909 - val_loss: 19.5876 - val_root_mean_squared_error: 4.4258\n",
            "Epoch 8/20\n",
            "413/413 [==============================] - 1s 2ms/step - loss: 1.6085 - root_mean_squared_error: 1.2683 - val_loss: 1.5533 - val_root_mean_squared_error: 1.2463\n",
            "Epoch 9/20\n",
            "413/413 [==============================] - 1s 2ms/step - loss: 5.5914 - root_mean_squared_error: 2.3646 - val_loss: 0.9826 - val_root_mean_squared_error: 0.9912\n",
            "Epoch 10/20\n",
            "413/413 [==============================] - 1s 2ms/step - loss: 7.3108 - root_mean_squared_error: 2.7038 - val_loss: 2.1020 - val_root_mean_squared_error: 1.4498\n",
            "Epoch 11/20\n",
            "413/413 [==============================] - 1s 2ms/step - loss: 143.6328 - root_mean_squared_error: 11.9847 - val_loss: 2.9925 - val_root_mean_squared_error: 1.7299\n",
            "Epoch 12/20\n",
            "413/413 [==============================] - 1s 2ms/step - loss: 1.8222 - root_mean_squared_error: 1.3499 - val_loss: 1.9221 - val_root_mean_squared_error: 1.3864\n",
            "Epoch 13/20\n",
            "413/413 [==============================] - 1s 3ms/step - loss: 1.5796 - root_mean_squared_error: 1.2568 - val_loss: 1.4236 - val_root_mean_squared_error: 1.1932\n",
            "Epoch 14/20\n",
            "413/413 [==============================] - 1s 3ms/step - loss: 1.3394 - root_mean_squared_error: 1.1573 - val_loss: 1.2087 - val_root_mean_squared_error: 1.0994\n",
            "Epoch 15/20\n",
            "413/413 [==============================] - 1s 2ms/step - loss: 3.3954 - root_mean_squared_error: 1.8427 - val_loss: 1.2192 - val_root_mean_squared_error: 1.1042\n",
            "Epoch 16/20\n",
            "413/413 [==============================] - 1s 2ms/step - loss: 1.3670 - root_mean_squared_error: 1.1692 - val_loss: 1.1716 - val_root_mean_squared_error: 1.0824\n",
            "Epoch 17/20\n",
            "413/413 [==============================] - 1s 2ms/step - loss: 3.4028 - root_mean_squared_error: 1.8447 - val_loss: 1.1531 - val_root_mean_squared_error: 1.0738\n",
            "Epoch 18/20\n",
            "413/413 [==============================] - 1s 2ms/step - loss: 1.3878 - root_mean_squared_error: 1.1780 - val_loss: 1.3134 - val_root_mean_squared_error: 1.1460\n",
            "Epoch 19/20\n",
            "413/413 [==============================] - 1s 2ms/step - loss: 4.8629 - root_mean_squared_error: 2.2052 - val_loss: 1.0748 - val_root_mean_squared_error: 1.0367\n",
            "Epoch 20/20\n",
            "413/413 [==============================] - 1s 2ms/step - loss: 17.7017 - root_mean_squared_error: 4.2073 - val_loss: 5.7415 - val_root_mean_squared_error: 2.3962\n"
          ]
        }
      ]
    },
    {
      "cell_type": "code",
      "source": [
        "rmse_reg"
      ],
      "metadata": {
        "colab": {
          "base_uri": "https://localhost:8080/",
          "height": 741
        },
        "id": "Sszh_rgK6NOM",
        "outputId": "2704f356-e4f6-4d4d-bc5d-81e25cc60c2b"
      },
      "execution_count": null,
      "outputs": [
        {
          "output_type": "execute_result",
          "data": {
            "text/plain": [
              "    train_rmse  val_rmse  train_lecun_normal_rmse  val_lecun_normal_rmse  \\\n",
              "0     6.329820  1.380180                 8.379531               5.179841   \n",
              "1     1.492645  1.180518                 1.827148               1.187604   \n",
              "2     1.276685  1.274355                 9.500740               1.239862   \n",
              "3     1.174844  0.941562                 2.428522               1.339550   \n",
              "4     1.419963  1.049366                 1.251559               3.438565   \n",
              "5     0.902114  1.078746                 1.437542               1.178857   \n",
              "6     0.922575  0.920924                 1.277263               1.400801   \n",
              "7     0.944319  0.844007                 1.078650               0.990565   \n",
              "8     0.937525  0.866918                 1.099770               1.098366   \n",
              "9     0.934323  1.004953                 1.044980               1.028803   \n",
              "10    0.904544  0.796654                 1.239489               0.953563   \n",
              "11    1.025953  1.588051                 1.039228               1.015905   \n",
              "12    0.926677  0.870992                 1.017139               1.331288   \n",
              "13    0.882141  0.934886                 1.248777               0.857491   \n",
              "14    0.879451  0.787577                 0.869852               0.884187   \n",
              "15    0.855577  0.880465                 0.960269               0.842247   \n",
              "16    0.818328  0.766957                 0.839458               0.833258   \n",
              "17    0.771307  0.792547                 0.911241               1.007949   \n",
              "18    0.791264  0.792012                 0.918522               0.834339   \n",
              "19    0.948003  0.803985                 0.846244               0.825973   \n",
              "\n",
              "    train_lecun_uniform_rmse  val_lecun_uniform_rmse  train_he_normal_rmse  \\\n",
              "0                  25.171322                1.563530             75.033485   \n",
              "1                   2.993493                1.267382              6.416546   \n",
              "2                   1.306358                2.153772             16.154945   \n",
              "3                   4.915789                1.156251             23.171818   \n",
              "4                   1.168210                1.255716              3.889800   \n",
              "5                   1.915743                1.500064             13.009979   \n",
              "6                   1.990995                1.280130             12.459590   \n",
              "7                   1.476956                1.538648              4.944838   \n",
              "8                   1.172348                2.323744              2.145288   \n",
              "9                   1.779222                1.030940              2.065496   \n",
              "10                  3.166755                1.132889              8.037283   \n",
              "11                  1.380669                1.004443              6.766878   \n",
              "12                  1.156717                1.036771              3.046620   \n",
              "13                  1.282567                0.859882              1.214750   \n",
              "14                  1.223330                1.107974              1.130406   \n",
              "15                  1.025394                0.903817              1.112537   \n",
              "16                  0.970282                1.081466              5.760094   \n",
              "17                  0.967493                1.035782              3.057041   \n",
              "18                  1.102019                1.726681              4.742528   \n",
              "19                  1.277471                0.860017              2.462052   \n",
              "\n",
              "    val_he_normal_rmse  train_he_uniform_rmse  val_he_uniform_rmse  \n",
              "0             3.872397              49.181087             1.999406  \n",
              "1             2.601492               7.254683             1.859785  \n",
              "2            47.597073              15.037419             3.577791  \n",
              "3             2.332208              11.147903             1.885579  \n",
              "4             1.915200               1.851475             2.004786  \n",
              "5             6.120505               8.810399             1.092253  \n",
              "6             1.286911               1.790938             4.425785  \n",
              "7             1.502764               1.268254             1.246331  \n",
              "8             1.723495               2.364624             0.991244  \n",
              "9             3.384718               2.703844             1.449825  \n",
              "10            6.003714              11.984689             1.729895  \n",
              "11            1.453566               1.349906             1.386399  \n",
              "12            1.926476               1.256814             1.193164  \n",
              "13            1.078353               1.157346             1.099395  \n",
              "14            1.083682               1.842654             1.104168  \n",
              "15            1.078203               1.169208             1.082423  \n",
              "16            1.402883               1.844668             1.073807  \n",
              "17            5.201721               1.178041             1.146040  \n",
              "18            1.276517               2.205191             1.036739  \n",
              "19            1.180307               4.207335             2.396153  "
            ],
            "text/html": [
              "\n",
              "  <div id=\"df-47defd35-70af-4c37-88d5-38c856e89843\">\n",
              "    <div class=\"colab-df-container\">\n",
              "      <div>\n",
              "<style scoped>\n",
              "    .dataframe tbody tr th:only-of-type {\n",
              "        vertical-align: middle;\n",
              "    }\n",
              "\n",
              "    .dataframe tbody tr th {\n",
              "        vertical-align: top;\n",
              "    }\n",
              "\n",
              "    .dataframe thead th {\n",
              "        text-align: right;\n",
              "    }\n",
              "</style>\n",
              "<table border=\"1\" class=\"dataframe\">\n",
              "  <thead>\n",
              "    <tr style=\"text-align: right;\">\n",
              "      <th></th>\n",
              "      <th>train_rmse</th>\n",
              "      <th>val_rmse</th>\n",
              "      <th>train_lecun_normal_rmse</th>\n",
              "      <th>val_lecun_normal_rmse</th>\n",
              "      <th>train_lecun_uniform_rmse</th>\n",
              "      <th>val_lecun_uniform_rmse</th>\n",
              "      <th>train_he_normal_rmse</th>\n",
              "      <th>val_he_normal_rmse</th>\n",
              "      <th>train_he_uniform_rmse</th>\n",
              "      <th>val_he_uniform_rmse</th>\n",
              "    </tr>\n",
              "  </thead>\n",
              "  <tbody>\n",
              "    <tr>\n",
              "      <th>0</th>\n",
              "      <td>6.329820</td>\n",
              "      <td>1.380180</td>\n",
              "      <td>8.379531</td>\n",
              "      <td>5.179841</td>\n",
              "      <td>25.171322</td>\n",
              "      <td>1.563530</td>\n",
              "      <td>75.033485</td>\n",
              "      <td>3.872397</td>\n",
              "      <td>49.181087</td>\n",
              "      <td>1.999406</td>\n",
              "    </tr>\n",
              "    <tr>\n",
              "      <th>1</th>\n",
              "      <td>1.492645</td>\n",
              "      <td>1.180518</td>\n",
              "      <td>1.827148</td>\n",
              "      <td>1.187604</td>\n",
              "      <td>2.993493</td>\n",
              "      <td>1.267382</td>\n",
              "      <td>6.416546</td>\n",
              "      <td>2.601492</td>\n",
              "      <td>7.254683</td>\n",
              "      <td>1.859785</td>\n",
              "    </tr>\n",
              "    <tr>\n",
              "      <th>2</th>\n",
              "      <td>1.276685</td>\n",
              "      <td>1.274355</td>\n",
              "      <td>9.500740</td>\n",
              "      <td>1.239862</td>\n",
              "      <td>1.306358</td>\n",
              "      <td>2.153772</td>\n",
              "      <td>16.154945</td>\n",
              "      <td>47.597073</td>\n",
              "      <td>15.037419</td>\n",
              "      <td>3.577791</td>\n",
              "    </tr>\n",
              "    <tr>\n",
              "      <th>3</th>\n",
              "      <td>1.174844</td>\n",
              "      <td>0.941562</td>\n",
              "      <td>2.428522</td>\n",
              "      <td>1.339550</td>\n",
              "      <td>4.915789</td>\n",
              "      <td>1.156251</td>\n",
              "      <td>23.171818</td>\n",
              "      <td>2.332208</td>\n",
              "      <td>11.147903</td>\n",
              "      <td>1.885579</td>\n",
              "    </tr>\n",
              "    <tr>\n",
              "      <th>4</th>\n",
              "      <td>1.419963</td>\n",
              "      <td>1.049366</td>\n",
              "      <td>1.251559</td>\n",
              "      <td>3.438565</td>\n",
              "      <td>1.168210</td>\n",
              "      <td>1.255716</td>\n",
              "      <td>3.889800</td>\n",
              "      <td>1.915200</td>\n",
              "      <td>1.851475</td>\n",
              "      <td>2.004786</td>\n",
              "    </tr>\n",
              "    <tr>\n",
              "      <th>5</th>\n",
              "      <td>0.902114</td>\n",
              "      <td>1.078746</td>\n",
              "      <td>1.437542</td>\n",
              "      <td>1.178857</td>\n",
              "      <td>1.915743</td>\n",
              "      <td>1.500064</td>\n",
              "      <td>13.009979</td>\n",
              "      <td>6.120505</td>\n",
              "      <td>8.810399</td>\n",
              "      <td>1.092253</td>\n",
              "    </tr>\n",
              "    <tr>\n",
              "      <th>6</th>\n",
              "      <td>0.922575</td>\n",
              "      <td>0.920924</td>\n",
              "      <td>1.277263</td>\n",
              "      <td>1.400801</td>\n",
              "      <td>1.990995</td>\n",
              "      <td>1.280130</td>\n",
              "      <td>12.459590</td>\n",
              "      <td>1.286911</td>\n",
              "      <td>1.790938</td>\n",
              "      <td>4.425785</td>\n",
              "    </tr>\n",
              "    <tr>\n",
              "      <th>7</th>\n",
              "      <td>0.944319</td>\n",
              "      <td>0.844007</td>\n",
              "      <td>1.078650</td>\n",
              "      <td>0.990565</td>\n",
              "      <td>1.476956</td>\n",
              "      <td>1.538648</td>\n",
              "      <td>4.944838</td>\n",
              "      <td>1.502764</td>\n",
              "      <td>1.268254</td>\n",
              "      <td>1.246331</td>\n",
              "    </tr>\n",
              "    <tr>\n",
              "      <th>8</th>\n",
              "      <td>0.937525</td>\n",
              "      <td>0.866918</td>\n",
              "      <td>1.099770</td>\n",
              "      <td>1.098366</td>\n",
              "      <td>1.172348</td>\n",
              "      <td>2.323744</td>\n",
              "      <td>2.145288</td>\n",
              "      <td>1.723495</td>\n",
              "      <td>2.364624</td>\n",
              "      <td>0.991244</td>\n",
              "    </tr>\n",
              "    <tr>\n",
              "      <th>9</th>\n",
              "      <td>0.934323</td>\n",
              "      <td>1.004953</td>\n",
              "      <td>1.044980</td>\n",
              "      <td>1.028803</td>\n",
              "      <td>1.779222</td>\n",
              "      <td>1.030940</td>\n",
              "      <td>2.065496</td>\n",
              "      <td>3.384718</td>\n",
              "      <td>2.703844</td>\n",
              "      <td>1.449825</td>\n",
              "    </tr>\n",
              "    <tr>\n",
              "      <th>10</th>\n",
              "      <td>0.904544</td>\n",
              "      <td>0.796654</td>\n",
              "      <td>1.239489</td>\n",
              "      <td>0.953563</td>\n",
              "      <td>3.166755</td>\n",
              "      <td>1.132889</td>\n",
              "      <td>8.037283</td>\n",
              "      <td>6.003714</td>\n",
              "      <td>11.984689</td>\n",
              "      <td>1.729895</td>\n",
              "    </tr>\n",
              "    <tr>\n",
              "      <th>11</th>\n",
              "      <td>1.025953</td>\n",
              "      <td>1.588051</td>\n",
              "      <td>1.039228</td>\n",
              "      <td>1.015905</td>\n",
              "      <td>1.380669</td>\n",
              "      <td>1.004443</td>\n",
              "      <td>6.766878</td>\n",
              "      <td>1.453566</td>\n",
              "      <td>1.349906</td>\n",
              "      <td>1.386399</td>\n",
              "    </tr>\n",
              "    <tr>\n",
              "      <th>12</th>\n",
              "      <td>0.926677</td>\n",
              "      <td>0.870992</td>\n",
              "      <td>1.017139</td>\n",
              "      <td>1.331288</td>\n",
              "      <td>1.156717</td>\n",
              "      <td>1.036771</td>\n",
              "      <td>3.046620</td>\n",
              "      <td>1.926476</td>\n",
              "      <td>1.256814</td>\n",
              "      <td>1.193164</td>\n",
              "    </tr>\n",
              "    <tr>\n",
              "      <th>13</th>\n",
              "      <td>0.882141</td>\n",
              "      <td>0.934886</td>\n",
              "      <td>1.248777</td>\n",
              "      <td>0.857491</td>\n",
              "      <td>1.282567</td>\n",
              "      <td>0.859882</td>\n",
              "      <td>1.214750</td>\n",
              "      <td>1.078353</td>\n",
              "      <td>1.157346</td>\n",
              "      <td>1.099395</td>\n",
              "    </tr>\n",
              "    <tr>\n",
              "      <th>14</th>\n",
              "      <td>0.879451</td>\n",
              "      <td>0.787577</td>\n",
              "      <td>0.869852</td>\n",
              "      <td>0.884187</td>\n",
              "      <td>1.223330</td>\n",
              "      <td>1.107974</td>\n",
              "      <td>1.130406</td>\n",
              "      <td>1.083682</td>\n",
              "      <td>1.842654</td>\n",
              "      <td>1.104168</td>\n",
              "    </tr>\n",
              "    <tr>\n",
              "      <th>15</th>\n",
              "      <td>0.855577</td>\n",
              "      <td>0.880465</td>\n",
              "      <td>0.960269</td>\n",
              "      <td>0.842247</td>\n",
              "      <td>1.025394</td>\n",
              "      <td>0.903817</td>\n",
              "      <td>1.112537</td>\n",
              "      <td>1.078203</td>\n",
              "      <td>1.169208</td>\n",
              "      <td>1.082423</td>\n",
              "    </tr>\n",
              "    <tr>\n",
              "      <th>16</th>\n",
              "      <td>0.818328</td>\n",
              "      <td>0.766957</td>\n",
              "      <td>0.839458</td>\n",
              "      <td>0.833258</td>\n",
              "      <td>0.970282</td>\n",
              "      <td>1.081466</td>\n",
              "      <td>5.760094</td>\n",
              "      <td>1.402883</td>\n",
              "      <td>1.844668</td>\n",
              "      <td>1.073807</td>\n",
              "    </tr>\n",
              "    <tr>\n",
              "      <th>17</th>\n",
              "      <td>0.771307</td>\n",
              "      <td>0.792547</td>\n",
              "      <td>0.911241</td>\n",
              "      <td>1.007949</td>\n",
              "      <td>0.967493</td>\n",
              "      <td>1.035782</td>\n",
              "      <td>3.057041</td>\n",
              "      <td>5.201721</td>\n",
              "      <td>1.178041</td>\n",
              "      <td>1.146040</td>\n",
              "    </tr>\n",
              "    <tr>\n",
              "      <th>18</th>\n",
              "      <td>0.791264</td>\n",
              "      <td>0.792012</td>\n",
              "      <td>0.918522</td>\n",
              "      <td>0.834339</td>\n",
              "      <td>1.102019</td>\n",
              "      <td>1.726681</td>\n",
              "      <td>4.742528</td>\n",
              "      <td>1.276517</td>\n",
              "      <td>2.205191</td>\n",
              "      <td>1.036739</td>\n",
              "    </tr>\n",
              "    <tr>\n",
              "      <th>19</th>\n",
              "      <td>0.948003</td>\n",
              "      <td>0.803985</td>\n",
              "      <td>0.846244</td>\n",
              "      <td>0.825973</td>\n",
              "      <td>1.277471</td>\n",
              "      <td>0.860017</td>\n",
              "      <td>2.462052</td>\n",
              "      <td>1.180307</td>\n",
              "      <td>4.207335</td>\n",
              "      <td>2.396153</td>\n",
              "    </tr>\n",
              "  </tbody>\n",
              "</table>\n",
              "</div>\n",
              "      <button class=\"colab-df-convert\" onclick=\"convertToInteractive('df-47defd35-70af-4c37-88d5-38c856e89843')\"\n",
              "              title=\"Convert this dataframe to an interactive table.\"\n",
              "              style=\"display:none;\">\n",
              "        \n",
              "  <svg xmlns=\"http://www.w3.org/2000/svg\" height=\"24px\"viewBox=\"0 0 24 24\"\n",
              "       width=\"24px\">\n",
              "    <path d=\"M0 0h24v24H0V0z\" fill=\"none\"/>\n",
              "    <path d=\"M18.56 5.44l.94 2.06.94-2.06 2.06-.94-2.06-.94-.94-2.06-.94 2.06-2.06.94zm-11 1L8.5 8.5l.94-2.06 2.06-.94-2.06-.94L8.5 2.5l-.94 2.06-2.06.94zm10 10l.94 2.06.94-2.06 2.06-.94-2.06-.94-.94-2.06-.94 2.06-2.06.94z\"/><path d=\"M17.41 7.96l-1.37-1.37c-.4-.4-.92-.59-1.43-.59-.52 0-1.04.2-1.43.59L10.3 9.45l-7.72 7.72c-.78.78-.78 2.05 0 2.83L4 21.41c.39.39.9.59 1.41.59.51 0 1.02-.2 1.41-.59l7.78-7.78 2.81-2.81c.8-.78.8-2.07 0-2.86zM5.41 20L4 18.59l7.72-7.72 1.47 1.35L5.41 20z\"/>\n",
              "  </svg>\n",
              "      </button>\n",
              "      \n",
              "  <style>\n",
              "    .colab-df-container {\n",
              "      display:flex;\n",
              "      flex-wrap:wrap;\n",
              "      gap: 12px;\n",
              "    }\n",
              "\n",
              "    .colab-df-convert {\n",
              "      background-color: #E8F0FE;\n",
              "      border: none;\n",
              "      border-radius: 50%;\n",
              "      cursor: pointer;\n",
              "      display: none;\n",
              "      fill: #1967D2;\n",
              "      height: 32px;\n",
              "      padding: 0 0 0 0;\n",
              "      width: 32px;\n",
              "    }\n",
              "\n",
              "    .colab-df-convert:hover {\n",
              "      background-color: #E2EBFA;\n",
              "      box-shadow: 0px 1px 2px rgba(60, 64, 67, 0.3), 0px 1px 3px 1px rgba(60, 64, 67, 0.15);\n",
              "      fill: #174EA6;\n",
              "    }\n",
              "\n",
              "    [theme=dark] .colab-df-convert {\n",
              "      background-color: #3B4455;\n",
              "      fill: #D2E3FC;\n",
              "    }\n",
              "\n",
              "    [theme=dark] .colab-df-convert:hover {\n",
              "      background-color: #434B5C;\n",
              "      box-shadow: 0px 1px 3px 1px rgba(0, 0, 0, 0.15);\n",
              "      filter: drop-shadow(0px 1px 2px rgba(0, 0, 0, 0.3));\n",
              "      fill: #FFFFFF;\n",
              "    }\n",
              "  </style>\n",
              "\n",
              "      <script>\n",
              "        const buttonEl =\n",
              "          document.querySelector('#df-47defd35-70af-4c37-88d5-38c856e89843 button.colab-df-convert');\n",
              "        buttonEl.style.display =\n",
              "          google.colab.kernel.accessAllowed ? 'block' : 'none';\n",
              "\n",
              "        async function convertToInteractive(key) {\n",
              "          const element = document.querySelector('#df-47defd35-70af-4c37-88d5-38c856e89843');\n",
              "          const dataTable =\n",
              "            await google.colab.kernel.invokeFunction('convertToInteractive',\n",
              "                                                     [key], {});\n",
              "          if (!dataTable) return;\n",
              "\n",
              "          const docLinkHtml = 'Like what you see? Visit the ' +\n",
              "            '<a target=\"_blank\" href=https://colab.research.google.com/notebooks/data_table.ipynb>data table notebook</a>'\n",
              "            + ' to learn more about interactive tables.';\n",
              "          element.innerHTML = '';\n",
              "          dataTable['output_type'] = 'display_data';\n",
              "          await google.colab.output.renderOutput(dataTable, element);\n",
              "          const docLink = document.createElement('div');\n",
              "          docLink.innerHTML = docLinkHtml;\n",
              "          element.appendChild(docLink);\n",
              "        }\n",
              "      </script>\n",
              "    </div>\n",
              "  </div>\n",
              "  "
            ]
          },
          "metadata": {},
          "execution_count": 31
        }
      ]
    },
    {
      "cell_type": "code",
      "source": [
        "# Visualize RMSE\n",
        "\n",
        "rmse_reg[['val_rmse', 'val_lecun_normal_rmse', 'val_lecun_uniform_rmse']].plot(figsize=(6, 3), xlim=[0, num_epochs_reg], xlabel='Epoch')\n",
        "plt.legend(loc='center left', bbox_to_anchor=(1, 0.5))\n",
        "plt.show()"
      ],
      "metadata": {
        "colab": {
          "base_uri": "https://localhost:8080/",
          "height": 311
        },
        "id": "Pw5giFwCrv_u",
        "outputId": "11121606-de3c-4e6f-d090-613be82276bb"
      },
      "execution_count": null,
      "outputs": [
        {
          "output_type": "display_data",
          "data": {
            "text/plain": [
              "<Figure size 600x300 with 1 Axes>"
            ],
            "image/png": "[encoded data removed]"
          },
          "metadata": {}
        }
      ]
    },
    {
      "cell_type": "code",
      "source": [
        "# Visualize RMSE\n",
        "\n",
        "rmse_reg[['val_rmse', 'val_he_normal_rmse', 'val_he_uniform_rmse']].plot(figsize=(6, 3), xlim=[0, num_epochs_reg], ylim=[0,5], xlabel='Epoch')\n",
        "plt.legend(loc='center left', bbox_to_anchor=(1, 0.5))\n",
        "plt.show()"
      ],
      "metadata": {
        "colab": {
          "base_uri": "https://localhost:8080/",
          "height": 316
        },
        "id": "5SVlYLXy5Zha",
        "outputId": "06d6cf7c-81f7-44f6-f8b6-86382dcca455"
      },
      "execution_count": null,
      "outputs": [
        {
          "output_type": "display_data",
          "data": {
            "text/plain": [
              "<Figure size 600x300 with 1 Axes>"
            ],
            "image/png": "[encoded data removed]"
          },
          "metadata": {}
        }
      ]
    },
    {
      "cell_type": "markdown",
      "source": [
        "1. As we see from above two graphs, the val_rmse is lowest with default intialization - glorot uniform. \n",
        "2. LeCun works better than He initialization.\n",
        "3. Within LeCun types, uniform initialization generalizes better. Similarly, for He initialization, uniform does better than normal."
      ],
      "metadata": {
        "id": "ZUFlCK5E7p0X"
      }
    },
    {
      "cell_type": "markdown",
      "source": [
        "#### Classification - Standard normal and xavier initialization"
      ],
      "metadata": {
        "id": "KQ3Chz5esG9U"
      }
    },
    {
      "cell_type": "markdown",
      "source": [
        "Normal initialization can be used with any activation function. Xavier is used with sigmoid or softmax activations.\n",
        "\n",
        "Normal Initialization: The weights and biases are initialized using a Gaussian distribution with a mean of zero and a standard deviation of one\n",
        "\n",
        "Xavier Initialization: The weights are initialized with a Gaussian distribution with a mean of zero and a standard deviation of sqrt(1/n), where n is the average number of input and output units."
      ],
      "metadata": {
        "id": "2dItWgb4vozR"
      }
    },
    {
      "cell_type": "code",
      "source": [
        "# Read dataset\n",
        "(X_train, y_train), (X_test, y_test) = tf.keras.datasets.fashion_mnist.load_data()\n",
        "\n",
        "# Split into train into train and val\n",
        "X_train, X_val, y_train, y_val = train_test_split(X_train, y_train, test_size=0.2, random_state=42)"
      ],
      "metadata": {
        "id": "pKBCCovSsGRv"
      },
      "execution_count": null,
      "outputs": []
    },
    {
      "cell_type": "code",
      "source": [
        "num_epochs_classi = 10\n",
        "acc_classi = pd.DataFrame()"
      ],
      "metadata": {
        "id": "O7uJcPu3tot1"
      },
      "execution_count": null,
      "outputs": []
    },
    {
      "cell_type": "code",
      "source": [
        "X_train[0]"
      ],
      "metadata": {
        "colab": {
          "base_uri": "https://localhost:8080/"
        },
        "id": "EfsUtNFDt4dE",
        "outputId": "288a3510-f84f-456c-cb89-4de87191ce6b"
      },
      "execution_count": null,
      "outputs": [
        {
          "output_type": "execute_result",
          "data": {
            "text/plain": [
              "array([[  0,   0,   0,   0,   0,   0,   0,   0,   0,   0,   0,   0,   0,\n",
              "          0,   0,   0,   0,   0,   0,   0,   0,   0,   0,   0,   0,   0,\n",
              "          0,   0],\n",
              "       [  0,   0,   0,   0,   0,   0,   0,   0,   0,   0,   0,   0,   0,\n",
              "          0,   0,   0,   0,   0,   0,   0,   0,   0,   0,   0,   0,   0,\n",
              "          0,   0],\n",
              "       [  0,   0,   0,   0,   0,   0,   0,   0,   0,   0,   0,   0,   0,\n",
              "          0,   0,   0,   0,   0,   0,   0,   0,   0,   0,   0,   0,   0,\n",
              "          0,   0],\n",
              "       [  0,   0,   0,   0,   0,   0,   0,   0,   0,   0,   0,   0,   0,\n",
              "          0,   0,   0,   0,   0,   0,   0,   0,   0,   0,   0,   0,   0,\n",
              "          0,   0],\n",
              "       [  0,   0,   0,   0,   0,   0,   0,   0,   0,   0,   0,   0,   0,\n",
              "          0,   0,   0,   0,   0,   0,   0,   0,   0,   0,   0,   0,   0,\n",
              "          0,   0],\n",
              "       [  0,   0,   0,   0,   0,   0,   0,   0,   0,   0,   0,   0,   0,\n",
              "          0,   0,   0,   0,   0,   0,   0,   0,   0,   0,   0,   0,   0,\n",
              "          0,   0],\n",
              "       [  0,   0,   0,   0,   0,   0,   0,   0,   0,   0,   0,   0,   0,\n",
              "          0,   0,   0,   0,   0,   0,   0,   0,   0,   0,   0,   0,   0,\n",
              "          0,   0],\n",
              "       [  0,   0,   0,   0,   0,   0,   0,   0,   0,   0,   0,   0,   0,\n",
              "          0,   0,   0,   0,   0,   0,   0,   0,   0,   0,   0,   0,   0,\n",
              "          0,   0],\n",
              "       [  0,   0,   0,   0,   0,   0,   0,   0,   0,   0,   0,   0,   0,\n",
              "          0,   0,   0,   0,   0,   0,   0,   0,   0,   0,   0,   0,   0,\n",
              "          0,   0],\n",
              "       [  0,   0,   0,   0,   0,   0,   0,   0,   0,   0,   0,   5,   0,\n",
              "          0,   0,  15,  33, 121, 113,   0,   0,   3,   0,   0,   0,  70,\n",
              "         11,   0],\n",
              "       [  0,   0,   0,   0,   0,   0,   0,   0,   0,   3,   0,   0,   0,\n",
              "         67, 189, 254, 214, 224, 209,  19,   0,   0,   0,   0,   0, 242,\n",
              "        196,   0],\n",
              "       [  0,   0,   0,   0,   0,   0,   0,   0,   0,   0,   0,  90, 231,\n",
              "        242, 227, 201, 178, 186, 208, 214,  95,   0,   0,   0, 102, 212,\n",
              "        221,   0],\n",
              "       [  0,   0,   0,   2,   2,   3,   0,   0,   0,  85, 252, 255, 205,\n",
              "        137,  68, 163, 210, 206, 216, 246, 255, 241, 193, 177, 203, 194,\n",
              "        228,  71],\n",
              "       [  0,   2,   0,   0,   0,   0,   0,  92, 255, 255, 153,  65, 128,\n",
              "        193, 161, 156, 203, 197, 203, 193, 200, 209, 225, 226, 220, 225,\n",
              "        255, 171],\n",
              "       [  0,   0,   0,   0,  17,  99, 232, 220, 134,  83, 125, 190, 213,\n",
              "        202, 228, 163, 188, 206, 220, 215, 203, 192, 202, 234, 246, 240,\n",
              "        244, 184],\n",
              "       [  0,  38, 125, 152, 161, 163, 109,  69, 111, 163, 223, 144, 175,\n",
              "        225, 221, 235, 183, 203, 217, 221, 223, 242, 253, 250, 233, 209,\n",
              "        221, 212],\n",
              "       [ 56, 207, 240, 239, 243, 240, 228, 226, 228, 211, 227, 206, 197,\n",
              "        198, 208, 237, 230, 225, 230, 233, 237, 245, 242, 239, 241, 237,\n",
              "        247, 221],\n",
              "       [  0,  12,  24,  62,  87, 168, 231, 239, 236, 233, 225, 226, 225,\n",
              "        230, 242, 246, 241, 236, 236, 246, 253, 253, 242, 236, 236, 227,\n",
              "        255, 147],\n",
              "       [  1,  14,   3,   4,   0,   0, 150, 255, 233, 239, 255, 255, 255,\n",
              "        255, 255, 231, 189, 160, 143, 136, 115,  95,  78,  73,  70,  49,\n",
              "         25,   0],\n",
              "       [  0,   0,   0,   1,  13,   0,   0,   0,  10,  28,  42,  34,  29,\n",
              "         29,  18,   0,   0,   0,   0,   0,   0,   0,   3,   1,   3,   1,\n",
              "          0,   0],\n",
              "       [  0,   0,   0,   0,   0,   0,   0,   0,   0,   0,   0,   0,   0,\n",
              "          0,   0,   0,   0,   0,   0,   0,   0,   0,   0,   0,   0,   0,\n",
              "          0,   0],\n",
              "       [  0,   0,   0,   0,   0,   0,   0,   0,   0,   0,   0,   0,   0,\n",
              "          0,   0,   0,   0,   0,   0,   0,   0,   0,   0,   0,   0,   0,\n",
              "          0,   0],\n",
              "       [  0,   0,   0,   0,   0,   0,   0,   0,   0,   0,   0,   0,   0,\n",
              "          0,   0,   0,   0,   0,   0,   0,   0,   0,   0,   0,   0,   0,\n",
              "          0,   0],\n",
              "       [  0,   0,   0,   0,   0,   0,   0,   0,   0,   0,   0,   0,   0,\n",
              "          0,   0,   0,   0,   0,   0,   0,   0,   0,   0,   0,   0,   0,\n",
              "          0,   0],\n",
              "       [  0,   0,   0,   0,   0,   0,   0,   0,   0,   0,   0,   0,   0,\n",
              "          0,   0,   0,   0,   0,   0,   0,   0,   0,   0,   0,   0,   0,\n",
              "          0,   0],\n",
              "       [  0,   0,   0,   0,   0,   0,   0,   0,   0,   0,   0,   0,   0,\n",
              "          0,   0,   0,   0,   0,   0,   0,   0,   0,   0,   0,   0,   0,\n",
              "          0,   0],\n",
              "       [  0,   0,   0,   0,   0,   0,   0,   0,   0,   0,   0,   0,   0,\n",
              "          0,   0,   0,   0,   0,   0,   0,   0,   0,   0,   0,   0,   0,\n",
              "          0,   0],\n",
              "       [  0,   0,   0,   0,   0,   0,   0,   0,   0,   0,   0,   0,   0,\n",
              "          0,   0,   0,   0,   0,   0,   0,   0,   0,   0,   0,   0,   0,\n",
              "          0,   0]], dtype=uint8)"
            ]
          },
          "metadata": {},
          "execution_count": 22
        }
      ]
    },
    {
      "cell_type": "code",
      "source": [
        "# Training images\n",
        "\n",
        "num_images = 10\n",
        "images = X_train.take(num_images)\n",
        "\n",
        "# Plot the images\n",
        "fig, axes = plt.subplots(nrows=2, ncols=5, figsize=(10, 5))\n",
        "for i, ax in zip(range(num_images), axes.ravel()):\n",
        "  ax.imshow(X_train[i], cmap='binary')\n",
        "  ax.axis('off')\n",
        "plt.tight_layout()\n",
        "plt.show()"
      ],
      "metadata": {
        "colab": {
          "base_uri": "https://localhost:8080/",
          "height": 440
        },
        "id": "domh2-PetvzI",
        "outputId": "125b872e-d267-48bf-bd7a-e31e7428cd5e"
      },
      "execution_count": null,
      "outputs": [
        {
          "output_type": "display_data",
          "data": {
            "text/plain": [
              "<Figure size 1000x500 with 10 Axes>"
            ],
            "image/png": "[encoded data removed]"
          },
          "metadata": {}
        }
      ]
    },
    {
      "cell_type": "code",
      "source": [
        "# Reshape and Normalize pixels in images \n",
        "\n",
        "X_train, X_val, X_test = X_train.reshape(-1, 28, 28, 1) /255.0, X_val.reshape(-1, 28, 28, 1) /255.0, X_test.reshape(-1, 28, 28, 1) /255.0"
      ],
      "metadata": {
        "id": "3sJMQ_2IuzZW"
      },
      "execution_count": null,
      "outputs": []
    },
    {
      "cell_type": "code",
      "source": [
        "X_train.shape, X_val.shape, X_test.shape"
      ],
      "metadata": {
        "colab": {
          "base_uri": "https://localhost:8080/"
        },
        "id": "h5YzMb2FvLBr",
        "outputId": "b6644549-cb9e-4c95-a1bd-7bf4f772c64a"
      },
      "execution_count": null,
      "outputs": [
        {
          "output_type": "execute_result",
          "data": {
            "text/plain": [
              "((48000, 28, 28, 1), (12000, 28, 28, 1), (10000, 28, 28, 1))"
            ]
          },
          "metadata": {},
          "execution_count": 25
        }
      ]
    },
    {
      "cell_type": "code",
      "source": [
        "# Model with default initialization - glorot/xavier uniform\n",
        "\n",
        "model_classi = tf.keras.Sequential([\n",
        "        tf.keras.layers.Conv2D(32, (3, 3), activation='relu', input_shape=(28,28,1)),\n",
        "        tf.keras.layers.MaxPooling2D((2, 2)),\n",
        "        tf.keras.layers.Conv2D(64, (3, 3), activation='relu'),\n",
        "        tf.keras.layers.MaxPooling2D((2, 2)),\n",
        "        tf.keras.layers.Flatten(),\n",
        "        tf.keras.layers.Dense(128, activation='relu'),\n",
        "        tf.keras.layers.Dense(10, activation='softmax')\n",
        "])\n",
        "\n",
        "# Compile model\n",
        "model_classi.compile(optimizer='adam', loss=tf.keras.losses.sparse_categorical_crossentropy, metrics=['accuracy'])\n",
        "\n",
        "# Train model\n",
        "history_classi = model_classi.fit(X_train, y_train, epochs=num_epochs_classi, validation_data=(X_val, y_val))\n",
        "\n",
        "acc_classi = pd.concat([acc_classi, pd.DataFrame(history_classi.history)[['accuracy', 'val_accuracy']]], axis=1).rename(\n",
        "    columns={'accuracy':'train_acc', 'val_accuracy':'val_acc'})"
      ],
      "metadata": {
        "colab": {
          "base_uri": "https://localhost:8080/"
        },
        "id": "mTqZhs3AvB8z",
        "outputId": "5787b030-dce2-4343-fdd6-5bf79e7be0c5"
      },
      "execution_count": null,
      "outputs": [
        {
          "output_type": "stream",
          "name": "stdout",
          "text": [
            "Epoch 1/10\n",
            "1500/1500 [==============================] - 42s 27ms/step - loss: 0.4821 - accuracy: 0.8261 - val_loss: 0.3505 - val_accuracy: 0.8712\n",
            "Epoch 2/10\n",
            "1500/1500 [==============================] - 47s 31ms/step - loss: 0.3236 - accuracy: 0.8829 - val_loss: 0.3100 - val_accuracy: 0.8888\n",
            "Epoch 3/10\n",
            "1500/1500 [==============================] - 36s 24ms/step - loss: 0.2755 - accuracy: 0.8984 - val_loss: 0.2907 - val_accuracy: 0.8947\n",
            "Epoch 4/10\n",
            "1500/1500 [==============================] - 37s 25ms/step - loss: 0.2413 - accuracy: 0.9109 - val_loss: 0.2562 - val_accuracy: 0.9081\n",
            "Epoch 5/10\n",
            "1500/1500 [==============================] - 36s 24ms/step - loss: 0.2140 - accuracy: 0.9205 - val_loss: 0.2538 - val_accuracy: 0.9071\n",
            "Epoch 6/10\n",
            "1500/1500 [==============================] - 35s 23ms/step - loss: 0.1876 - accuracy: 0.9299 - val_loss: 0.2685 - val_accuracy: 0.9065\n",
            "Epoch 7/10\n",
            "1500/1500 [==============================] - 34s 23ms/step - loss: 0.1689 - accuracy: 0.9371 - val_loss: 0.2605 - val_accuracy: 0.9098\n",
            "Epoch 8/10\n",
            "1500/1500 [==============================] - 34s 23ms/step - loss: 0.1496 - accuracy: 0.9446 - val_loss: 0.2650 - val_accuracy: 0.9107\n",
            "Epoch 9/10\n",
            "1500/1500 [==============================] - 34s 23ms/step - loss: 0.1323 - accuracy: 0.9509 - val_loss: 0.2608 - val_accuracy: 0.9118\n",
            "Epoch 10/10\n",
            "1500/1500 [==============================] - 34s 23ms/step - loss: 0.1153 - accuracy: 0.9559 - val_loss: 0.3109 - val_accuracy: 0.9022\n"
          ]
        }
      ]
    },
    {
      "cell_type": "code",
      "source": [
        "# Model with Normal initialization\n",
        "\n",
        "model_classi_normal = tf.keras.Sequential([\n",
        "        tf.keras.layers.Conv2D(32, (3, 3), activation='relu', input_shape=(28,28,1), kernel_initializer=tf.keras.initializers.RandomNormal(mean=0.0, stddev=1)),\n",
        "        tf.keras.layers.MaxPooling2D((2, 2)),\n",
        "        tf.keras.layers.Conv2D(64, (3, 3), activation='relu', kernel_initializer=tf.keras.initializers.RandomNormal(mean=0.0, stddev=1)),\n",
        "        tf.keras.layers.MaxPooling2D((2, 2)),\n",
        "        tf.keras.layers.Flatten(),\n",
        "        tf.keras.layers.Dense(128, activation='relu', kernel_initializer=tf.keras.initializers.RandomNormal(mean=0.0, stddev=1)),\n",
        "        tf.keras.layers.Dense(10, activation='softmax')\n",
        "])\n",
        "\n",
        "# Compile model\n",
        "model_classi_normal.compile(optimizer='adam', loss=tf.keras.losses.sparse_categorical_crossentropy, metrics=['accuracy'])\n",
        "\n",
        "# Train model\n",
        "history_classi_normal = model_classi_normal.fit(X_train, y_train, epochs=num_epochs_classi, validation_data=(X_val, y_val))\n",
        "\n",
        "acc_classi = pd.concat([acc_classi, pd.DataFrame(history_classi_normal.history)[['accuracy', 'val_accuracy']]], axis=1).rename(\n",
        "    columns={'accuracy':'train_normal_acc', 'val_accuracy':'val_normal_acc'})"
      ],
      "metadata": {
        "colab": {
          "base_uri": "https://localhost:8080/"
        },
        "id": "SBjslNKqwSaZ",
        "outputId": "9d32c5d2-d403-44cb-e2cb-f29a882ea32e"
      },
      "execution_count": null,
      "outputs": [
        {
          "output_type": "stream",
          "name": "stdout",
          "text": [
            "Epoch 1/10\n",
            "1500/1500 [==============================] - 36s 23ms/step - loss: 27.1474 - accuracy: 0.7119 - val_loss: 9.7072 - val_accuracy: 0.7682\n",
            "Epoch 2/10\n",
            "1500/1500 [==============================] - 34s 23ms/step - loss: 6.3863 - accuracy: 0.7809 - val_loss: 3.9694 - val_accuracy: 0.7903\n",
            "Epoch 3/10\n",
            "1500/1500 [==============================] - 34s 23ms/step - loss: 2.3745 - accuracy: 0.7910 - val_loss: 1.6425 - val_accuracy: 0.7829\n",
            "Epoch 4/10\n",
            "1500/1500 [==============================] - 34s 23ms/step - loss: 1.0521 - accuracy: 0.7947 - val_loss: 1.0086 - val_accuracy: 0.7902\n",
            "Epoch 5/10\n",
            "1500/1500 [==============================] - 35s 23ms/step - loss: 0.7150 - accuracy: 0.7995 - val_loss: 0.7313 - val_accuracy: 0.7856\n",
            "Epoch 6/10\n",
            "1500/1500 [==============================] - 34s 23ms/step - loss: 0.5966 - accuracy: 0.8069 - val_loss: 0.6545 - val_accuracy: 0.8038\n",
            "Epoch 7/10\n",
            "1500/1500 [==============================] - 34s 23ms/step - loss: 0.5324 - accuracy: 0.8179 - val_loss: 0.6115 - val_accuracy: 0.8048\n",
            "Epoch 8/10\n",
            "1500/1500 [==============================] - 33s 22ms/step - loss: 0.4858 - accuracy: 0.8293 - val_loss: 0.5474 - val_accuracy: 0.8223\n",
            "Epoch 9/10\n",
            "1500/1500 [==============================] - 36s 24ms/step - loss: 0.4464 - accuracy: 0.8421 - val_loss: 0.5196 - val_accuracy: 0.8300\n",
            "Epoch 10/10\n",
            "1500/1500 [==============================] - 34s 23ms/step - loss: 0.4163 - accuracy: 0.8507 - val_loss: 0.4989 - val_accuracy: 0.8393\n"
          ]
        }
      ]
    },
    {
      "cell_type": "code",
      "source": [
        "# Model with Xavier normal/ glorot initialization\n",
        "\n",
        "model_classi_xavier = tf.keras.Sequential([\n",
        "        tf.keras.layers.Conv2D(32, (3, 3), activation='relu', input_shape=(28,28,1), kernel_initializer='glorot_normal'),\n",
        "        tf.keras.layers.MaxPooling2D((2, 2)),\n",
        "        tf.keras.layers.Conv2D(64, (3, 3), activation='relu', kernel_initializer='glorot_normal'),\n",
        "        tf.keras.layers.MaxPooling2D((2, 2)),\n",
        "        tf.keras.layers.Flatten(),\n",
        "        tf.keras.layers.Dense(128, activation='relu', kernel_initializer='glorot_normal'),\n",
        "        tf.keras.layers.Dense(10, activation='softmax')\n",
        "])\n",
        "\n",
        "# Compile model\n",
        "model_classi_xavier.compile(optimizer='adam', loss=tf.keras.losses.sparse_categorical_crossentropy, metrics=['accuracy'])\n",
        "\n",
        "# Train model\n",
        "history_classi_xavier = model_classi_xavier.fit(X_train, y_train, epochs=num_epochs_classi, validation_data=(X_val, y_val))\n",
        "\n",
        "acc_classi = pd.concat([acc_classi, pd.DataFrame(history_classi_xavier.history)[['accuracy', 'val_accuracy']]], axis=1).rename(\n",
        "    columns={'accuracy':'train_xavier_acc', 'val_accuracy':'val_xavier_acc'})"
      ],
      "metadata": {
        "colab": {
          "base_uri": "https://localhost:8080/"
        },
        "id": "K0BZFtRvxi8f",
        "outputId": "d0be802c-2da1-44a7-e022-e53a9a2a4ad3"
      },
      "execution_count": null,
      "outputs": [
        {
          "output_type": "stream",
          "name": "stdout",
          "text": [
            "Epoch 1/10\n",
            "1500/1500 [==============================] - 35s 23ms/step - loss: 0.4678 - accuracy: 0.8307 - val_loss: 0.3487 - val_accuracy: 0.8726\n",
            "Epoch 2/10\n",
            "1500/1500 [==============================] - 37s 24ms/step - loss: 0.3128 - accuracy: 0.8850 - val_loss: 0.3008 - val_accuracy: 0.8881\n",
            "Epoch 3/10\n",
            "1500/1500 [==============================] - 34s 23ms/step - loss: 0.2651 - accuracy: 0.9033 - val_loss: 0.3044 - val_accuracy: 0.8909\n",
            "Epoch 4/10\n",
            "1500/1500 [==============================] - 33s 22ms/step - loss: 0.2321 - accuracy: 0.9139 - val_loss: 0.2708 - val_accuracy: 0.9006\n",
            "Epoch 5/10\n",
            "1500/1500 [==============================] - 34s 23ms/step - loss: 0.2039 - accuracy: 0.9249 - val_loss: 0.2487 - val_accuracy: 0.9066\n",
            "Epoch 6/10\n",
            "1500/1500 [==============================] - 34s 23ms/step - loss: 0.1814 - accuracy: 0.9309 - val_loss: 0.2649 - val_accuracy: 0.9030\n",
            "Epoch 7/10\n",
            "1500/1500 [==============================] - 34s 23ms/step - loss: 0.1599 - accuracy: 0.9392 - val_loss: 0.2585 - val_accuracy: 0.9101\n",
            "Epoch 8/10\n",
            "1500/1500 [==============================] - 34s 23ms/step - loss: 0.1399 - accuracy: 0.9462 - val_loss: 0.2741 - val_accuracy: 0.9060\n",
            "Epoch 9/10\n",
            "1500/1500 [==============================] - 34s 23ms/step - loss: 0.1219 - accuracy: 0.9539 - val_loss: 0.2853 - val_accuracy: 0.9102\n",
            "Epoch 10/10\n",
            "1500/1500 [==============================] - 34s 23ms/step - loss: 0.1079 - accuracy: 0.9586 - val_loss: 0.2914 - val_accuracy: 0.9099\n"
          ]
        }
      ]
    },
    {
      "cell_type": "code",
      "source": [
        "acc_classi"
      ],
      "metadata": {
        "colab": {
          "base_uri": "https://localhost:8080/",
          "height": 363
        },
        "id": "Xz62K-y50XEl",
        "outputId": "ee6e6103-f615-47de-f070-fe93f7d6acc1"
      },
      "execution_count": null,
      "outputs": [
        {
          "output_type": "execute_result",
          "data": {
            "text/plain": [
              "   train_acc   val_acc  train_normal_acc  val_normal_acc  train_xavier_acc  \\\n",
              "0   0.826063  0.871167          0.711937        0.768167          0.830667   \n",
              "1   0.882854  0.888833          0.780854        0.790250          0.885021   \n",
              "2   0.898417  0.894667          0.790958        0.782917          0.903292   \n",
              "3   0.910875  0.908083          0.794667        0.790167          0.913896   \n",
              "4   0.920521  0.907083          0.799458        0.785583          0.924917   \n",
              "5   0.929937  0.906500          0.806917        0.803833          0.930917   \n",
              "6   0.937083  0.909833          0.817917        0.804750          0.939208   \n",
              "7   0.944562  0.910750          0.829313        0.822333          0.946229   \n",
              "8   0.950854  0.911750          0.842146        0.830000          0.953917   \n",
              "9   0.955917  0.902167          0.850688        0.839333          0.958646   \n",
              "\n",
              "   val_xavier_acc  \n",
              "0        0.872583  \n",
              "1        0.888083  \n",
              "2        0.890917  \n",
              "3        0.900583  \n",
              "4        0.906583  \n",
              "5        0.903000  \n",
              "6        0.910083  \n",
              "7        0.906000  \n",
              "8        0.910167  \n",
              "9        0.909917  "
            ],
            "text/html": [
              "\n",
              "  <div id=\"df-fccd5273-bd07-474a-b7e6-77b9ec759cc8\">\n",
              "    <div class=\"colab-df-container\">\n",
              "      <div>\n",
              "<style scoped>\n",
              "    .dataframe tbody tr th:only-of-type {\n",
              "        vertical-align: middle;\n",
              "    }\n",
              "\n",
              "    .dataframe tbody tr th {\n",
              "        vertical-align: top;\n",
              "    }\n",
              "\n",
              "    .dataframe thead th {\n",
              "        text-align: right;\n",
              "    }\n",
              "</style>\n",
              "<table border=\"1\" class=\"dataframe\">\n",
              "  <thead>\n",
              "    <tr style=\"text-align: right;\">\n",
              "      <th></th>\n",
              "      <th>train_acc</th>\n",
              "      <th>val_acc</th>\n",
              "      <th>train_normal_acc</th>\n",
              "      <th>val_normal_acc</th>\n",
              "      <th>train_xavier_acc</th>\n",
              "      <th>val_xavier_acc</th>\n",
              "    </tr>\n",
              "  </thead>\n",
              "  <tbody>\n",
              "    <tr>\n",
              "      <th>0</th>\n",
              "      <td>0.826063</td>\n",
              "      <td>0.871167</td>\n",
              "      <td>0.711937</td>\n",
              "      <td>0.768167</td>\n",
              "      <td>0.830667</td>\n",
              "      <td>0.872583</td>\n",
              "    </tr>\n",
              "    <tr>\n",
              "      <th>1</th>\n",
              "      <td>0.882854</td>\n",
              "      <td>0.888833</td>\n",
              "      <td>0.780854</td>\n",
              "      <td>0.790250</td>\n",
              "      <td>0.885021</td>\n",
              "      <td>0.888083</td>\n",
              "    </tr>\n",
              "    <tr>\n",
              "      <th>2</th>\n",
              "      <td>0.898417</td>\n",
              "      <td>0.894667</td>\n",
              "      <td>0.790958</td>\n",
              "      <td>0.782917</td>\n",
              "      <td>0.903292</td>\n",
              "      <td>0.890917</td>\n",
              "    </tr>\n",
              "    <tr>\n",
              "      <th>3</th>\n",
              "      <td>0.910875</td>\n",
              "      <td>0.908083</td>\n",
              "      <td>0.794667</td>\n",
              "      <td>0.790167</td>\n",
              "      <td>0.913896</td>\n",
              "      <td>0.900583</td>\n",
              "    </tr>\n",
              "    <tr>\n",
              "      <th>4</th>\n",
              "      <td>0.920521</td>\n",
              "      <td>0.907083</td>\n",
              "      <td>0.799458</td>\n",
              "      <td>0.785583</td>\n",
              "      <td>0.924917</td>\n",
              "      <td>0.906583</td>\n",
              "    </tr>\n",
              "    <tr>\n",
              "      <th>5</th>\n",
              "      <td>0.929937</td>\n",
              "      <td>0.906500</td>\n",
              "      <td>0.806917</td>\n",
              "      <td>0.803833</td>\n",
              "      <td>0.930917</td>\n",
              "      <td>0.903000</td>\n",
              "    </tr>\n",
              "    <tr>\n",
              "      <th>6</th>\n",
              "      <td>0.937083</td>\n",
              "      <td>0.909833</td>\n",
              "      <td>0.817917</td>\n",
              "      <td>0.804750</td>\n",
              "      <td>0.939208</td>\n",
              "      <td>0.910083</td>\n",
              "    </tr>\n",
              "    <tr>\n",
              "      <th>7</th>\n",
              "      <td>0.944562</td>\n",
              "      <td>0.910750</td>\n",
              "      <td>0.829313</td>\n",
              "      <td>0.822333</td>\n",
              "      <td>0.946229</td>\n",
              "      <td>0.906000</td>\n",
              "    </tr>\n",
              "    <tr>\n",
              "      <th>8</th>\n",
              "      <td>0.950854</td>\n",
              "      <td>0.911750</td>\n",
              "      <td>0.842146</td>\n",
              "      <td>0.830000</td>\n",
              "      <td>0.953917</td>\n",
              "      <td>0.910167</td>\n",
              "    </tr>\n",
              "    <tr>\n",
              "      <th>9</th>\n",
              "      <td>0.955917</td>\n",
              "      <td>0.902167</td>\n",
              "      <td>0.850688</td>\n",
              "      <td>0.839333</td>\n",
              "      <td>0.958646</td>\n",
              "      <td>0.909917</td>\n",
              "    </tr>\n",
              "  </tbody>\n",
              "</table>\n",
              "</div>\n",
              "      <button class=\"colab-df-convert\" onclick=\"convertToInteractive('df-fccd5273-bd07-474a-b7e6-77b9ec759cc8')\"\n",
              "              title=\"Convert this dataframe to an interactive table.\"\n",
              "              style=\"display:none;\">\n",
              "        \n",
              "  <svg xmlns=\"http://www.w3.org/2000/svg\" height=\"24px\"viewBox=\"0 0 24 24\"\n",
              "       width=\"24px\">\n",
              "    <path d=\"M0 0h24v24H0V0z\" fill=\"none\"/>\n",
              "    <path d=\"M18.56 5.44l.94 2.06.94-2.06 2.06-.94-2.06-.94-.94-2.06-.94 2.06-2.06.94zm-11 1L8.5 8.5l.94-2.06 2.06-.94-2.06-.94L8.5 2.5l-.94 2.06-2.06.94zm10 10l.94 2.06.94-2.06 2.06-.94-2.06-.94-.94-2.06-.94 2.06-2.06.94z\"/><path d=\"M17.41 7.96l-1.37-1.37c-.4-.4-.92-.59-1.43-.59-.52 0-1.04.2-1.43.59L10.3 9.45l-7.72 7.72c-.78.78-.78 2.05 0 2.83L4 21.41c.39.39.9.59 1.41.59.51 0 1.02-.2 1.41-.59l7.78-7.78 2.81-2.81c.8-.78.8-2.07 0-2.86zM5.41 20L4 18.59l7.72-7.72 1.47 1.35L5.41 20z\"/>\n",
              "  </svg>\n",
              "      </button>\n",
              "      \n",
              "  <style>\n",
              "    .colab-df-container {\n",
              "      display:flex;\n",
              "      flex-wrap:wrap;\n",
              "      gap: 12px;\n",
              "    }\n",
              "\n",
              "    .colab-df-convert {\n",
              "      background-color: #E8F0FE;\n",
              "      border: none;\n",
              "      border-radius: 50%;\n",
              "      cursor: pointer;\n",
              "      display: none;\n",
              "      fill: #1967D2;\n",
              "      height: 32px;\n",
              "      padding: 0 0 0 0;\n",
              "      width: 32px;\n",
              "    }\n",
              "\n",
              "    .colab-df-convert:hover {\n",
              "      background-color: #E2EBFA;\n",
              "      box-shadow: 0px 1px 2px rgba(60, 64, 67, 0.3), 0px 1px 3px 1px rgba(60, 64, 67, 0.15);\n",
              "      fill: #174EA6;\n",
              "    }\n",
              "\n",
              "    [theme=dark] .colab-df-convert {\n",
              "      background-color: #3B4455;\n",
              "      fill: #D2E3FC;\n",
              "    }\n",
              "\n",
              "    [theme=dark] .colab-df-convert:hover {\n",
              "      background-color: #434B5C;\n",
              "      box-shadow: 0px 1px 3px 1px rgba(0, 0, 0, 0.15);\n",
              "      filter: drop-shadow(0px 1px 2px rgba(0, 0, 0, 0.3));\n",
              "      fill: #FFFFFF;\n",
              "    }\n",
              "  </style>\n",
              "\n",
              "      <script>\n",
              "        const buttonEl =\n",
              "          document.querySelector('#df-fccd5273-bd07-474a-b7e6-77b9ec759cc8 button.colab-df-convert');\n",
              "        buttonEl.style.display =\n",
              "          google.colab.kernel.accessAllowed ? 'block' : 'none';\n",
              "\n",
              "        async function convertToInteractive(key) {\n",
              "          const element = document.querySelector('#df-fccd5273-bd07-474a-b7e6-77b9ec759cc8');\n",
              "          const dataTable =\n",
              "            await google.colab.kernel.invokeFunction('convertToInteractive',\n",
              "                                                     [key], {});\n",
              "          if (!dataTable) return;\n",
              "\n",
              "          const docLinkHtml = 'Like what you see? Visit the ' +\n",
              "            '<a target=\"_blank\" href=https://colab.research.google.com/notebooks/data_table.ipynb>data table notebook</a>'\n",
              "            + ' to learn more about interactive tables.';\n",
              "          element.innerHTML = '';\n",
              "          dataTable['output_type'] = 'display_data';\n",
              "          await google.colab.output.renderOutput(dataTable, element);\n",
              "          const docLink = document.createElement('div');\n",
              "          docLink.innerHTML = docLinkHtml;\n",
              "          element.appendChild(docLink);\n",
              "        }\n",
              "      </script>\n",
              "    </div>\n",
              "  </div>\n",
              "  "
            ]
          },
          "metadata": {},
          "execution_count": 30
        }
      ]
    },
    {
      "cell_type": "code",
      "source": [
        "# Visualize accuracy\n",
        "\n",
        "acc_classi[['train_acc', 'train_normal_acc', 'train_xavier_acc']].plot(figsize=(6, 3), xlim=[0, num_epochs_classi], xlabel='Epoch')\n",
        "plt.legend(loc='center left', bbox_to_anchor=(1, 0.5))\n",
        "plt.show()"
      ],
      "metadata": {
        "colab": {
          "base_uri": "https://localhost:8080/",
          "height": 311
        },
        "id": "OhtCsI3-BnLo",
        "outputId": "0b27fd37-07e9-4415-aaad-6d98eb19bd56"
      },
      "execution_count": null,
      "outputs": [
        {
          "output_type": "display_data",
          "data": {
            "text/plain": [
              "<Figure size 600x300 with 1 Axes>"
            ],
            "image/png": "[encoded data removed]"
          },
          "metadata": {}
        }
      ]
    },
    {
      "cell_type": "code",
      "source": [
        "# Visualize accuracy\n",
        "\n",
        "acc_classi[['val_acc', 'val_normal_acc', 'val_xavier_acc']].plot(figsize=(6, 3), xlim=[0, num_epochs_classi], xlabel='Epoch')\n",
        "plt.legend(loc='center left', bbox_to_anchor=(1, 0.5))\n",
        "plt.show()"
      ],
      "metadata": {
        "colab": {
          "base_uri": "https://localhost:8080/",
          "height": 311
        },
        "id": "7a20W2bt86DZ",
        "outputId": "c7d78978-3a0e-4906-9027-24b177577da8"
      },
      "execution_count": null,
      "outputs": [
        {
          "output_type": "display_data",
          "data": {
            "text/plain": [
              "<Figure size 600x300 with 1 Axes>"
            ],
            "image/png": "[encoded data removed]"
          },
          "metadata": {}
        }
      ]
    },
    {
      "cell_type": "markdown",
      "source": [
        "Using normal and xavier normal initialization for classifying images in fashion nist data shows that the training and validation accuracy is very high for default and xavier normal initialization wheres it lowers when the weights are intialized using a normal distribution."
      ],
      "metadata": {
        "id": "DZrFsplLB2it"
      }
    },
    {
      "cell_type": "code",
      "source": [],
      "metadata": {
        "id": "lfT5wM5LBVZR"
      },
      "execution_count": null,
      "outputs": []
    }
  ]
}