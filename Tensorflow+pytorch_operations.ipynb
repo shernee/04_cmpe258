{
  "nbformat": 4,
  "nbformat_minor": 0,
  "metadata": {
    "colab": {
      "provenance": [],
      "include_colab_link": true
    },
    "kernelspec": {
      "name": "python3",
      "display_name": "Python 3"
    },
    "language_info": {
      "name": "python"
    }
  },
  "cells": [
    {
      "cell_type": "markdown",
      "metadata": {
        "id": "view-in-github",
        "colab_type": "text"
      },
      "source": [
        "<a href=\"https://colab.research.google.com/github/shernee/04_cmpe258/blob/main/Tensorflow%2Bpytorch_operations.ipynb\" target=\"_parent\"><img src=\"https://colab.research.google.com/assets/colab-badge.svg\" alt=\"Open In Colab\"/></a>"
      ]
    },
    {
      "cell_type": "markdown",
      "source": [
        "# Tensorflow operations"
      ],
      "metadata": {
        "id": "iHy6ybEAQ63j"
      }
    },
    {
      "cell_type": "code",
      "execution_count": null,
      "metadata": {
        "id": "WjTch21OLoRU"
      },
      "outputs": [],
      "source": [
        "#import library\n",
        "import tensorflow as tf\n",
        "import numpy as np"
      ]
    },
    {
      "cell_type": "markdown",
      "source": [
        "## Broadcasting"
      ],
      "metadata": {
        "id": "bBWhozSzdoIL"
      }
    },
    {
      "cell_type": "code",
      "source": [
        "#sample data\n",
        "sample_data = tf.constant([2,3,4])\n",
        "print(\"sample data:\",sample_data)"
      ],
      "metadata": {
        "colab": {
          "base_uri": "https://localhost:8080/"
        },
        "id": "I1FoYVGlRChq",
        "outputId": "02549b54-3251-4aa0-d1a0-d09fdc38f54f"
      },
      "execution_count": null,
      "outputs": [
        {
          "output_type": "stream",
          "name": "stdout",
          "text": [
            "sample data: tf.Tensor([2 3 4], shape=(3,), dtype=int32)\n"
          ]
        }
      ]
    },
    {
      "cell_type": "code",
      "source": [
        "# broadcast sample data\n",
        "broadcast_data = tf.broadcast_to(sample_data, [3,3])\n",
        "print(\"Sample data after broadcasting:\",broadcast_data)"
      ],
      "metadata": {
        "colab": {
          "base_uri": "https://localhost:8080/"
        },
        "id": "fyGKWUIWRS0k",
        "outputId": "d25bc289-864c-40e5-cd8d-2b39b9da1955"
      },
      "execution_count": null,
      "outputs": [
        {
          "output_type": "stream",
          "name": "stdout",
          "text": [
            "Sample data after broadcasting: tf.Tensor(\n",
            "[[2 3 4]\n",
            " [2 3 4]\n",
            " [2 3 4]], shape=(3, 3), dtype=int32)\n"
          ]
        }
      ]
    },
    {
      "cell_type": "code",
      "source": [
        "#tensor with float values\n",
        "rank1_tensor = tf.constant([5.0, 6.0, 7.0, 8.0])\n",
        "print(rank1_tensor)"
      ],
      "metadata": {
        "colab": {
          "base_uri": "https://localhost:8080/"
        },
        "id": "5H8Eb-6JRarb",
        "outputId": "dd8d4795-d36f-4a51-cc47-41977be2d60e"
      },
      "execution_count": null,
      "outputs": [
        {
          "output_type": "stream",
          "name": "stdout",
          "text": [
            "tf.Tensor([5. 6. 7. 8.], shape=(4,), dtype=float32)\n"
          ]
        }
      ]
    },
    {
      "cell_type": "code",
      "source": [
        "#Tensor with three axes\n",
        "rank2_tensor = tf.constant([\n",
        "  [[0, 4, 2, 60],\n",
        "   [5, 7, 10, 8]],\n",
        "  [[10, 19, 12, 13],\n",
        "   [15, 31, 28, 18]],\n",
        "  [[20, 16, 22, 31],\n",
        "   [9, 26, 49, 20]],])\n",
        "\n",
        "print(rank2_tensor)"
      ],
      "metadata": {
        "colab": {
          "base_uri": "https://localhost:8080/"
        },
        "id": "n78u2BG5UkBC",
        "outputId": "6c5f0361-f81a-4c0c-d185-57b513b8178c"
      },
      "execution_count": null,
      "outputs": [
        {
          "output_type": "stream",
          "name": "stdout",
          "text": [
            "tf.Tensor(\n",
            "[[[ 0  4  2 60]\n",
            "  [ 5  7 10  8]]\n",
            "\n",
            " [[10 19 12 13]\n",
            "  [15 31 28 18]]\n",
            "\n",
            " [[20 16 22 31]\n",
            "  [ 9 26 49 20]]], shape=(3, 2, 4), dtype=int32)\n"
          ]
        }
      ]
    },
    {
      "cell_type": "code",
      "source": [
        "#converting tensor to numpy\n",
        "np.array(rank2_tensor)\n",
        "rank2_tensor.numpy()"
      ],
      "metadata": {
        "colab": {
          "base_uri": "https://localhost:8080/"
        },
        "id": "jvVaEYksU254",
        "outputId": "08f990f0-a9a7-4070-9695-0235ae702a6c"
      },
      "execution_count": null,
      "outputs": [
        {
          "output_type": "execute_result",
          "data": {
            "text/plain": [
              "array([[[ 0,  4,  2, 60],\n",
              "        [ 5,  7, 10,  8]],\n",
              "\n",
              "       [[10, 19, 12, 13],\n",
              "        [15, 31, 28, 18]],\n",
              "\n",
              "       [[20, 16, 22, 31],\n",
              "        [ 9, 26, 49, 20]]], dtype=int32)"
            ]
          },
          "metadata": {},
          "execution_count": 10
        }
      ]
    },
    {
      "cell_type": "code",
      "source": [
        "#This is a case of \"stretching\", when you multiply or add a tensor to a scalar. The scalar is broadcast to the same shape as the tensor.\n",
        "x = tf.constant([1, 7, 3])\n",
        "\n",
        "y = tf.constant(5)\n",
        "z = tf.constant([5, 5, 5])\n",
        "# These three end up being computationally similar\n",
        "print(tf.multiply(x, 5))\n",
        "print(x * y)\n",
        "print(x * z)"
      ],
      "metadata": {
        "colab": {
          "base_uri": "https://localhost:8080/"
        },
        "id": "eVoRZDp1Rz-I",
        "outputId": "67b1f525-698c-4dd8-d111-4b9b5cc2d5ad"
      },
      "execution_count": null,
      "outputs": [
        {
          "output_type": "stream",
          "name": "stdout",
          "text": [
            "tf.Tensor([ 5 35 15], shape=(3,), dtype=int32)\n",
            "tf.Tensor([ 5 35 15], shape=(3,), dtype=int32)\n",
            "tf.Tensor([ 5 35 15], shape=(3,), dtype=int32)\n"
          ]
        }
      ]
    },
    {
      "cell_type": "code",
      "source": [
        "#same operations without broadcasting\n",
        "x_stretch = tf.constant([[1, 1, 1],\n",
        "                         [3, 3, 3],\n",
        "                         [5, 5, 5]])\n",
        "\n",
        "y_stretch = tf.constant([[1, 3, 5],\n",
        "                         [1, 3, 5],\n",
        "                         [1, 3, 5]])\n",
        "\n",
        "print(x_stretch * y_stretch) "
      ],
      "metadata": {
        "colab": {
          "base_uri": "https://localhost:8080/"
        },
        "id": "wm4--sU-R13r",
        "outputId": "f31df8bd-0b0e-4b45-96b4-e07ed8720dcc"
      },
      "execution_count": null,
      "outputs": [
        {
          "output_type": "stream",
          "name": "stdout",
          "text": [
            "tf.Tensor(\n",
            "[[ 1  3  5]\n",
            " [ 3  9 15]\n",
            " [ 5 15 25]], shape=(3, 3), dtype=int32)\n"
          ]
        }
      ]
    },
    {
      "cell_type": "code",
      "source": [
        "#tf.broadcast_to\n",
        "\n",
        "print(tf.broadcast_to(tf.constant([3, 5, 7]), [3, 3]))"
      ],
      "metadata": {
        "colab": {
          "base_uri": "https://localhost:8080/"
        },
        "id": "VQfjWiC_YSj7",
        "outputId": "c0d40a8c-7343-4eff-e73c-44a0bfafc9f7"
      },
      "execution_count": null,
      "outputs": [
        {
          "output_type": "stream",
          "name": "stdout",
          "text": [
            "tf.Tensor(\n",
            "[[3 5 7]\n",
            " [3 5 7]\n",
            " [3 5 7]], shape=(3, 3), dtype=int32)\n"
          ]
        }
      ]
    },
    {
      "cell_type": "markdown",
      "source": [
        "## Ragged Tensors"
      ],
      "metadata": {
        "id": "LCauH1wZYrx-"
      }
    },
    {
      "cell_type": "code",
      "source": [
        "#A tensor with variable numbers of elements along some axis is called \"ragged\".\n",
        "\n",
        "ragged_list = [\n",
        "    [0, 7, 2, 9],\n",
        "    [1, 7],\n",
        "    [7, 7, 7],\n",
        "    [11]]\n",
        "\n",
        "ragged_tensor = tf.ragged.constant(ragged_list)\n",
        "print(ragged_tensor)"
      ],
      "metadata": {
        "colab": {
          "base_uri": "https://localhost:8080/"
        },
        "id": "hD4NlnfHYgrU",
        "outputId": "c3e0841b-e551-48a4-93c2-5dcea10043ef"
      },
      "execution_count": null,
      "outputs": [
        {
          "output_type": "stream",
          "name": "stdout",
          "text": [
            "<tf.RaggedTensor [[0, 7, 2, 9], [1, 7], [7, 7, 7], [11]]>\n"
          ]
        }
      ]
    },
    {
      "cell_type": "code",
      "source": [
        "print(ragged_tensor.shape)"
      ],
      "metadata": {
        "colab": {
          "base_uri": "https://localhost:8080/"
        },
        "id": "3Dq6MZaCZkHc",
        "outputId": "3beb19f9-b59f-4f4f-9239-b71578bee7ce"
      },
      "execution_count": null,
      "outputs": [
        {
          "output_type": "stream",
          "name": "stdout",
          "text": [
            "(4, None)\n"
          ]
        }
      ]
    },
    {
      "cell_type": "markdown",
      "source": [
        "## Sparse tensors"
      ],
      "metadata": {
        "id": "UXc7L3miYzyO"
      }
    },
    {
      "cell_type": "code",
      "source": [
        "# When data is sparese, sparse tensors store values by index in a memory-efficient manner\n",
        "sparse_tensor = tf.sparse.SparseTensor(indices=[[0, 1], [1, 2]],\n",
        "                                       values=[1, 2],\n",
        "                                       dense_shape=[4, 4])\n",
        "print(sparse_tensor, \"\\n\")\n",
        "\n",
        "# You can convert sparse tensors to dense\n",
        "print(tf.sparse.to_dense(sparse_tensor))"
      ],
      "metadata": {
        "colab": {
          "base_uri": "https://localhost:8080/"
        },
        "id": "qSKJvaCXY09f",
        "outputId": "d38b3a5e-5444-4a74-8ba4-9fc4b19021b4"
      },
      "execution_count": null,
      "outputs": [
        {
          "output_type": "stream",
          "name": "stdout",
          "text": [
            "SparseTensor(indices=tf.Tensor(\n",
            "[[0 1]\n",
            " [1 2]], shape=(2, 2), dtype=int64), values=tf.Tensor([1 2], shape=(2,), dtype=int32), dense_shape=tf.Tensor([4 4], shape=(2,), dtype=int64)) \n",
            "\n",
            "tf.Tensor(\n",
            "[[0 1 0 0]\n",
            " [0 0 2 0]\n",
            " [0 0 0 0]\n",
            " [0 0 0 0]], shape=(4, 4), dtype=int32)\n"
          ]
        }
      ]
    },
    {
      "cell_type": "markdown",
      "source": [
        "## String tensors"
      ],
      "metadata": {
        "id": "biGkcD25Y1Wv"
      }
    },
    {
      "cell_type": "code",
      "source": [
        "#scalar string tensor - length of string is not represented as an axis value\n",
        "scalar_string_tensor = tf.constant(\"This is true\")\n",
        "print(scalar_string_tensor)"
      ],
      "metadata": {
        "colab": {
          "base_uri": "https://localhost:8080/"
        },
        "id": "KhFYyNsNY6w1",
        "outputId": "cf27515e-81fd-4a14-a6d3-9a353936017b"
      },
      "execution_count": null,
      "outputs": [
        {
          "output_type": "stream",
          "name": "stdout",
          "text": [
            "tf.Tensor(b'This is true', shape=(), dtype=string)\n"
          ]
        }
      ]
    },
    {
      "cell_type": "code",
      "source": [
        "tensor_of_strings = tf.constant([\"This is true\",\n",
        "                                 \"Only this\",\n",
        "                                 \"Not that\"])\n",
        "\n",
        "print(tensor_of_strings)\n",
        "# string length is not an axis value"
      ],
      "metadata": {
        "colab": {
          "base_uri": "https://localhost:8080/"
        },
        "id": "y0TZIFZSaEWu",
        "outputId": "41df36f4-3b1e-413e-88ce-1b7171de1c92"
      },
      "execution_count": null,
      "outputs": [
        {
          "output_type": "stream",
          "name": "stdout",
          "text": [
            "tf.Tensor([b'This is true' b'Only this' b'Not that'], shape=(3,), dtype=string)\n"
          ]
        }
      ]
    },
    {
      "cell_type": "code",
      "source": [
        "# split a string into a set of tensors\n",
        "print(tf.strings.split(scalar_string_tensor, sep=\" \"))"
      ],
      "metadata": {
        "colab": {
          "base_uri": "https://localhost:8080/"
        },
        "id": "esA7--_qaF8z",
        "outputId": "764fcb55-ddab-46b7-91f3-6a89e8b4e376"
      },
      "execution_count": null,
      "outputs": [
        {
          "output_type": "stream",
          "name": "stdout",
          "text": [
            "tf.Tensor([b'This' b'is' b'true'], shape=(3,), dtype=string)\n"
          ]
        }
      ]
    },
    {
      "cell_type": "code",
      "source": [
        "print(tf.strings.split(tensor_of_strings))"
      ],
      "metadata": {
        "colab": {
          "base_uri": "https://localhost:8080/"
        },
        "id": "Vneb9Fe4aOvB",
        "outputId": "ec97ca75-a392-4bb9-aa8c-c89e19400ad4"
      },
      "execution_count": null,
      "outputs": [
        {
          "output_type": "stream",
          "name": "stdout",
          "text": [
            "<tf.RaggedTensor [[b'This', b'is', b'true'], [b'Only', b'this'], [b'Not', b'that']]>\n"
          ]
        }
      ]
    },
    {
      "cell_type": "code",
      "source": [
        "#convert string to a number\n",
        "text = tf.constant(\"2 50 200\")\n",
        "print(tf.strings.to_number(tf.strings.split(text, \" \")))"
      ],
      "metadata": {
        "colab": {
          "base_uri": "https://localhost:8080/"
        },
        "id": "MHP5SQPTaSi3",
        "outputId": "62dd745e-bf9c-49cf-d5cd-2dad04a5339f"
      },
      "execution_count": null,
      "outputs": [
        {
          "output_type": "stream",
          "name": "stdout",
          "text": [
            "tf.Tensor([  2.  50. 200.], shape=(3,), dtype=float32)\n"
          ]
        }
      ]
    },
    {
      "cell_type": "code",
      "source": [
        "#converting string to bytes and then to numbers\n",
        "byte_strings = tf.strings.bytes_split(tf.constant(\"String\"))\n",
        "byte_ints = tf.io.decode_raw(tf.constant(\"String\"), tf.uint8)\n",
        "print(\"Byte strings:\", byte_strings)\n",
        "print(\"Bytes:\", byte_ints)"
      ],
      "metadata": {
        "colab": {
          "base_uri": "https://localhost:8080/"
        },
        "id": "pdVzFCSaamaY",
        "outputId": "e1280480-e99c-4eb5-b1e7-82d680b84ead"
      },
      "execution_count": null,
      "outputs": [
        {
          "output_type": "stream",
          "name": "stdout",
          "text": [
            "Byte strings: tf.Tensor([b'S' b't' b'r' b'i' b'n' b'g'], shape=(6,), dtype=string)\n",
            "Bytes: tf.Tensor([ 83 116 114 105 110 103], shape=(6,), dtype=uint8)\n"
          ]
        }
      ]
    },
    {
      "cell_type": "code",
      "source": [
        "#splitting strings as unicode and then decode it\n",
        "unicode_bytes = tf.constant(\"₹ヒ😒 ಉ\")\n",
        "unicode_char_bytes = tf.strings.unicode_split(unicode_bytes, \"UTF-8\")\n",
        "unicode_values = tf.strings.unicode_decode(unicode_bytes, \"UTF-8\")\n",
        "\n",
        "print(\"\\nUnicode bytes:\", unicode_bytes)\n",
        "print(\"\\nUnicode chars:\", unicode_char_bytes)\n",
        "print(\"\\nUnicode values:\", unicode_values)"
      ],
      "metadata": {
        "colab": {
          "base_uri": "https://localhost:8080/"
        },
        "id": "f5Oafjd-a1EI",
        "outputId": "63fe0839-2a2f-4d47-8abc-ecfc2cc2db5f"
      },
      "execution_count": null,
      "outputs": [
        {
          "output_type": "stream",
          "name": "stdout",
          "text": [
            "\n",
            "Unicode bytes: tf.Tensor(b'\\xe2\\x82\\xb9\\xe3\\x83\\x92\\xf0\\x9f\\x98\\x92 \\xe0\\xb2\\x89', shape=(), dtype=string)\n",
            "\n",
            "Unicode chars: tf.Tensor([b'\\xe2\\x82\\xb9' b'\\xe3\\x83\\x92' b'\\xf0\\x9f\\x98\\x92' b' ' b'\\xe0\\xb2\\x89'], shape=(5,), dtype=string)\n",
            "\n",
            "Unicode values: tf.Tensor([  8377  12498 128530     32   3209], shape=(5,), dtype=int32)\n"
          ]
        }
      ]
    },
    {
      "cell_type": "markdown",
      "source": [
        "## Named tensors"
      ],
      "metadata": {
        "id": "LUhtYUz0Y7Mc"
      }
    },
    {
      "cell_type": "code",
      "source": [
        "my_tensor = tf.constant([[1.0, 2.0, 3.0], [11.0, 12.0, 13.0]])\n",
        "my_variable = tf.Variable(my_tensor)\n",
        "\n",
        "# Different types of variables\n",
        "bool_variable = tf.Variable([False, True, False])\n",
        "complex_variable = tf.Variable([5 + 10j, 6 + 12j])\n",
        "# a and b have the same name but different tensors.\n",
        "a = tf.Variable(my_tensor, name=\"Jake\")\n",
        "# same name, different value\n",
        "b = tf.Variable(my_tensor + 2, name=\"Jake\")\n",
        "\n",
        "print(\"Are a and b equal\", a == b)"
      ],
      "metadata": {
        "colab": {
          "base_uri": "https://localhost:8080/"
        },
        "id": "NW2o0bayZG-F",
        "outputId": "219660f7-1433-4b1b-fa72-d9d72c38df46"
      },
      "execution_count": null,
      "outputs": [
        {
          "output_type": "stream",
          "name": "stdout",
          "text": [
            "Are a and b equal tf.Tensor(\n",
            "[[False False False]\n",
            " [False False False]], shape=(2, 3), dtype=bool)\n"
          ]
        }
      ]
    },
    {
      "cell_type": "markdown",
      "source": [
        "#Operations in Pytorch"
      ],
      "metadata": {
        "id": "GARAnJNOdcsc"
      }
    },
    {
      "cell_type": "code",
      "source": [
        "import torch"
      ],
      "metadata": {
        "id": "ZcREbdgjgbHj"
      },
      "execution_count": null,
      "outputs": []
    },
    {
      "cell_type": "markdown",
      "source": [
        "## Broadcasting"
      ],
      "metadata": {
        "id": "3CGYk6GIdggb"
      }
    },
    {
      "cell_type": "code",
      "source": [
        "tensor1 = torch.tensor([[1, 5], [6, 3]])\n",
        "tensor2 = torch.tensor([[3, 2]])\n",
        "tensor3 = torch.tensor([[5], [10]])\n",
        "tensor4 = torch.tensor([8])\n",
        "\n",
        "print(tensor1.shape)\n",
        "\n",
        "print(tensor2.shape)\n",
        "\n",
        "print(tensor3.shape)\n",
        "\n",
        "print(tensor4.shape)\n",
        "\n",
        "\n",
        "print(tensor1 + tensor2)\n",
        "\n",
        "print(tensor1 + tensor3)\n",
        "\n",
        "print(tensor2 + tensor3)\n",
        "\n",
        "print(tensor1 + tensor4)\n"
      ],
      "metadata": {
        "colab": {
          "base_uri": "https://localhost:8080/"
        },
        "id": "HaFl9HeCgPFh",
        "outputId": "6f1a650c-fad2-4bc5-a07a-06917e63f234"
      },
      "execution_count": null,
      "outputs": [
        {
          "output_type": "stream",
          "name": "stdout",
          "text": [
            "torch.Size([2, 2])\n",
            "torch.Size([1, 2])\n",
            "torch.Size([2, 1])\n",
            "torch.Size([1])\n",
            "tensor([[4, 7],\n",
            "        [9, 5]])\n",
            "tensor([[ 6, 10],\n",
            "        [16, 13]])\n",
            "tensor([[ 8,  7],\n",
            "        [13, 12]])\n",
            "tensor([[ 9, 13],\n",
            "        [14, 11]])\n"
          ]
        }
      ]
    },
    {
      "cell_type": "markdown",
      "source": [
        "## Ragged Tensors - Nested tensors"
      ],
      "metadata": {
        "id": "GAFFG09sgjRa"
      }
    },
    {
      "cell_type": "code",
      "source": [
        "a = torch.randn(30, 60) # text 1\n",
        "nt = torch.nested.nested_tensor([a, a], dtype=torch.float32)\n",
        "nt.size(0)\n",
        "2\n",
        "nt.size(1)\n",
        "20\n",
        "nt.size(2)\n",
        "128\n",
        "torch.stack(nt.unbind()).size()\n",
        "torch.Size([2, 20, 128])\n",
        "torch.stack([a, a]).size()\n",
        "torch.Size([2, 20, 128])\n",
        "torch.equal(torch.stack(nt.unbind()), torch.stack([a, a]))\n"
      ],
      "metadata": {
        "colab": {
          "base_uri": "https://localhost:8080/"
        },
        "id": "9-4TEc8mge_t",
        "outputId": "75f5b74e-61fa-47e1-f390-11a8f90f2e21"
      },
      "execution_count": null,
      "outputs": [
        {
          "output_type": "stream",
          "name": "stderr",
          "text": [
            "/usr/local/lib/python3.8/dist-packages/torch/nested/__init__.py:47: UserWarning: The PyTorch API of nested tensors is in prototype stage and will change in the near future. (Triggered internally at ../aten/src/ATen/NestedTensorImpl.cpp:175.)\n",
            "  nt = torch._nested_tensor_from_tensor_list(new_data, dtype, None, device, pin_memory)\n"
          ]
        },
        {
          "output_type": "execute_result",
          "data": {
            "text/plain": [
              "True"
            ]
          },
          "metadata": {},
          "execution_count": 34
        }
      ]
    },
    {
      "cell_type": "markdown",
      "source": [
        "## Sparse Tensors"
      ],
      "metadata": {
        "id": "zsWhSwhshL4h"
      }
    },
    {
      "cell_type": "code",
      "source": [
        "a = torch.tensor([[0, 3.], [10, 0]])\n",
        "a.to_sparse()"
      ],
      "metadata": {
        "colab": {
          "base_uri": "https://localhost:8080/"
        },
        "id": "DpW8ezDfhGdI",
        "outputId": "5a937bec-d41a-4c96-aa17-42bd8dbb513b"
      },
      "execution_count": null,
      "outputs": [
        {
          "output_type": "execute_result",
          "data": {
            "text/plain": [
              "tensor(indices=tensor([[0, 1],\n",
              "                       [1, 0]]),\n",
              "       values=tensor([ 3., 10.]),\n",
              "       size=(2, 2), nnz=2, layout=torch.sparse_coo)"
            ]
          },
          "metadata": {},
          "execution_count": 35
        }
      ]
    },
    {
      "cell_type": "code",
      "source": [
        "t = torch.tensor([[[1., 0], [2., 5.]], [[7., 0], [8., 6.]]])\n",
        "t.dim()\n",
        "t.to_sparse_csr()"
      ],
      "metadata": {
        "colab": {
          "base_uri": "https://localhost:8080/"
        },
        "id": "ajeO3kXZhSjm",
        "outputId": "02f4165b-f6f3-4cb8-93d8-c30e04a5b4ef"
      },
      "execution_count": null,
      "outputs": [
        {
          "output_type": "stream",
          "name": "stderr",
          "text": [
            "<ipython-input-36-1dda343efd5a>:3: UserWarning: Sparse CSR tensor support is in beta state. If you miss a functionality in the sparse tensor support, please submit a feature request to https://github.com/pytorch/pytorch/issues. (Triggered internally at ../aten/src/ATen/SparseCsrTensorImpl.cpp:54.)\n",
            "  t.to_sparse_csr()\n"
          ]
        },
        {
          "output_type": "execute_result",
          "data": {
            "text/plain": [
              "tensor(crow_indices=tensor([[0, 1, 3],\n",
              "                            [0, 1, 3]]),\n",
              "       col_indices=tensor([[0, 0, 1],\n",
              "                           [0, 0, 1]]),\n",
              "       values=tensor([[1., 2., 5.],\n",
              "                      [7., 8., 6.]]), size=(2, 2, 2), nnz=3,\n",
              "       layout=torch.sparse_csr)"
            ]
          },
          "metadata": {},
          "execution_count": 36
        }
      ]
    },
    {
      "cell_type": "markdown",
      "source": [
        "## Named tensors"
      ],
      "metadata": {
        "id": "H1MCqnmkhyud"
      }
    },
    {
      "cell_type": "code",
      "source": [
        "#Factory functions take a new names argument that associates a name with each dimension.\n",
        "torch.zeros(2, 3, names=('A', 'S'))\n",
        "\n"
      ],
      "metadata": {
        "colab": {
          "base_uri": "https://localhost:8080/"
        },
        "id": "YRZ5X5-thc1K",
        "outputId": "9d84c754-22b8-47f1-c98b-cd21f2247f2e"
      },
      "execution_count": null,
      "outputs": [
        {
          "output_type": "stream",
          "name": "stderr",
          "text": [
            "<ipython-input-37-4c2c60ec320c>:2: UserWarning: Named tensors and all their associated APIs are an experimental feature and subject to change. Please do not use them for anything important until they are released as stable. (Triggered internally at ../c10/core/TensorImpl.h:1758.)\n",
            "  torch.zeros(2, 3, names=('A', 'S'))\n"
          ]
        },
        {
          "output_type": "execute_result",
          "data": {
            "text/plain": [
              "tensor([[0., 0., 0.],\n",
              "        [0., 0., 0.]], names=('A', 'S'))"
            ]
          },
          "metadata": {},
          "execution_count": 37
        }
      ]
    },
    {
      "cell_type": "code",
      "source": [
        "imgs = torch.randn(1, 2, 2, 3 , names=('A', 'S', 'H', 'W'))\n",
        "imgs.names\n",
        "renamed_imgs = imgs.rename(H='height', W='width')\n",
        "renamed_imgs.names"
      ],
      "metadata": {
        "colab": {
          "base_uri": "https://localhost:8080/"
        },
        "id": "AljcWoyth-m4",
        "outputId": "3f91d46e-50f2-4d04-ba23-56304cb0a01f"
      },
      "execution_count": null,
      "outputs": [
        {
          "output_type": "execute_result",
          "data": {
            "text/plain": [
              "('A', 'S', 'height', 'width')"
            ]
          },
          "metadata": {},
          "execution_count": 41
        }
      ]
    },
    {
      "cell_type": "code",
      "source": [
        "x = torch.randn(5, names=('N',))\n",
        "y = torch.randn(5)\n",
        "z = torch.randn(5, names=('P',))"
      ],
      "metadata": {
        "id": "mQFXXnPBiGsl"
      },
      "execution_count": null,
      "outputs": []
    },
    {
      "cell_type": "code",
      "source": [
        "(x + y).names\n",
        "(x + x).names"
      ],
      "metadata": {
        "colab": {
          "base_uri": "https://localhost:8080/"
        },
        "id": "oWp3RjNOiNpI",
        "outputId": "7e40c6d0-a316-4dac-86e1-9e2126583d35"
      },
      "execution_count": null,
      "outputs": [
        {
          "output_type": "execute_result",
          "data": {
            "text/plain": [
              "('N',)"
            ]
          },
          "metadata": {},
          "execution_count": 43
        }
      ]
    },
    {
      "cell_type": "markdown",
      "source": [
        "## String tensors"
      ],
      "metadata": {
        "id": "yGtejwmLidDV"
      }
    },
    {
      "cell_type": "code",
      "source": [
        "#The two ways to have string tensors is to convert a string toits ASCII values and save that as a tensor\n",
        "#or encode strings using sklearn and convert the encodings to tensors\n",
        "from sklearn import preprocessing\n",
        "labels = ['have', 'a', 'nice', 'day']\n",
        "le = preprocessing.LabelEncoder()\n",
        "targets = le.fit_transform(labels)\n",
        "targets = torch.as_tensor(targets)\n",
        "print(targets)"
      ],
      "metadata": {
        "colab": {
          "base_uri": "https://localhost:8080/"
        },
        "id": "OORD_PtQifsm",
        "outputId": "1f5ace86-bc46-4d42-9e6b-65508d26ea34"
      },
      "execution_count": null,
      "outputs": [
        {
          "output_type": "stream",
          "name": "stdout",
          "text": [
            "tensor([2, 0, 3, 1])\n"
          ]
        }
      ]
    },
    {
      "cell_type": "markdown",
      "source": [
        "#Implement linear search using tensor flow"
      ],
      "metadata": {
        "id": "CHwScjDLkBoW"
      }
    },
    {
      "cell_type": "code",
      "source": [
        "#!/usr/bin/env python\n",
        "from __future__ import absolute_import\n",
        "from __future__ import division\n",
        "from __future__ import print_function\n",
        "# import tensorflow.compat.v1 as tf\n",
        "import tensorflow._api.v2.compat.v1 as v1\n",
        "v1.disable_v2_behavior()\n",
        "\n",
        "import numpy as np\n",
        "\n",
        "class LinearSearch():\n",
        "    def __init__(self, array, x):\n",
        "        self.x = tf.constant(x)\n",
        "        self.array = tf.constant(array)\n",
        "        self.length = len(array)\n",
        "        self.graph = tf.while_loop(self.cond, self.body, [0, self.x, False],\n",
        "                            back_prop=False)\n",
        "\n",
        "    def run(self):\n",
        "        with tf.compat.v1.Session() as sess:\n",
        "            tf.compat.v1.disable_eager_execution()\n",
        "            tf.compat.v1.global_variables_initializer().run()\n",
        "            return sess.run(self.graph)\n",
        "\n",
        "    def cond(self, i, _, is_found):\n",
        "        return tf.logical_and(tf.less(i, self.length), tf.logical_not(is_found))\n",
        "\n",
        "    def body(self, i, _, is_found):\n",
        "        return tf.cond(tf.equal(self.array[i], self.x),\n",
        "                    lambda: (i, self.array[i], True),\n",
        "                    lambda: (tf.add(i, 1), -1, False))\n",
        "\n",
        "if __name__ == '__main__':\n",
        "    array, x = [1, 100, 25, 50, 500], 25\n",
        "    search = LinearSearch(array, x)\n",
        "    ix, xx, is_found = ret = search.run()\n",
        "    print('Array to search :', array)\n",
        "    print('Number to search :', x)\n",
        "    if is_found:\n",
        "        print('{} is at index {}.'.format(xx, ix))\n",
        "    else:\n",
        "        print('Number not found.')"
      ],
      "metadata": {
        "colab": {
          "base_uri": "https://localhost:8080/"
        },
        "id": "PxiCyWw8kQwR",
        "outputId": "0c79f301-f13e-4790-937a-8bbad0dd5590"
      },
      "execution_count": null,
      "outputs": [
        {
          "output_type": "stream",
          "name": "stderr",
          "text": [
            "WARNING:tensorflow:From /usr/local/lib/python3.8/dist-packages/tensorflow/python/compat/v2_compat.py:107: disable_resource_variables (from tensorflow.python.ops.variable_scope) is deprecated and will be removed in a future version.\n",
            "Instructions for updating:\n",
            "non-resource variables are not supported in the long term\n",
            "WARNING:tensorflow:From <ipython-input-45-514da5191dd6>:16: calling while_loop_v2 (from tensorflow.python.ops.control_flow_ops) with back_prop=False is deprecated and will be removed in a future version.\n",
            "Instructions for updating:\n",
            "back_prop=False is deprecated. Consider using tf.stop_gradient instead.\n",
            "Instead of:\n",
            "results = tf.while_loop(c, b, vars, back_prop=False)\n",
            "Use:\n",
            "results = tf.nest.map_structure(tf.stop_gradient, tf.while_loop(c, b, vars))\n"
          ]
        },
        {
          "output_type": "stream",
          "name": "stdout",
          "text": [
            "Array to search : [1, 100, 25, 50, 500]\n",
            "Number to search : 25\n",
            "25 is at index 2.\n"
          ]
        }
      ]
    },
    {
      "cell_type": "markdown",
      "source": [
        "#Implement Binary search using tensor flow"
      ],
      "metadata": {
        "id": "iNIQ3DL4k3zh"
      }
    },
    {
      "cell_type": "code",
      "source": [
        "#!/usr/bin/env python\n",
        "from __future__ import absolute_import\n",
        "from __future__ import division\n",
        "from __future__ import print_function\n",
        "# import tensorflow.compat.v1 as tf\n",
        "import tensorflow._api.v2.compat.v1 as v1\n",
        "v1.disable_v2_behavior()\n",
        "\n",
        "import numpy as np\n",
        "\n",
        "class BinarySearch():\n",
        "    def __init__(self, array, x):\n",
        "        self.array = tf.constant(array)\n",
        "        self.x = tf.constant(x)\n",
        "        self.loop = tf.while_loop(self.cond, self.body, [-1,False,0,len(array),-1],\n",
        "                        back_prop=False)\n",
        "\n",
        "    def run(self):\n",
        "        with tf.compat.v1.Session() as sess:\n",
        "            tf.compat.v1.disable_eager_execution()\n",
        "            tf.compat.v1.global_variables_initializer().run()\n",
        "            return sess.run(self.loop)\n",
        "\n",
        "    def cond(self, x, is_found, left, right, mid):\n",
        "        return tf.logical_and(tf.less_equal(left, right), tf.logical_not(is_found))\n",
        "\n",
        "    def body(self, x, is_found, left, right, mid):\n",
        "        mid = tf.cast(tf.divide(tf.add(left, right), 2),tf.int32)\n",
        "        return tf.cond(tf.equal(self.array[mid], self.x),\n",
        "                    lambda: (self.array[mid], True, left, right, mid),\n",
        "                    lambda: tf.cond(tf.less(self.array[mid], self.x),\n",
        "                                lambda: (-1, False, tf.add(mid, 1), right, mid),\n",
        "                                lambda: (-1, False, left, tf.subtract(mid, 1), mid)))\n",
        "\n",
        "if __name__ == '__main__':\n",
        "    array = sorted([21, 10, 42, 60, 5])\n",
        "    x = 21\n",
        "    search = BinarySearch(array, x)\n",
        "    xx, is_found, l, r, m = search.run()\n",
        "\n",
        "    print('Array to search:', array)\n",
        "    print('Number to search :', x)\n",
        "    if is_found:\n",
        "        print('{} is at index {}.'.format(xx, m))\n",
        "    else:\n",
        "        print('Number not found.')"
      ],
      "metadata": {
        "colab": {
          "base_uri": "https://localhost:8080/"
        },
        "id": "Sut7lqD4k79K",
        "outputId": "a4c18c9e-3a51-4498-a5d5-df217af30a5a"
      },
      "execution_count": null,
      "outputs": [
        {
          "output_type": "stream",
          "name": "stdout",
          "text": [
            "Array to search: [5, 10, 21, 42, 60]\n",
            "Number to search : 21\n",
            "21 is at index 2.\n"
          ]
        }
      ]
    },
    {
      "cell_type": "markdown",
      "source": [
        "#Insertion sort using tensor flow"
      ],
      "metadata": {
        "id": "TF11_GGEpulr"
      }
    },
    {
      "cell_type": "code",
      "source": [
        "#!/usr/bin/env python\n",
        "from __future__ import absolute_import\n",
        "from __future__ import division\n",
        "from __future__ import print_function\n",
        "\n",
        "import numpy as np\n",
        "import tensorflow._api.v2.compat.v1 as v1\n",
        "v1.disable_v2_behavior()\n",
        "np.random.seed(123)\n",
        "\n",
        "\n",
        "class InsertionSort():\n",
        "    def __init__(self, array):\n",
        "        self.i = tf.constant(1)\n",
        "        self.j = tf.constant(len(array)-1)\n",
        "        self.array = tf.Variable(array, trainable=False)\n",
        "        self.length = len(array)\n",
        "\n",
        "        cond = lambda i, j, _: tf.less(i-1, self.length-1)\n",
        "        self.graph = tf.while_loop(cond, self.outer_loop, loop_vars=[self.i, self.j, self.array],\n",
        "                shape_invariants=[self.i.get_shape(), self.j.get_shape(), tf.TensorShape(self.length)],\n",
        "                parallel_iterations=1,\n",
        "                back_prop=False)\n",
        "\n",
        "    def run(self):\n",
        "        with tf.compat.v1.Session() as sess:\n",
        "            tf.compat.v1.disable_eager_execution()\n",
        "            tf.compat.v1.global_variables_initializer().run()\n",
        "            return sess.run(self.graph)\n",
        "\n",
        "    def outer_loop(self, i, j, _):\n",
        "        j = i\n",
        "        cond = lambda i, j, array: tf.logical_and(tf.greater(j,0), tf.greater(array[j-1], array[j]))\n",
        "\n",
        "        loop = tf.while_loop(cond, self.inner_loop, loop_vars=[i, j, self.array],\n",
        "                    shape_invariants=[i.get_shape(), j.get_shape(), tf.TensorShape(self.length)],\n",
        "                    parallel_iterations=1,\n",
        "                    back_prop=False)\n",
        "        return tf.add(i, 1), loop[1], loop[2]\n",
        "\n",
        "    def inner_loop(self, i, j, _):\n",
        "        return i, tf.subtract(j, 1), tf.compat.v1.scatter_nd_update(self.array, [[j-1],[j]], [self.array[j],self.array[j-1]])\n",
        "\n",
        "\n",
        "with tf.compat.v1.Session() as sess:\n",
        "    x = np.array([1.,5.,8.,10.])\n",
        "    print(x)\n",
        "    print(InsertionSort(x).run()[2])\n",
        "    y = np.random.rand(10)\n",
        "    print(y)\n",
        "    print(InsertionSort(y).run()[2])"
      ],
      "metadata": {
        "colab": {
          "base_uri": "https://localhost:8080/"
        },
        "id": "vrRA_xgwp08M",
        "outputId": "c83f84f5-7f2b-43bc-b5b0-f19578b0eb6e"
      },
      "execution_count": null,
      "outputs": [
        {
          "output_type": "stream",
          "name": "stdout",
          "text": [
            "[ 1.  5.  8. 10.]\n",
            "[ 1.  5.  8. 10.]\n",
            "[0.69646919 0.28613933 0.22685145 0.55131477 0.71946897 0.42310646\n",
            " 0.9807642  0.68482974 0.4809319  0.39211752]\n",
            "[0.22685145 0.28613933 0.39211752 0.42310646 0.4809319  0.55131477\n",
            " 0.68482974 0.69646919 0.71946897 0.9807642 ]\n"
          ]
        }
      ]
    },
    {
      "cell_type": "code",
      "source": [],
      "metadata": {
        "id": "WCKN6VYU41R8"
      },
      "execution_count": null,
      "outputs": []
    }
  ]
}